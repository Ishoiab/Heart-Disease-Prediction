{
 "cells": [
  {
   "cell_type": "markdown",
   "id": "a7b42569",
   "metadata": {
    "papermill": {
     "duration": 0.016881,
     "end_time": "2024-02-15T10:52:34.874133",
     "exception": false,
     "start_time": "2024-02-15T10:52:34.857252",
     "status": "completed"
    },
    "tags": []
   },
   "source": [
    "# 3 Approaches to the project\n",
    "1. In our first approach, we coded a basic neural network from scratch using NumPy. We did this so that we can understand all the computations that are done during forward and backward propagation and learn how to implement those computations in code.\n",
    "2. In our second approach we used keras built on top of tensorflow to create the same model as the first one and train it on the same dataset. We have also used **Genetic Algorithm to optimise some of the parameters of the model**.\n",
    "3. Dissatisfied with the results of the first dataset, we used a higher quality dataset in the third approach to train the neural networks built in the first two approaches and see how they perform."
   ]
  },
  {
   "cell_type": "markdown",
   "id": "da4860d9",
   "metadata": {
    "_cell_guid": "b28d8a35-10b7-4e7b-8fb2-0c3d3651a1a7",
    "_uuid": "5540fe5a-0ff4-44df-8da6-1458f4c43792",
    "papermill": {
     "duration": 0.015847,
     "end_time": "2024-02-15T10:52:34.906501",
     "exception": false,
     "start_time": "2024-02-15T10:52:34.890654",
     "status": "completed"
    },
    "tags": []
   },
   "source": [
    "# Setup\n",
    "Firstly, we will need to import the necessary libraries to pre-process the data and create a neural network model. We will code a neural network from scratch using NumPy in our first approach. For the second approach we will be using keras built on top of tensorflow to create a model with the same architecture. For the third approach we will test our tensorflow model on another dataset."
   ]
  },
  {
   "cell_type": "code",
   "execution_count": 1,
   "id": "0ab930f6",
   "metadata": {
    "_cell_guid": "9785aec1-2a8a-4d9f-abf0-1596bdb8ee18",
    "_uuid": "b17e9834-66f0-4f28-abd9-1b34b717b0de",
    "collapsed": false,
    "execution": {
     "iopub.execute_input": "2024-02-15T10:52:34.941793Z",
     "iopub.status.busy": "2024-02-15T10:52:34.941411Z",
     "iopub.status.idle": "2024-02-15T10:52:49.483958Z",
     "shell.execute_reply": "2024-02-15T10:52:49.482976Z"
    },
    "jupyter": {
     "outputs_hidden": false
    },
    "papermill": {
     "duration": 14.56296,
     "end_time": "2024-02-15T10:52:49.486105",
     "exception": false,
     "start_time": "2024-02-15T10:52:34.923145",
     "status": "completed"
    },
    "tags": []
   },
   "outputs": [
    {
     "name": "stderr",
     "output_type": "stream",
     "text": [
      "/opt/conda/lib/python3.10/site-packages/scipy/__init__.py:146: UserWarning: A NumPy version >=1.16.5 and <1.23.0 is required for this version of SciPy (detected version 1.24.3\n",
      "  warnings.warn(f\"A NumPy version >={np_minversion} and <{np_maxversion}\"\n"
     ]
    },
    {
     "name": "stdout",
     "output_type": "stream",
     "text": [
      "/kaggle/input/heart-failure-prediction/heart.csv\n",
      "/kaggle/input/heart-attack-prediction-dataset/heart_attack_prediction_dataset.csv\n",
      "/kaggle/input/heart-failure-prediction/heart.csv\n",
      "/kaggle/input/heart-attack-prediction-dataset/heart_attack_prediction_dataset.csv\n"
     ]
    }
   ],
   "source": [
    "import tensorflow as tf\n",
    "from sklearn.metrics import accuracy_score, confusion_matrix, classification_report\n",
    "from tensorflow.keras import Sequential\n",
    "from tensorflow.keras.layers import Dense\n",
    "from keras.utils import plot_model\n",
    "import numpy as np # linear algebra\n",
    "import pandas as pd # data processing, CSV file I/O (e.g. pd.read_csv)\n",
    "# Set seed for NumPy\n",
    "np.random.seed(42)\n",
    "# Set seed for TensorFlow\n",
    "tf.random.set_seed(42)\n",
    "\n",
    "import os\n",
    "for dirname, _, filenames in os.walk('/kaggle/input'):\n",
    "    for filename in filenames:\n",
    "        print(os.path.join(dirname, filename))\n",
    "\n",
    "import os\n",
    "for dirname, _, filenames in os.walk('/kaggle/input'):\n",
    "    for filename in filenames:\n",
    "        print(os.path.join(dirname, filename))"
   ]
  },
  {
   "cell_type": "markdown",
   "id": "f9cb4373",
   "metadata": {
    "_cell_guid": "08184fd4-d54c-4e73-bee8-408a832365b9",
    "_uuid": "1eb74b10-3438-4131-b2fd-e149ccfc5605",
    "papermill": {
     "duration": 0.016994,
     "end_time": "2024-02-15T10:52:49.520089",
     "exception": false,
     "start_time": "2024-02-15T10:52:49.503095",
     "status": "completed"
    },
    "tags": []
   },
   "source": [
    "# Importing the dataset and looking at the first five rows\n",
    "> We will use the pandas library to import the training data and store it in the 'file' variable as a pandas DataFrame."
   ]
  },
  {
   "cell_type": "code",
   "execution_count": 2,
   "id": "41aaf4e5",
   "metadata": {
    "_cell_guid": "ce810695-ff06-4a07-9603-d9af01e7f333",
    "_uuid": "b1add34c-5756-4bdd-aff5-6f1186a913e2",
    "collapsed": false,
    "execution": {
     "iopub.execute_input": "2024-02-15T10:52:49.554597Z",
     "iopub.status.busy": "2024-02-15T10:52:49.554099Z",
     "iopub.status.idle": "2024-02-15T10:52:49.658677Z",
     "shell.execute_reply": "2024-02-15T10:52:49.657761Z"
    },
    "jupyter": {
     "outputs_hidden": false
    },
    "papermill": {
     "duration": 0.124084,
     "end_time": "2024-02-15T10:52:49.660645",
     "exception": false,
     "start_time": "2024-02-15T10:52:49.536561",
     "status": "completed"
    },
    "tags": []
   },
   "outputs": [
    {
     "data": {
      "text/html": [
       "<div>\n",
       "<style scoped>\n",
       "    .dataframe tbody tr th:only-of-type {\n",
       "        vertical-align: middle;\n",
       "    }\n",
       "\n",
       "    .dataframe tbody tr th {\n",
       "        vertical-align: top;\n",
       "    }\n",
       "\n",
       "    .dataframe thead th {\n",
       "        text-align: right;\n",
       "    }\n",
       "</style>\n",
       "<table border=\"1\" class=\"dataframe\">\n",
       "  <thead>\n",
       "    <tr style=\"text-align: right;\">\n",
       "      <th></th>\n",
       "      <th>Patient ID</th>\n",
       "      <th>Age</th>\n",
       "      <th>Sex</th>\n",
       "      <th>Cholesterol</th>\n",
       "      <th>Blood Pressure</th>\n",
       "      <th>Heart Rate</th>\n",
       "      <th>Diabetes</th>\n",
       "      <th>Family History</th>\n",
       "      <th>Smoking</th>\n",
       "      <th>Obesity</th>\n",
       "      <th>...</th>\n",
       "      <th>Sedentary Hours Per Day</th>\n",
       "      <th>Income</th>\n",
       "      <th>BMI</th>\n",
       "      <th>Triglycerides</th>\n",
       "      <th>Physical Activity Days Per Week</th>\n",
       "      <th>Sleep Hours Per Day</th>\n",
       "      <th>Country</th>\n",
       "      <th>Continent</th>\n",
       "      <th>Hemisphere</th>\n",
       "      <th>Heart Attack Risk</th>\n",
       "    </tr>\n",
       "  </thead>\n",
       "  <tbody>\n",
       "    <tr>\n",
       "      <th>0</th>\n",
       "      <td>BMW7812</td>\n",
       "      <td>67</td>\n",
       "      <td>Male</td>\n",
       "      <td>208</td>\n",
       "      <td>158/88</td>\n",
       "      <td>72</td>\n",
       "      <td>0</td>\n",
       "      <td>0</td>\n",
       "      <td>1</td>\n",
       "      <td>0</td>\n",
       "      <td>...</td>\n",
       "      <td>6.615001</td>\n",
       "      <td>261404</td>\n",
       "      <td>31.251233</td>\n",
       "      <td>286</td>\n",
       "      <td>0</td>\n",
       "      <td>6</td>\n",
       "      <td>Argentina</td>\n",
       "      <td>South America</td>\n",
       "      <td>Southern Hemisphere</td>\n",
       "      <td>0</td>\n",
       "    </tr>\n",
       "    <tr>\n",
       "      <th>1</th>\n",
       "      <td>CZE1114</td>\n",
       "      <td>21</td>\n",
       "      <td>Male</td>\n",
       "      <td>389</td>\n",
       "      <td>165/93</td>\n",
       "      <td>98</td>\n",
       "      <td>1</td>\n",
       "      <td>1</td>\n",
       "      <td>1</td>\n",
       "      <td>1</td>\n",
       "      <td>...</td>\n",
       "      <td>4.963459</td>\n",
       "      <td>285768</td>\n",
       "      <td>27.194973</td>\n",
       "      <td>235</td>\n",
       "      <td>1</td>\n",
       "      <td>7</td>\n",
       "      <td>Canada</td>\n",
       "      <td>North America</td>\n",
       "      <td>Northern Hemisphere</td>\n",
       "      <td>0</td>\n",
       "    </tr>\n",
       "    <tr>\n",
       "      <th>2</th>\n",
       "      <td>BNI9906</td>\n",
       "      <td>21</td>\n",
       "      <td>Female</td>\n",
       "      <td>324</td>\n",
       "      <td>174/99</td>\n",
       "      <td>72</td>\n",
       "      <td>1</td>\n",
       "      <td>0</td>\n",
       "      <td>0</td>\n",
       "      <td>0</td>\n",
       "      <td>...</td>\n",
       "      <td>9.463426</td>\n",
       "      <td>235282</td>\n",
       "      <td>28.176571</td>\n",
       "      <td>587</td>\n",
       "      <td>4</td>\n",
       "      <td>4</td>\n",
       "      <td>France</td>\n",
       "      <td>Europe</td>\n",
       "      <td>Northern Hemisphere</td>\n",
       "      <td>0</td>\n",
       "    </tr>\n",
       "    <tr>\n",
       "      <th>3</th>\n",
       "      <td>JLN3497</td>\n",
       "      <td>84</td>\n",
       "      <td>Male</td>\n",
       "      <td>383</td>\n",
       "      <td>163/100</td>\n",
       "      <td>73</td>\n",
       "      <td>1</td>\n",
       "      <td>1</td>\n",
       "      <td>1</td>\n",
       "      <td>0</td>\n",
       "      <td>...</td>\n",
       "      <td>7.648981</td>\n",
       "      <td>125640</td>\n",
       "      <td>36.464704</td>\n",
       "      <td>378</td>\n",
       "      <td>3</td>\n",
       "      <td>4</td>\n",
       "      <td>Canada</td>\n",
       "      <td>North America</td>\n",
       "      <td>Northern Hemisphere</td>\n",
       "      <td>0</td>\n",
       "    </tr>\n",
       "    <tr>\n",
       "      <th>4</th>\n",
       "      <td>GFO8847</td>\n",
       "      <td>66</td>\n",
       "      <td>Male</td>\n",
       "      <td>318</td>\n",
       "      <td>91/88</td>\n",
       "      <td>93</td>\n",
       "      <td>1</td>\n",
       "      <td>1</td>\n",
       "      <td>1</td>\n",
       "      <td>1</td>\n",
       "      <td>...</td>\n",
       "      <td>1.514821</td>\n",
       "      <td>160555</td>\n",
       "      <td>21.809144</td>\n",
       "      <td>231</td>\n",
       "      <td>1</td>\n",
       "      <td>5</td>\n",
       "      <td>Thailand</td>\n",
       "      <td>Asia</td>\n",
       "      <td>Northern Hemisphere</td>\n",
       "      <td>0</td>\n",
       "    </tr>\n",
       "  </tbody>\n",
       "</table>\n",
       "<p>5 rows × 26 columns</p>\n",
       "</div>"
      ],
      "text/plain": [
       "  Patient ID  Age     Sex  Cholesterol Blood Pressure  Heart Rate  Diabetes  \\\n",
       "0    BMW7812   67    Male          208         158/88          72         0   \n",
       "1    CZE1114   21    Male          389         165/93          98         1   \n",
       "2    BNI9906   21  Female          324         174/99          72         1   \n",
       "3    JLN3497   84    Male          383        163/100          73         1   \n",
       "4    GFO8847   66    Male          318          91/88          93         1   \n",
       "\n",
       "   Family History  Smoking  Obesity  ...  Sedentary Hours Per Day  Income  \\\n",
       "0               0        1        0  ...                 6.615001  261404   \n",
       "1               1        1        1  ...                 4.963459  285768   \n",
       "2               0        0        0  ...                 9.463426  235282   \n",
       "3               1        1        0  ...                 7.648981  125640   \n",
       "4               1        1        1  ...                 1.514821  160555   \n",
       "\n",
       "         BMI  Triglycerides  Physical Activity Days Per Week  \\\n",
       "0  31.251233            286                                0   \n",
       "1  27.194973            235                                1   \n",
       "2  28.176571            587                                4   \n",
       "3  36.464704            378                                3   \n",
       "4  21.809144            231                                1   \n",
       "\n",
       "   Sleep Hours Per Day    Country      Continent           Hemisphere  \\\n",
       "0                    6  Argentina  South America  Southern Hemisphere   \n",
       "1                    7     Canada  North America  Northern Hemisphere   \n",
       "2                    4     France         Europe  Northern Hemisphere   \n",
       "3                    4     Canada  North America  Northern Hemisphere   \n",
       "4                    5   Thailand           Asia  Northern Hemisphere   \n",
       "\n",
       "   Heart Attack Risk  \n",
       "0                  0  \n",
       "1                  0  \n",
       "2                  0  \n",
       "3                  0  \n",
       "4                  0  \n",
       "\n",
       "[5 rows x 26 columns]"
      ]
     },
     "execution_count": 2,
     "metadata": {},
     "output_type": "execute_result"
    }
   ],
   "source": [
    "file = pd.read_csv(\"/kaggle/input/heart-attack-prediction-dataset/heart_attack_prediction_dataset.csv\")\n",
    "file.head()"
   ]
  },
  {
   "cell_type": "markdown",
   "id": "a5093f3d",
   "metadata": {
    "papermill": {
     "duration": 0.01689,
     "end_time": "2024-02-15T10:52:49.694361",
     "exception": false,
     "start_time": "2024-02-15T10:52:49.677471",
     "status": "completed"
    },
    "tags": []
   },
   "source": [
    "# Setting the Objective\n",
    "As we can see from the data, it provides us with different features of a patient and in the last column it indicates whether the person has a risk of heart attack using 0 or 1. Thus, we will treat this as a **Binary Classification** problem by building the model to predict whether a person has a risk of heart attack or not. The output of the model will be 0 or 1 instead of a probability."
   ]
  },
  {
   "cell_type": "markdown",
   "id": "3f46ec06",
   "metadata": {
    "_cell_guid": "ec15cde3-8d31-4134-bc6c-9c2813d3b129",
    "_uuid": "266a635c-9448-4f53-9806-27e7dcb67520",
    "papermill": {
     "duration": 0.01677,
     "end_time": "2024-02-15T10:52:49.728217",
     "exception": false,
     "start_time": "2024-02-15T10:52:49.711447",
     "status": "completed"
    },
    "tags": []
   },
   "source": [
    "# Data Pre-Processing\n",
    "Before the data can be fed into our model to train, the data needs to be processed. Irrelevant features will be removed and categorical features will be OneHotEncoded."
   ]
  },
  {
   "cell_type": "markdown",
   "id": "58dc6070",
   "metadata": {
    "_cell_guid": "13591a7c-e038-46d5-b401-a49881849d60",
    "_uuid": "87acdece-80b3-41a6-805d-c7740eb1aab9",
    "papermill": {
     "duration": 0.017613,
     "end_time": "2024-02-15T10:52:49.764320",
     "exception": false,
     "start_time": "2024-02-15T10:52:49.746707",
     "status": "completed"
    },
    "tags": []
   },
   "source": [
    "> First, we use file.shape to determine the number of rows and columns in the data."
   ]
  },
  {
   "cell_type": "code",
   "execution_count": 3,
   "id": "13e662aa",
   "metadata": {
    "_cell_guid": "e6232bcb-b865-4168-ad68-7bcfd76b760f",
    "_uuid": "dc840845-7154-4b49-a24f-93b692c51927",
    "collapsed": false,
    "execution": {
     "iopub.execute_input": "2024-02-15T10:52:49.800070Z",
     "iopub.status.busy": "2024-02-15T10:52:49.799167Z",
     "iopub.status.idle": "2024-02-15T10:52:49.805055Z",
     "shell.execute_reply": "2024-02-15T10:52:49.804194Z"
    },
    "jupyter": {
     "outputs_hidden": false
    },
    "papermill": {
     "duration": 0.02548,
     "end_time": "2024-02-15T10:52:49.806862",
     "exception": false,
     "start_time": "2024-02-15T10:52:49.781382",
     "status": "completed"
    },
    "tags": []
   },
   "outputs": [
    {
     "data": {
      "text/plain": [
       "(8763, 26)"
      ]
     },
     "execution_count": 3,
     "metadata": {},
     "output_type": "execute_result"
    }
   ],
   "source": [
    "file.shape"
   ]
  },
  {
   "cell_type": "markdown",
   "id": "2c30e45a",
   "metadata": {
    "_cell_guid": "ad9c8748-d559-421b-9a94-75538b4d7785",
    "_uuid": "c6330358-ba93-4074-92a8-17c4b69d7642",
    "papermill": {
     "duration": 0.016692,
     "end_time": "2024-02-15T10:52:49.840554",
     "exception": false,
     "start_time": "2024-02-15T10:52:49.823862",
     "status": "completed"
    },
    "tags": []
   },
   "source": [
    ">  The shape of the dataframe is (8763, 26), which means there's 8763 patients and 26 features (columns) per patient. We will look at the columns in the dataframe and select the suitable ones for training."
   ]
  },
  {
   "cell_type": "code",
   "execution_count": 4,
   "id": "569e111f",
   "metadata": {
    "_cell_guid": "ac16f093-7701-49e8-8fa6-f8809440e67e",
    "_uuid": "55f1ab8b-0bae-4967-858e-9f0487c8fa6d",
    "collapsed": false,
    "execution": {
     "iopub.execute_input": "2024-02-15T10:52:49.914872Z",
     "iopub.status.busy": "2024-02-15T10:52:49.914567Z",
     "iopub.status.idle": "2024-02-15T10:52:49.922072Z",
     "shell.execute_reply": "2024-02-15T10:52:49.921219Z"
    },
    "jupyter": {
     "outputs_hidden": false
    },
    "papermill": {
     "duration": 0.027853,
     "end_time": "2024-02-15T10:52:49.924425",
     "exception": false,
     "start_time": "2024-02-15T10:52:49.896572",
     "status": "completed"
    },
    "tags": []
   },
   "outputs": [
    {
     "data": {
      "text/plain": [
       "Index(['Patient ID', 'Age', 'Sex', 'Cholesterol', 'Blood Pressure',\n",
       "       'Heart Rate', 'Diabetes', 'Family History', 'Smoking', 'Obesity',\n",
       "       'Alcohol Consumption', 'Exercise Hours Per Week', 'Diet',\n",
       "       'Previous Heart Problems', 'Medication Use', 'Stress Level',\n",
       "       'Sedentary Hours Per Day', 'Income', 'BMI', 'Triglycerides',\n",
       "       'Physical Activity Days Per Week', 'Sleep Hours Per Day', 'Country',\n",
       "       'Continent', 'Hemisphere', 'Heart Attack Risk'],\n",
       "      dtype='object')"
      ]
     },
     "execution_count": 4,
     "metadata": {},
     "output_type": "execute_result"
    }
   ],
   "source": [
    "file.columns #outputs the column names"
   ]
  },
  {
   "cell_type": "markdown",
   "id": "3a2fcedb",
   "metadata": {
    "_cell_guid": "573ac278-81b8-45e8-9d80-8e8ceb04b262",
    "_uuid": "23afc646-f0cc-4b1f-b899-0991a1d11cc9",
    "papermill": {
     "duration": 0.016983,
     "end_time": "2024-02-15T10:52:49.958613",
     "exception": false,
     "start_time": "2024-02-15T10:52:49.941630",
     "status": "completed"
    },
    "tags": []
   },
   "source": [
    "* Features such as Patient ID, Income, Continent, Hemisphere, Country are unlikely factors that contribute to the risk of heart attack, thus we will drop these columns from the dataframe; these features will not be considered when training the data and predicting the risk of heart attack.\n",
    "* We will also drop the \"Heart Attack Risk\" column as this is our target column. We will store the dataframe with the dropped columns in the variable 'x' which will be the input to the neural network.\n",
    "* The target column will be stored in the variable 'y' which the model will use to calculate error. Thus, y will be an array with only 1 column and 8763 rows."
   ]
  },
  {
   "cell_type": "code",
   "execution_count": 5,
   "id": "cb0f39b3",
   "metadata": {
    "_cell_guid": "710e0aa1-ba4a-43ba-ba8e-d017d7b012d8",
    "_uuid": "4508ccd8-ee8a-4720-b330-240e78328883",
    "collapsed": false,
    "execution": {
     "iopub.execute_input": "2024-02-15T10:52:49.994083Z",
     "iopub.status.busy": "2024-02-15T10:52:49.993801Z",
     "iopub.status.idle": "2024-02-15T10:52:50.002109Z",
     "shell.execute_reply": "2024-02-15T10:52:50.001398Z"
    },
    "jupyter": {
     "outputs_hidden": false
    },
    "papermill": {
     "duration": 0.028214,
     "end_time": "2024-02-15T10:52:50.004199",
     "exception": false,
     "start_time": "2024-02-15T10:52:49.975985",
     "status": "completed"
    },
    "tags": []
   },
   "outputs": [],
   "source": [
    "x = file.drop([\"Patient ID\", \"Income\",\"Continent\",\"Hemisphere\",\"Heart Attack Risk\", \"Country\"],axis=1)\n",
    "y = file['Heart Attack Risk']"
   ]
  },
  {
   "cell_type": "code",
   "execution_count": 6,
   "id": "9539426d",
   "metadata": {
    "_cell_guid": "c75a71cf-9d76-4f8b-b266-656401dc29c0",
    "_uuid": "7b95aa56-1cbc-4959-a93e-c4b2ec112d2f",
    "collapsed": false,
    "execution": {
     "iopub.execute_input": "2024-02-15T10:52:50.040313Z",
     "iopub.status.busy": "2024-02-15T10:52:50.039735Z",
     "iopub.status.idle": "2024-02-15T10:52:50.046510Z",
     "shell.execute_reply": "2024-02-15T10:52:50.045626Z"
    },
    "jupyter": {
     "outputs_hidden": false
    },
    "papermill": {
     "duration": 0.026923,
     "end_time": "2024-02-15T10:52:50.048957",
     "exception": false,
     "start_time": "2024-02-15T10:52:50.022034",
     "status": "completed"
    },
    "tags": []
   },
   "outputs": [
    {
     "name": "stdout",
     "output_type": "stream",
     "text": [
      "Shape of y:  (8763,)\n"
     ]
    },
    {
     "data": {
      "text/plain": [
       "0    0\n",
       "1    0\n",
       "2    0\n",
       "3    0\n",
       "4    0\n",
       "Name: Heart Attack Risk, dtype: int64"
      ]
     },
     "execution_count": 6,
     "metadata": {},
     "output_type": "execute_result"
    }
   ],
   "source": [
    "print(\"Shape of y: \", y.shape)\n",
    "y.head()"
   ]
  },
  {
   "cell_type": "markdown",
   "id": "7574fb28",
   "metadata": {
    "_cell_guid": "d3bfee34-b61e-42d8-b806-bebad438f693",
    "_uuid": "f9f52ee5-b387-44de-ab00-d41c2790b42b",
    "papermill": {
     "duration": 0.017282,
     "end_time": "2024-02-15T10:52:50.083346",
     "exception": false,
     "start_time": "2024-02-15T10:52:50.066064",
     "status": "completed"
    },
    "tags": []
   },
   "source": [
    "# OneHotEncoding and converting non-numerical data into numerical data\n",
    "* The columns Diet and Sex contain non-numerical values, thus these cannot be fed directly into the neural network as the network will not be able to do any mathematical operations on them. We will one-hot encode the 'Diet' and 'Sex' columns. One-hot encoding is a technique used to convert categorical variables into a binary matrix format, where each category is represented by a binary vector. For example, in the 'Diet' column, 'healthy' might be represented as [1, 0, 0], 'unhealthy' as [0, 1, 0], and 'average' as [0, 0, 1]. Similarly, in the 'Sex' column, 'male' might be represented as [1, 0] and 'female' as [0, 1]. This transformation allows the neural network to effectively process categorical data by treating each category as a separate binary feature, enabling it to learn relationships between the categories and the target variable.\n",
    "* The blood pressure column is given as a string in the format Systolic/Diastolic. We will create seperate columns for Systolic and Diastolic that contains the integer value. As we created the two new columns, the 'Blood Pressure' column will not be required anymore so we will drop it."
   ]
  },
  {
   "cell_type": "code",
   "execution_count": 7,
   "id": "4bd549ff",
   "metadata": {
    "_cell_guid": "205b2656-8808-4df8-a2f5-1c7ab463143d",
    "_uuid": "d29a8808-6c67-4948-a6bf-c00020222f95",
    "collapsed": false,
    "execution": {
     "iopub.execute_input": "2024-02-15T10:52:50.120266Z",
     "iopub.status.busy": "2024-02-15T10:52:50.119998Z",
     "iopub.status.idle": "2024-02-15T10:52:50.171014Z",
     "shell.execute_reply": "2024-02-15T10:52:50.170321Z"
    },
    "jupyter": {
     "outputs_hidden": false
    },
    "papermill": {
     "duration": 0.071093,
     "end_time": "2024-02-15T10:52:50.172921",
     "exception": false,
     "start_time": "2024-02-15T10:52:50.101828",
     "status": "completed"
    },
    "tags": []
   },
   "outputs": [],
   "source": [
    "#OneHotEncoding Diet and Sex\n",
    "\n",
    "x = pd.get_dummies(x, columns=[\"Diet\",\"Sex\"],prefix=[\"Diet\",\"Sex\"])\n",
    "\n",
    "#Seperating the Systolic and Diastolic Blood Pressure and dropping the Blood Pressure column\n",
    "\n",
    "x[[\"Systolic\",\"Diastolic\"]] = x[\"Blood Pressure\"].str.split('/', expand=True)\n",
    "x[['Systolic', 'Diastolic']] = x[['Systolic', 'Diastolic']].apply(pd.to_numeric)\n",
    "x = x.drop('Blood Pressure', axis=1)"
   ]
  },
  {
   "cell_type": "markdown",
   "id": "3289daf0",
   "metadata": {
    "_cell_guid": "e626bec0-49e3-47fe-bce0-817ff4b7e4b3",
    "_uuid": "55b86b5f-111f-4cac-ada0-2cf94b7edb0c",
    "papermill": {
     "duration": 0.017191,
     "end_time": "2024-02-15T10:52:50.207490",
     "exception": false,
     "start_time": "2024-02-15T10:52:50.190299",
     "status": "completed"
    },
    "tags": []
   },
   "source": [
    "> Now the data has been processed as required. All irrelevant columns have been dropped and all non-numeric values have been converted into numeric values. We can see the processed data below along with it's new shape. It still has 8763 rows but the number of columns have changed since we dropped a few and created a few through OneHotEncoding."
   ]
  },
  {
   "cell_type": "code",
   "execution_count": 8,
   "id": "fca306aa",
   "metadata": {
    "_cell_guid": "1af00705-31bb-4b60-ad3a-6896ed0a5a39",
    "_uuid": "bdcb3528-cd78-4913-9291-60759d1b11d8",
    "collapsed": false,
    "execution": {
     "iopub.execute_input": "2024-02-15T10:52:50.243558Z",
     "iopub.status.busy": "2024-02-15T10:52:50.243245Z",
     "iopub.status.idle": "2024-02-15T10:52:50.264876Z",
     "shell.execute_reply": "2024-02-15T10:52:50.263976Z"
    },
    "jupyter": {
     "outputs_hidden": false
    },
    "papermill": {
     "duration": 0.041987,
     "end_time": "2024-02-15T10:52:50.266832",
     "exception": false,
     "start_time": "2024-02-15T10:52:50.224845",
     "status": "completed"
    },
    "tags": []
   },
   "outputs": [
    {
     "name": "stdout",
     "output_type": "stream",
     "text": [
      "Shape:  (8763, 24)\n"
     ]
    },
    {
     "data": {
      "text/html": [
       "<div>\n",
       "<style scoped>\n",
       "    .dataframe tbody tr th:only-of-type {\n",
       "        vertical-align: middle;\n",
       "    }\n",
       "\n",
       "    .dataframe tbody tr th {\n",
       "        vertical-align: top;\n",
       "    }\n",
       "\n",
       "    .dataframe thead th {\n",
       "        text-align: right;\n",
       "    }\n",
       "</style>\n",
       "<table border=\"1\" class=\"dataframe\">\n",
       "  <thead>\n",
       "    <tr style=\"text-align: right;\">\n",
       "      <th></th>\n",
       "      <th>Age</th>\n",
       "      <th>Cholesterol</th>\n",
       "      <th>Heart Rate</th>\n",
       "      <th>Diabetes</th>\n",
       "      <th>Family History</th>\n",
       "      <th>Smoking</th>\n",
       "      <th>Obesity</th>\n",
       "      <th>Alcohol Consumption</th>\n",
       "      <th>Exercise Hours Per Week</th>\n",
       "      <th>Previous Heart Problems</th>\n",
       "      <th>...</th>\n",
       "      <th>Triglycerides</th>\n",
       "      <th>Physical Activity Days Per Week</th>\n",
       "      <th>Sleep Hours Per Day</th>\n",
       "      <th>Diet_Average</th>\n",
       "      <th>Diet_Healthy</th>\n",
       "      <th>Diet_Unhealthy</th>\n",
       "      <th>Sex_Female</th>\n",
       "      <th>Sex_Male</th>\n",
       "      <th>Systolic</th>\n",
       "      <th>Diastolic</th>\n",
       "    </tr>\n",
       "  </thead>\n",
       "  <tbody>\n",
       "    <tr>\n",
       "      <th>0</th>\n",
       "      <td>67</td>\n",
       "      <td>208</td>\n",
       "      <td>72</td>\n",
       "      <td>0</td>\n",
       "      <td>0</td>\n",
       "      <td>1</td>\n",
       "      <td>0</td>\n",
       "      <td>0</td>\n",
       "      <td>4.168189</td>\n",
       "      <td>0</td>\n",
       "      <td>...</td>\n",
       "      <td>286</td>\n",
       "      <td>0</td>\n",
       "      <td>6</td>\n",
       "      <td>True</td>\n",
       "      <td>False</td>\n",
       "      <td>False</td>\n",
       "      <td>False</td>\n",
       "      <td>True</td>\n",
       "      <td>158</td>\n",
       "      <td>88</td>\n",
       "    </tr>\n",
       "    <tr>\n",
       "      <th>1</th>\n",
       "      <td>21</td>\n",
       "      <td>389</td>\n",
       "      <td>98</td>\n",
       "      <td>1</td>\n",
       "      <td>1</td>\n",
       "      <td>1</td>\n",
       "      <td>1</td>\n",
       "      <td>1</td>\n",
       "      <td>1.813242</td>\n",
       "      <td>1</td>\n",
       "      <td>...</td>\n",
       "      <td>235</td>\n",
       "      <td>1</td>\n",
       "      <td>7</td>\n",
       "      <td>False</td>\n",
       "      <td>False</td>\n",
       "      <td>True</td>\n",
       "      <td>False</td>\n",
       "      <td>True</td>\n",
       "      <td>165</td>\n",
       "      <td>93</td>\n",
       "    </tr>\n",
       "    <tr>\n",
       "      <th>2</th>\n",
       "      <td>21</td>\n",
       "      <td>324</td>\n",
       "      <td>72</td>\n",
       "      <td>1</td>\n",
       "      <td>0</td>\n",
       "      <td>0</td>\n",
       "      <td>0</td>\n",
       "      <td>0</td>\n",
       "      <td>2.078353</td>\n",
       "      <td>1</td>\n",
       "      <td>...</td>\n",
       "      <td>587</td>\n",
       "      <td>4</td>\n",
       "      <td>4</td>\n",
       "      <td>False</td>\n",
       "      <td>True</td>\n",
       "      <td>False</td>\n",
       "      <td>True</td>\n",
       "      <td>False</td>\n",
       "      <td>174</td>\n",
       "      <td>99</td>\n",
       "    </tr>\n",
       "    <tr>\n",
       "      <th>3</th>\n",
       "      <td>84</td>\n",
       "      <td>383</td>\n",
       "      <td>73</td>\n",
       "      <td>1</td>\n",
       "      <td>1</td>\n",
       "      <td>1</td>\n",
       "      <td>0</td>\n",
       "      <td>1</td>\n",
       "      <td>9.828130</td>\n",
       "      <td>1</td>\n",
       "      <td>...</td>\n",
       "      <td>378</td>\n",
       "      <td>3</td>\n",
       "      <td>4</td>\n",
       "      <td>True</td>\n",
       "      <td>False</td>\n",
       "      <td>False</td>\n",
       "      <td>False</td>\n",
       "      <td>True</td>\n",
       "      <td>163</td>\n",
       "      <td>100</td>\n",
       "    </tr>\n",
       "    <tr>\n",
       "      <th>4</th>\n",
       "      <td>66</td>\n",
       "      <td>318</td>\n",
       "      <td>93</td>\n",
       "      <td>1</td>\n",
       "      <td>1</td>\n",
       "      <td>1</td>\n",
       "      <td>1</td>\n",
       "      <td>0</td>\n",
       "      <td>5.804299</td>\n",
       "      <td>1</td>\n",
       "      <td>...</td>\n",
       "      <td>231</td>\n",
       "      <td>1</td>\n",
       "      <td>5</td>\n",
       "      <td>False</td>\n",
       "      <td>False</td>\n",
       "      <td>True</td>\n",
       "      <td>False</td>\n",
       "      <td>True</td>\n",
       "      <td>91</td>\n",
       "      <td>88</td>\n",
       "    </tr>\n",
       "  </tbody>\n",
       "</table>\n",
       "<p>5 rows × 24 columns</p>\n",
       "</div>"
      ],
      "text/plain": [
       "   Age  Cholesterol  Heart Rate  Diabetes  Family History  Smoking  Obesity  \\\n",
       "0   67          208          72         0               0        1        0   \n",
       "1   21          389          98         1               1        1        1   \n",
       "2   21          324          72         1               0        0        0   \n",
       "3   84          383          73         1               1        1        0   \n",
       "4   66          318          93         1               1        1        1   \n",
       "\n",
       "   Alcohol Consumption  Exercise Hours Per Week  Previous Heart Problems  ...  \\\n",
       "0                    0                 4.168189                        0  ...   \n",
       "1                    1                 1.813242                        1  ...   \n",
       "2                    0                 2.078353                        1  ...   \n",
       "3                    1                 9.828130                        1  ...   \n",
       "4                    0                 5.804299                        1  ...   \n",
       "\n",
       "   Triglycerides  Physical Activity Days Per Week  Sleep Hours Per Day  \\\n",
       "0            286                                0                    6   \n",
       "1            235                                1                    7   \n",
       "2            587                                4                    4   \n",
       "3            378                                3                    4   \n",
       "4            231                                1                    5   \n",
       "\n",
       "   Diet_Average  Diet_Healthy  Diet_Unhealthy  Sex_Female  Sex_Male  Systolic  \\\n",
       "0          True         False           False       False      True       158   \n",
       "1         False         False            True       False      True       165   \n",
       "2         False          True           False        True     False       174   \n",
       "3          True         False           False       False      True       163   \n",
       "4         False         False            True       False      True        91   \n",
       "\n",
       "   Diastolic  \n",
       "0         88  \n",
       "1         93  \n",
       "2         99  \n",
       "3        100  \n",
       "4         88  \n",
       "\n",
       "[5 rows x 24 columns]"
      ]
     },
     "execution_count": 8,
     "metadata": {},
     "output_type": "execute_result"
    }
   ],
   "source": [
    "print(\"Shape: \", x.shape)\n",
    "x.head()"
   ]
  },
  {
   "cell_type": "markdown",
   "id": "c6680f10",
   "metadata": {
    "_cell_guid": "682ef9aa-1dc8-42ed-9421-997357b084ab",
    "_uuid": "b2f9c946-4dee-4eef-b64c-01da1b661dbb",
    "papermill": {
     "duration": 0.01769,
     "end_time": "2024-02-15T10:52:50.304548",
     "exception": false,
     "start_time": "2024-02-15T10:52:50.286858",
     "status": "completed"
    },
    "tags": []
   },
   "source": [
    "# Normalisation\n",
    "> There is one last step remaining in pre-processing the data before we can feed it into the neural network. Since the columns have a range of different values, we will carry out normalisation to improve gradient descent. In this step, the data will also be converted from a DataFrame to a numpy array so that it can be easily fed into the neural network."
   ]
  },
  {
   "cell_type": "code",
   "execution_count": 9,
   "id": "650c737f",
   "metadata": {
    "_cell_guid": "99c700e7-66e7-4166-b9f9-9364ef44c0e1",
    "_uuid": "4d5f82c2-ab3b-4640-a9c6-c34bd603eb85",
    "collapsed": false,
    "execution": {
     "iopub.execute_input": "2024-02-15T10:52:50.342155Z",
     "iopub.status.busy": "2024-02-15T10:52:50.341804Z",
     "iopub.status.idle": "2024-02-15T10:52:50.364887Z",
     "shell.execute_reply": "2024-02-15T10:52:50.364006Z"
    },
    "jupyter": {
     "outputs_hidden": false
    },
    "papermill": {
     "duration": 0.044707,
     "end_time": "2024-02-15T10:52:50.367313",
     "exception": false,
     "start_time": "2024-02-15T10:52:50.322606",
     "status": "completed"
    },
    "tags": []
   },
   "outputs": [
    {
     "data": {
      "text/plain": [
       "array([[ 6.25557131e-01, -6.41578894e-01, -1.47042098e-01, ...,\n",
       "         6.58765153e-01,  8.70044389e-01,  1.93781814e-01],\n",
       "       [-1.53932232e+00,  1.59689495e+00,  1.11817855e+00, ...,\n",
       "         6.58765153e-01,  1.13571444e+00,  5.34480428e-01],\n",
       "       [-1.53932232e+00,  7.93023127e-01, -1.47042098e-01, ...,\n",
       "        -1.51799165e+00,  1.47729021e+00,  9.43318765e-01],\n",
       "       ...,\n",
       "       [-3.15694803e-01, -1.22154025e-01,  1.45881488e+00, ...,\n",
       "         6.58765153e-01,  9.83902981e-01, -6.92034583e-01],\n",
       "       [-8.33383367e-01, -1.01259666e+00, -7.30990089e-01, ...,\n",
       "         6.58765153e-01, -6.10117296e-01, -1.23715237e+00],\n",
       "       [-1.35107193e+00,  1.18877541e+00, -1.05510022e-03, ...,\n",
       "        -1.51799165e+00,  1.10987115e-01, -1.23715237e+00]])"
      ]
     },
     "execution_count": 9,
     "metadata": {},
     "output_type": "execute_result"
    }
   ],
   "source": [
    "from sklearn.preprocessing import StandardScaler\n",
    "scaler=StandardScaler()\n",
    "x=scaler.fit_transform(x)\n",
    "x"
   ]
  },
  {
   "cell_type": "markdown",
   "id": "7abba2aa",
   "metadata": {
    "_cell_guid": "d08e7f26-db31-4f3c-a57b-3991f1711f39",
    "_uuid": "7271e7d9-8116-415b-9ebd-1b73abe9142f",
    "papermill": {
     "duration": 0.017903,
     "end_time": "2024-02-15T10:52:50.404896",
     "exception": false,
     "start_time": "2024-02-15T10:52:50.386993",
     "status": "completed"
    },
    "tags": []
   },
   "source": [
    "# Creating a training set and validation set\n",
    "* Since we want our model to generalise, we will be splitting the data into a train set and validation set. The validation set will comprise of 20% of the original data and the rest of the 80% of the data will be used for training. Once training is done using the training set, we can use the validation set to see how well our model has generalised."
   ]
  },
  {
   "cell_type": "code",
   "execution_count": 10,
   "id": "f8553e53",
   "metadata": {
    "_cell_guid": "5c800785-c217-4860-b614-e8c7e3761c2e",
    "_uuid": "d8de3b07-7935-495b-92d7-01d5d06a1d7a",
    "collapsed": false,
    "execution": {
     "iopub.execute_input": "2024-02-15T10:52:50.442647Z",
     "iopub.status.busy": "2024-02-15T10:52:50.442319Z",
     "iopub.status.idle": "2024-02-15T10:52:50.465123Z",
     "shell.execute_reply": "2024-02-15T10:52:50.464201Z"
    },
    "jupyter": {
     "outputs_hidden": false
    },
    "papermill": {
     "duration": 0.04405,
     "end_time": "2024-02-15T10:52:50.467081",
     "exception": false,
     "start_time": "2024-02-15T10:52:50.423031",
     "status": "completed"
    },
    "tags": []
   },
   "outputs": [
    {
     "data": {
      "text/plain": [
       "(1753, 1)"
      ]
     },
     "execution_count": 10,
     "metadata": {},
     "output_type": "execute_result"
    }
   ],
   "source": [
    "from sklearn.model_selection import train_test_split\n",
    "random_seed = 42 #to get consistent results\n",
    "x_train, x_test, y_train, y_test = train_test_split(x, y, test_size=0.2, random_state = random_seed)\n",
    "\n",
    "#Adjusting the shape of y\n",
    "y_train = y_train.values.reshape(-1, 1)\n",
    "y_test = y_test.values.reshape(-1, 1)\n",
    "y_test.shape"
   ]
  },
  {
   "cell_type": "markdown",
   "id": "6a857ac7",
   "metadata": {
    "papermill": {
     "duration": 0.017857,
     "end_time": "2024-02-15T10:52:50.503258",
     "exception": false,
     "start_time": "2024-02-15T10:52:50.485401",
     "status": "completed"
    },
    "tags": []
   },
   "source": [
    "# First Approach - Coding a Neural Network from Scratch\n",
    "* Below is the code for the neural network we coded using numpy. The code is divided into several functions for each step which are compiled together in **L_layer_model(X, Y, layers_dims, learning_rate=0.01, num_iterations=30, print_cost=True)** to create a functional model. The model is hard-coded to have **ReLU activation in the hidden layers and Sigmoid activation** in the output layer. The loss is computed using the **compute_cost()** function which computes the loss using **Binary Crossentropy** since we are trying to predict **True** or **False** instead of a probability. The description of each function is given as a comment under the respective function."
   ]
  },
  {
   "cell_type": "markdown",
   "id": "15eec55c",
   "metadata": {
    "papermill": {
     "duration": 0.018061,
     "end_time": "2024-02-15T10:52:50.539208",
     "exception": false,
     "start_time": "2024-02-15T10:52:50.521147",
     "status": "completed"
    },
    "tags": []
   },
   "source": [
    "Here is an overview of the functions that are used to built the neural network.\n",
    ">* **relu**: Computes the ReLU.\n",
    ">* **relu_backward**: Implements the backward propagation for a single ReLU unit.\n",
    ">* **sigmoid_backward**: Implements the backward propagation for a single sigmoid unit.\n",
    ">* **initialize_parameters_deep**: Initializes the parameters of a deep neural network.\n",
    ">* **linear_forward**: Implements the linear part of a layer's forward propagation.\n",
    ">* **linear_activation_forward**: Implements the forward propagation for the linear -> activation.\n",
    ">* **L_model_forward**: Implements forward propagation for the entire network.\n",
    ">* **compute_cost**: Computes the cost function (cross-entropy cost).\n",
    ">* **linear_backward**: Implements the linear portion of backward propagation for a single layer.\n",
    ">* **linear_activation_backward**: Implements the backward propagation for the linear -> activation.\n",
    ">* **L_model_backward**: Implements the backward propagation for the entire network.\n",
    ">* **update_parameters**: Updates parameters using gradient descent.\n",
    ">* **L_layer_model**: Implements a L-layer neural network. L is the number of layers defined by the user.\n",
    ">* **predict**: Predicts the results of a L-layer neural network.\n",
    ">* **plot_costs**: Plots the learning curve.\n",
    " "
   ]
  },
  {
   "cell_type": "code",
   "execution_count": 11,
   "id": "d84c96ee",
   "metadata": {
    "execution": {
     "iopub.execute_input": "2024-02-15T10:52:50.576920Z",
     "iopub.status.busy": "2024-02-15T10:52:50.576599Z",
     "iopub.status.idle": "2024-02-15T10:52:50.799487Z",
     "shell.execute_reply": "2024-02-15T10:52:50.798712Z"
    },
    "papermill": {
     "duration": 0.244539,
     "end_time": "2024-02-15T10:52:50.801577",
     "exception": false,
     "start_time": "2024-02-15T10:52:50.557038",
     "status": "completed"
    },
    "tags": []
   },
   "outputs": [],
   "source": [
    "import numpy as np\n",
    "import matplotlib.pyplot as plt\n",
    "import copy\n",
    "\n",
    "def sigmoid(Z):\n",
    "    \"\"\"\n",
    "    Compute the sigmoid activation function element-wise.\n",
    "\n",
    "    Arguments:\n",
    "    Z -- numpy array of any shape\n",
    "\n",
    "    Returns:\n",
    "    A -- output of the sigmoid function, same shape as Z\n",
    "    cache -- returns Z as well, useful during backpropagation\n",
    "    \"\"\"\n",
    "    A = 1 / (1 + np.exp(-Z))\n",
    "    cache = Z\n",
    "    return A, cache\n",
    "\n",
    "def relu(Z):\n",
    "    \"\"\"\n",
    "    Compute the ReLU activation function element-wise.\n",
    "\n",
    "    Arguments:\n",
    "    Z -- Output of the linear layer, of any shape\n",
    "\n",
    "    Returns:\n",
    "    A -- Post-activation parameter, of the same shape as Z\n",
    "    cache -- a python dictionary containing \"A\" ; stored for computing the backward pass efficiently\n",
    "    \"\"\"\n",
    "    A = np.maximum(0, Z)\n",
    "    assert (A.shape == Z.shape)\n",
    "    cache = Z\n",
    "    return A, cache\n",
    "\n",
    "def relu_backward(dA, cache):\n",
    "    \"\"\"\n",
    "    Implement the backward propagation for a single RELU unit.\n",
    "\n",
    "    Arguments:\n",
    "    dA -- post-activation gradient, of any shape\n",
    "    cache -- 'Z' where we store for computing backward propagation efficiently\n",
    "\n",
    "    Returns:\n",
    "    dZ -- Gradient of the cost with respect to Z\n",
    "    \"\"\"\n",
    "    Z = cache\n",
    "    dZ = np.array(dA, copy=True)\n",
    "    dZ[Z <= 0] = 0\n",
    "    assert (dZ.shape == Z.shape)\n",
    "    return dZ\n",
    "\n",
    "def sigmoid_backward(dA, cache):\n",
    "    \"\"\"\n",
    "    Implement the backward propagation for a single SIGMOID unit.\n",
    "\n",
    "    Arguments:\n",
    "    dA -- post-activation gradient, of any shape\n",
    "    cache -- 'Z' where we store for computing backward propagation efficiently\n",
    "\n",
    "    Returns:\n",
    "    dZ -- Gradient of the cost with respect to Z\n",
    "    \"\"\"\n",
    "    Z = cache\n",
    "    s = 1 / (1 + np.exp(-Z))\n",
    "    dZ = dA * s * (1 - s)\n",
    "    assert (dZ.shape == Z.shape)\n",
    "    return dZ\n",
    "\n",
    "def initialize_parameters_deep(layer_dims):\n",
    "    \"\"\"\n",
    "    Initialize the parameters of the deep neural network.\n",
    "\n",
    "    Arguments:\n",
    "    layer_dims -- python array (list) containing the dimensions of each layer in our network\n",
    "\n",
    "    Returns:\n",
    "    parameters -- python dictionary containing your parameters \"W1\", \"b1\", ..., \"WL\", \"bL\":\n",
    "                    Wl -- weight matrix of shape (layer_dims[l], layer_dims[l-1])\n",
    "                    bl -- bias vector of shape (layer_dims[l], 1)\n",
    "    \"\"\"\n",
    "    np.random.seed(3)\n",
    "    parameters = {}\n",
    "    L = len(layer_dims)\n",
    "    for l in range(1, L):\n",
    "        parameters['W' + str(l)] = np.random.randn(layer_dims[l], layer_dims[l - 1]) * 0.01\n",
    "        parameters['b' + str(l)] = np.zeros((layer_dims[l], 1))\n",
    "        assert (parameters['W' + str(l)].shape == (layer_dims[l], layer_dims[l - 1]))\n",
    "        assert (parameters['b' + str(l)].shape == (layer_dims[l], 1))\n",
    "    return parameters\n",
    "\n",
    "def linear_forward(A, W, b):\n",
    "    \"\"\"\n",
    "    Implement the linear part of a layer's forward propagation.\n",
    "\n",
    "    Arguments:\n",
    "    A -- activations from previous layer (or input data): (size of previous layer, number of examples)\n",
    "    W -- weights matrix: numpy array of shape (size of current layer, size of previous layer)\n",
    "    b -- bias vector, numpy array of shape (size of the current layer, 1)\n",
    "\n",
    "    Returns:\n",
    "    Z -- the input of the activation function, also called pre-activation parameter\n",
    "    cache -- a python dictionary containing \"A\", \"W\" and \"b\" ; stored for computing the backward pass efficiently\n",
    "    \"\"\"\n",
    "    Z = W.dot(A) + b\n",
    "    cache = (A, W, b)\n",
    "    return Z, cache\n",
    "\n",
    "def linear_activation_forward(A_prev, W, b, activation):\n",
    "    \"\"\"\n",
    "    Implement the forward propagation for the LINEAR->ACTIVATION layer\n",
    "\n",
    "    Arguments:\n",
    "    A_prev -- activations from previous layer (or input data): (size of previous layer, number of examples)\n",
    "    W -- weights matrix: numpy array of shape (size of current layer, size of previous layer)\n",
    "    b -- bias vector, numpy array of shape (size of the current layer, 1)\n",
    "    activation -- the activation to be used in this layer, stored as a text string: \"sigmoid\" or \"relu\"\n",
    "\n",
    "    Returns:\n",
    "    A -- the output of the activation function, also called the post-activation value\n",
    "    cache -- a python tuple containing \"linear_cache\" and \"activation_cache\";\n",
    "             stored for computing the backward pass efficiently\n",
    "    \"\"\"\n",
    "    if activation == \"sigmoid\":\n",
    "        Z, linear_cache = linear_forward(A_prev, W, b)\n",
    "        A, activation_cache = sigmoid(Z)\n",
    "    elif activation == \"relu\":\n",
    "        Z, linear_cache = linear_forward(A_prev, W, b)\n",
    "        A, activation_cache = relu(Z)\n",
    "    cache = (linear_cache, activation_cache)\n",
    "    return A, cache\n",
    "\n",
    "def L_model_forward(X, parameters):\n",
    "    \"\"\"\n",
    "    Implement forward propagation for the [LINEAR->RELU]*(L-1)->LINEAR->SIGMOID computation\n",
    "\n",
    "    Arguments:\n",
    "    X -- data, numpy array of shape (input size, number of examples)\n",
    "    parameters -- output of initialize_parameters_deep()\n",
    "\n",
    "    Returns:\n",
    "    AL -- activation value from the output (last) layer\n",
    "    caches -- list of caches containing:\n",
    "                every cache of linear_activation_forward() (there are L of them, indexed from 0 to L-1)\n",
    "    \"\"\"\n",
    "    caches = []\n",
    "    A = X\n",
    "    L = len(parameters) // 2\n",
    "    for l in range(1, L):\n",
    "        A_prev = A\n",
    "        A, cache = linear_activation_forward(A_prev, parameters['W' + str(l)], parameters['b' + str(l)], \"relu\")\n",
    "        caches.append(cache)\n",
    "    AL, cache = linear_activation_forward(A, parameters['W' + str(L)], parameters['b' + str(L)], \"sigmoid\")\n",
    "    caches.append(cache)\n",
    "    return AL, caches\n",
    "\n",
    "def compute_cost(AL, Y):\n",
    "    \"\"\"\n",
    "    Implement the cost function defined by equation (7).\n",
    "\n",
    "    Arguments:\n",
    "    AL -- probability vector corresponding to your label predictions, shape (1, number of examples)\n",
    "    Y -- true \"label\" vector (for example: containing 0 if non-cat, 1 if cat), shape (1, number of examples)\n",
    "\n",
    "    Returns:\n",
    "    cost -- cross-entropy cost\n",
    "    \"\"\"\n",
    "    m = Y.shape[1]\n",
    "    cost = -np.sum(np.multiply(np.log(AL), Y) + np.multiply(np.log(1 - AL), (1 - Y))) / m\n",
    "    cost = np.squeeze(cost)\n",
    "    return cost\n",
    "\n",
    "def linear_backward(dZ, cache):\n",
    "    \"\"\"\n",
    "    Implement the linear portion of backward propagation for a single layer (layer l)\n",
    "\n",
    "    Arguments:\n",
    "    dZ -- Gradient of the cost with respect to the linear output (of current layer l)\n",
    "    cache -- tuple of values (A_prev, W, b) coming from the forward propagation in the current layer\n",
    "\n",
    "    Returns:\n",
    "    dA_prev -- Gradient of the cost with respect to the activation (of the previous layer l-1), same shape as A_prev\n",
    "    dW -- Gradient of the cost with respect to W (current layer l), same shape as W\n",
    "    db -- Gradient of the cost with respect to b (current layer l), same shape as b\n",
    "    \"\"\"\n",
    "    A_prev, W, b = cache\n",
    "    m = A_prev.shape[1]\n",
    "    dW = np.dot(dZ, A_prev.T) / m\n",
    "    db = (np.sum(dZ, axis=1, keepdims=True)) / m\n",
    "    dA_prev = np.dot(W.T, dZ)\n",
    "    return dA_prev, dW, db\n",
    "\n",
    "def linear_activation_backward(dA, cache, activation):\n",
    "    \"\"\"\n",
    "    Implement the backward propagation for the LINEAR->ACTIVATION layer.\n",
    "\n",
    "    Arguments:\n",
    "    dA -- post-activation gradient for current layer l\n",
    "    cache -- tuple of values (linear_cache, activation_cache) we store for computing backward propagation efficiently\n",
    "    activation -- the activation to be used in this layer, stored as a text string: \"sigmoid\" or \"relu\"\n",
    "\n",
    "    Returns:\n",
    "    dA_prev -- Gradient of the cost with respect to the activation (of the previous layer l-1), same shape as A_prev\n",
    "    dW -- Gradient of the cost with respect to W (current layer l), same shape as W\n",
    "    db -- Gradient of the cost with respect to b (current layer l), same shape as b\n",
    "    \"\"\"\n",
    "    linear_cache, activation_cache = cache\n",
    "    if activation == \"relu\":\n",
    "        dZ = relu_backward(dA, activation_cache)\n",
    "        dA_prev, dW, db = linear_backward(dZ, linear_cache)\n",
    "    elif activation == \"sigmoid\":\n",
    "        dZ = sigmoid_backward(dA, activation_cache)\n",
    "        dA_prev, dW, db = linear_backward(dZ, linear_cache)\n",
    "    return dA_prev, dW, db\n",
    "\n",
    "def L_model_backward(AL, Y, caches):\n",
    "    \"\"\"\n",
    "    Implement the backward propagation for the [LINEAR->RELU] * (L-1) -> LINEAR -> SIGMOID group\n",
    "\n",
    "    Arguments:\n",
    "    AL -- probability vector, output of the forward propagation (L_model_forward())\n",
    "    Y -- true \"label\" vector (containing 0 if non-cat, 1 if cat)\n",
    "    caches -- list of caches containing:\n",
    "                every cache of linear_activation_forward() with \"relu\" (it's caches[l], for l in range(L-1) i.e l = 0...L-2)\n",
    "                the cache of linear_activation_forward() with \"sigmoid\" (it's caches[L-1])\n",
    "\n",
    "    Returns:\n",
    "    grads -- A dictionary with the gradients\n",
    "             grads[\"dA\" + str(l)] = ...\n",
    "             grads[\"dW\" + str(l)] = ...\n",
    "             grads[\"db\" + str(l)] = ...\n",
    "    \"\"\"\n",
    "    grads = {}\n",
    "    L = len(caches)\n",
    "    m = AL.shape[1]\n",
    "    Y = Y.reshape(AL.shape)\n",
    "    dAL = - (np.divide(Y, AL) - np.divide(1 - Y, 1 - AL))\n",
    "    current_cache = caches[L - 1]\n",
    "    dA_prev_temp, dW_temp, db_temp = linear_activation_backward(dAL, current_cache, \"sigmoid\")\n",
    "    grads[\"dA\" + str(L - 1)] = dA_prev_temp\n",
    "    grads[\"dW\" + str(L)] = dW_temp\n",
    "    grads[\"db\" + str(L)] = db_temp\n",
    "    for l in reversed(range(L - 1)):\n",
    "        current_cache = caches[l]\n",
    "        dA_prev_temp, dW_temp, db_temp = linear_activation_backward(grads[\"dA\" + str(l + 1)], current_cache, \"relu\")\n",
    "        grads[\"dA\" + str(l)] = dA_prev_temp\n",
    "        grads[\"dW\" + str(l + 1)] = dW_temp\n",
    "        grads[\"db\" + str(l + 1)] = db_temp\n",
    "    return grads\n",
    "\n",
    "def update_parameters(params, grads, learning_rate):\n",
    "    \"\"\"\n",
    "    Update parameters using gradient descent\n",
    "\n",
    "    Arguments:\n",
    "    params -- python dictionary containing your parameters\n",
    "    grads -- python dictionary containing your gradients, output of L_model_backward\n",
    "\n",
    "    Returns:\n",
    "    parameters -- python dictionary containing your updated parameters\n",
    "                  parameters[\"W\" + str(l)] = ...\n",
    "                  parameters[\"b\" + str(l)] = ...\n",
    "    \"\"\"\n",
    "    parameters = copy.deepcopy(params)\n",
    "    L = len(parameters) // 2\n",
    "    for l in range(L):\n",
    "        parameters[\"W\" + str(l + 1)] = parameters[\"W\" + str(l + 1)] - learning_rate * grads[\"dW\" + str(l + 1)]\n",
    "        parameters[\"b\" + str(l + 1)] = parameters[\"b\" + str(l + 1)] - learning_rate * grads[\"db\" + str(l + 1)]\n",
    "    return parameters\n",
    "\n",
    "def L_layer_model(X, Y, layers_dims, learning_rate=0.01, num_iterations=30, print_cost=True):\n",
    "    \"\"\"\n",
    "    Implements a L-layer neural network: [LINEAR->RELU]*(L-1)->LINEAR->SIGMOID.\n",
    "\n",
    "    Arguments:\n",
    "    X -- input data, of shape (n_x, number of examples)\n",
    "    Y -- true \"label\" vector (containing 1 if cat, 0 if non-cat), of shape (1, number of examples)\n",
    "    layers_dims -- list containing the input size and each layer size, of length (number of layers + 1).\n",
    "    learning_rate -- learning rate of the gradient descent update rule\n",
    "    num_iterations -- number of iterations of the optimization loop\n",
    "    print_cost -- if True, it prints the cost every 5 steps\n",
    "\n",
    "    Returns:\n",
    "    parameters -- parameters learnt by the model. They can then be used to predict.\n",
    "    \"\"\"\n",
    "    np.random.seed(1)\n",
    "    costs = []  # keep track of cost\n",
    "    parameters = initialize_parameters_deep(layers_dims)\n",
    "    for i in range(0, num_iterations):\n",
    "        AL, caches = L_model_forward(X, parameters)\n",
    "        cost = compute_cost(AL, Y)\n",
    "        grads = L_model_backward(AL, Y, caches)\n",
    "        parameters = update_parameters(parameters, grads, learning_rate)\n",
    "        if print_cost and i % 100 == 0 or i == num_iterations - 1:\n",
    "            print(\"Cost after iteration {}: {}\".format(i, np.squeeze(cost)))\n",
    "        if i % 100 == 0 or i == num_iterations:\n",
    "            costs.append(cost)\n",
    "    return parameters, costs\n",
    "\n",
    "def predict(X, y, parameters):\n",
    "    \"\"\"\n",
    "    This function is used to predict the results of a  L-layer neural network.\n",
    "\n",
    "    Arguments:\n",
    "    X -- data set of examples you would like to label\n",
    "    parameters -- parameters of the trained model\n",
    "\n",
    "    Returns:\n",
    "    p -- predictions for the given dataset X\n",
    "    \"\"\"\n",
    "    m = X.shape[1]\n",
    "    n = len(parameters) // 2\n",
    "    p = np.zeros((1, m))\n",
    "    probas, caches = L_model_forward(X, parameters)\n",
    "    for i in range(0, probas.shape[1]):\n",
    "        if probas[0, i] > 0.5:\n",
    "            p[0, i] = 1\n",
    "        else:\n",
    "            p[0, i] = 0\n",
    "    print(\"Accuracy: \" + str(np.sum((p == y) / m)))\n",
    "    return p\n",
    "\n",
    "def plot_costs(costs, learning_rate=0.0075):\n",
    "    \"\"\"\n",
    "    Plot the learning curve.\n",
    "\n",
    "    Arguments:\n",
    "    costs -- list of costs\n",
    "    learning_rate -- learning rate used during training\n",
    "    \"\"\"\n",
    "    plt.plot(np.squeeze(costs))\n",
    "    plt.ylabel('cost')\n",
    "    plt.xlabel('iterations (per hundreds)')\n",
    "    plt.title(\"Learning rate =\" + str(learning_rate))\n",
    "    plt.show()\n"
   ]
  },
  {
   "cell_type": "markdown",
   "id": "db8961bb",
   "metadata": {
    "_cell_guid": "cc17d750-331c-4fd2-8af8-b5cf497b9acf",
    "_uuid": "39edee81-b723-44bd-afdb-68fae9f2e796",
    "papermill": {
     "duration": 0.018762,
     "end_time": "2024-02-15T10:52:50.841411",
     "exception": false,
     "start_time": "2024-02-15T10:52:50.822649",
     "status": "completed"
    },
    "tags": []
   },
   "source": [
    "# Creating the Neural Network Architecture\n",
    "* We are going to use Dense layers, which means all the neurons in a layer will be connected to all the neurons in the previous layer. \n",
    "* Using the neural network coded in the previous cell, we can build a custom model by specifying the number of layers and the neurons per layer. This is done in the **layer_dims** list in the following code cell.\n",
    "* Building a model is an iterative process, it is difficult to built the optimum model in the first try. For our baseline model we will use 5 layers (including the input and output layer). The **input layer consists of 24 nodes as there are 24 features**. The **3 hidden layers contain 32, 16 and 8 neurons respectively**. The **output layer contains only 1 neuron**. The architecture strikes a balance between model complexity and capacity. With 5 layers, the network has the capacity to learn intricate patterns and relationships within the data. However, it's not overly complex, which could lead to overfitting, especially in scenarios where the dataset is not sufficiently large.\n",
    "* The input layer has no activation function. The **hidden layers compute ReLU activation** as it will increase the rate of gradient descent and the **output layer computes a sigmoid activation** since it is the best choice for binary classification. \n"
   ]
  },
  {
   "cell_type": "code",
   "execution_count": 12,
   "id": "77e61e91",
   "metadata": {
    "_cell_guid": "fd063708-9e34-446f-948b-ef1cc394f772",
    "_uuid": "b5f387fc-77da-4eb6-855c-7e5766054dd2",
    "execution": {
     "iopub.execute_input": "2024-02-15T10:52:50.880550Z",
     "iopub.status.busy": "2024-02-15T10:52:50.879826Z",
     "iopub.status.idle": "2024-02-15T10:52:50.884254Z",
     "shell.execute_reply": "2024-02-15T10:52:50.883363Z"
    },
    "papermill": {
     "duration": 0.025922,
     "end_time": "2024-02-15T10:52:50.886205",
     "exception": false,
     "start_time": "2024-02-15T10:52:50.860283",
     "status": "completed"
    },
    "tags": []
   },
   "outputs": [],
   "source": [
    "### Layers ###\n",
    "layers_dims = [24, 32, 16, 8, 1] #Specify the number of neurons in each layer"
   ]
  },
  {
   "cell_type": "markdown",
   "id": "64307cdc",
   "metadata": {
    "_cell_guid": "4f27801c-5ccd-48de-8563-525c5eadb45e",
    "_uuid": "924f501a-a57c-4e3a-b39f-3ac45371300b",
    "papermill": {
     "duration": 0.018288,
     "end_time": "2024-02-15T10:52:50.922854",
     "exception": false,
     "start_time": "2024-02-15T10:52:50.904566",
     "status": "completed"
    },
    "tags": []
   },
   "source": [
    "Below is the visual represenation of our neural network."
   ]
  },
  {
   "cell_type": "markdown",
   "id": "12e584ae",
   "metadata": {
    "_cell_guid": "00107dab-d620-4bad-905a-5970d2ff5cbf",
    "_uuid": "1a941a07-df1a-4088-bb3c-c3a14dd7d4ff",
    "papermill": {
     "duration": 0.018549,
     "end_time": "2024-02-15T10:52:50.960222",
     "exception": false,
     "start_time": "2024-02-15T10:52:50.941673",
     "status": "completed"
    },
    "tags": []
   },
   "source": [
    "![Neural Network Architecture](https://svgshare.com/i/133N.svg)"
   ]
  },
  {
   "cell_type": "markdown",
   "id": "a2c7e8e6",
   "metadata": {
    "papermill": {
     "duration": 0.017951,
     "end_time": "2024-02-15T10:52:50.996369",
     "exception": false,
     "start_time": "2024-02-15T10:52:50.978418",
     "status": "completed"
    },
    "tags": []
   },
   "source": [
    "# Training the model\n",
    "> After we're done with creating the architecture for the neural network, we can train the model using model.compile.\n",
    "* The learning rate is set to a low value of **0.01**\n",
    "* The **loss** is calculated using **BinaryCrossentropy()**\n",
    "* The network is trained for **1000 epochs**\n",
    "* The learned parameters *(updated weights and biases)* from the training is stored in the **parameters** variable\n",
    "\n",
    "\n",
    "A graph plot is produced to observe the cost against the epochs. "
   ]
  },
  {
   "cell_type": "code",
   "execution_count": 13,
   "id": "8f4c93cb",
   "metadata": {
    "_cell_guid": "05b25349-9974-4f49-a11b-5e8e5c131c84",
    "_uuid": "58d13d57-4ae2-4829-8d6d-a96b312f3ab6",
    "collapsed": false,
    "execution": {
     "iopub.execute_input": "2024-02-15T10:52:51.034285Z",
     "iopub.status.busy": "2024-02-15T10:52:51.033921Z",
     "iopub.status.idle": "2024-02-15T10:53:05.238826Z",
     "shell.execute_reply": "2024-02-15T10:53:05.237926Z"
    },
    "jupyter": {
     "outputs_hidden": false
    },
    "papermill": {
     "duration": 14.226511,
     "end_time": "2024-02-15T10:53:05.241078",
     "exception": false,
     "start_time": "2024-02-15T10:52:51.014567",
     "status": "completed"
    },
    "tags": []
   },
   "outputs": [
    {
     "name": "stdout",
     "output_type": "stream",
     "text": [
      "Cost after iteration 0: 0.6931472024014913\n",
      "Cost after iteration 100: 0.6773066895726916\n",
      "Cost after iteration 200: 0.6676857039133842\n",
      "Cost after iteration 300: 0.6618185462939213\n",
      "Cost after iteration 400: 0.6582232688049151\n",
      "Cost after iteration 500: 0.6560096455468513\n",
      "Cost after iteration 600: 0.654640822241673\n",
      "Cost after iteration 700: 0.6537912266471969\n",
      "Cost after iteration 800: 0.6532622416640248\n",
      "Cost after iteration 900: 0.6529320195290441\n",
      "Cost after iteration 999: 0.6527270598939531\n"
     ]
    },
    {
     "data": {
      "image/png": "[encoded data removed]",
      "text/plain": [
       "<Figure size 640x480 with 1 Axes>"
      ]
     },
     "metadata": {},
     "output_type": "display_data"
    }
   ],
   "source": [
    "#Train the model\n",
    "parameters, costs = L_layer_model(x_train.T, y_train.T, layers_dims, num_iterations = 1000, print_cost = True, learning_rate=0.01)\n",
    "#Plot the graph of cost against iteration\n",
    "plot_costs(costs, learning_rate=0.01)"
   ]
  },
  {
   "cell_type": "markdown",
   "id": "1d3ba739",
   "metadata": {
    "papermill": {
     "duration": 0.019702,
     "end_time": "2024-02-15T10:53:05.281673",
     "exception": false,
     "start_time": "2024-02-15T10:53:05.261971",
     "status": "completed"
    },
    "tags": []
   },
   "source": [
    "# Predicting with the model"
   ]
  },
  {
   "cell_type": "markdown",
   "id": "56aec62f",
   "metadata": {
    "papermill": {
     "duration": 0.020907,
     "end_time": "2024-02-15T10:53:05.321748",
     "exception": false,
     "start_time": "2024-02-15T10:53:05.300841",
     "status": "completed"
    },
    "tags": []
   },
   "source": [
    "We are going to use the learned parameters of the model to predict from both the training set and test set "
   ]
  },
  {
   "cell_type": "code",
   "execution_count": 14,
   "id": "1ab1e23c",
   "metadata": {
    "_cell_guid": "38bfa0df-d55f-4d28-9cbe-6147e3ee97f1",
    "_uuid": "ea8fae78-72e6-46f7-8ddc-8b5d3443f9b3",
    "execution": {
     "iopub.execute_input": "2024-02-15T10:53:05.364101Z",
     "iopub.status.busy": "2024-02-15T10:53:05.363772Z",
     "iopub.status.idle": "2024-02-15T10:53:05.389001Z",
     "shell.execute_reply": "2024-02-15T10:53:05.387805Z"
    },
    "papermill": {
     "duration": 0.050091,
     "end_time": "2024-02-15T10:53:05.392372",
     "exception": false,
     "start_time": "2024-02-15T10:53:05.342281",
     "status": "completed"
    },
    "tags": []
   },
   "outputs": [
    {
     "name": "stdout",
     "output_type": "stream",
     "text": [
      "Accuracy: 0.6417974322396576\n",
      "Accuracy: 0.6417569880205363\n"
     ]
    }
   ],
   "source": [
    "#predicting on the train set\n",
    "predictions_train = predict(x_train.T, y_train.T, parameters)\n",
    "#predicting on the test set\n",
    "predictions_test = predict(x_test.T, y_test.T, parameters)"
   ]
  },
  {
   "cell_type": "markdown",
   "id": "e275a135",
   "metadata": {
    "papermill": {
     "duration": 0.046337,
     "end_time": "2024-02-15T10:53:05.483765",
     "exception": false,
     "start_time": "2024-02-15T10:53:05.437428",
     "status": "completed"
    },
    "tags": []
   },
   "source": [
    "# Analysing the model\n",
    "The accuracy on both the training set and the test set is similar. The model isn't overfitting to the training set but it is also not generalising properly. We are not using any momentum optimisation, thus the loss may haven gotten stuck in a local minima which is why it is not overfitting even after 1000 epochs."
   ]
  },
  {
   "cell_type": "markdown",
   "id": "53b15ca1",
   "metadata": {
    "papermill": {
     "duration": 0.019847,
     "end_time": "2024-02-15T10:53:05.540882",
     "exception": false,
     "start_time": "2024-02-15T10:53:05.521035",
     "status": "completed"
    },
    "tags": []
   },
   "source": [
    "# Possible reasons for low accuracy\n",
    "> The low accuracy can be due to a number of reasons. Firstly, it can be due to a bad model with suboptimal hyperparameters or due to incorrect feature selection. However, in this case, the most likely reason for the low accuracy is because of the data. According to the publisher of the data, the dataset is a synthetic dataset generated using ChatGPT. Given this, it's understandable that the data may not faithfully represent real-world scenarios or exhibit meaningful patterns. Therefore, it's conceivable that the output accuracy is hindered by the inherent limitations of the dataset quality, adhering to the principle of ***garbage in, garbage out.***"
   ]
  },
  {
   "cell_type": "markdown",
   "id": "ba87d8ce",
   "metadata": {
    "papermill": {
     "duration": 0.019298,
     "end_time": "2024-02-15T10:53:05.580611",
     "exception": false,
     "start_time": "2024-02-15T10:53:05.561313",
     "status": "completed"
    },
    "tags": []
   },
   "source": [
    "# Second Approach - Building a Model Using Tensorflow Keras\n",
    "In our first approach we built a neural network from scratch to understand how to implement the computations in code. In the second approach, we are going to use Keras on top of tensorflow to train the model on the same dataset. We are opting for a Keras model because it comes in-built with optimisations that will help us run the model faster. It will also allow us to easily tune the hyperparameters using Genetic Algorithm."
   ]
  },
  {
   "cell_type": "markdown",
   "id": "88b83437",
   "metadata": {
    "papermill": {
     "duration": 0.019023,
     "end_time": "2024-02-15T10:53:05.619026",
     "exception": false,
     "start_time": "2024-02-15T10:53:05.600003",
     "status": "completed"
    },
    "tags": []
   },
   "source": [
    "# Building the Tensorflow Model\n",
    "As we are going to use the same dataset from the previous approach, there is no further need to pre-process the data; we can jump straight to building the Keras model.\n",
    "> We are using Keras to build our neural network model since it allows us to easily create the neural network architecture without having to do any math. Using Keras, we can simply just add a layer using Dense() and specify the number of neurons in the layer and the activation function. The architecture of this network will be the same as the first approach.\n",
    "* We are going to use Dense layers, which means all the layers will be connected to all the neurons in the previous layer.\n",
    "* We will use 5 layers (including the input and output layer). The **input layer consists of 24 nodes as there are 24 features**. The **3 hidden layers contain 32, 16 and 8 neurons respectively**. The **output layer contains only 1 neuron**. (The same baseline model as the previous approach)\n",
    "* The input layer has no activation function. The **hidden layers compute ReLU activation** and the **output layer computes a sigmoid activation** since it is the best choice for binary classification.\n"
   ]
  },
  {
   "cell_type": "code",
   "execution_count": 15,
   "id": "e9673e13",
   "metadata": {
    "execution": {
     "iopub.execute_input": "2024-02-15T10:53:05.660885Z",
     "iopub.status.busy": "2024-02-15T10:53:05.660568Z",
     "iopub.status.idle": "2024-02-15T10:53:06.989422Z",
     "shell.execute_reply": "2024-02-15T10:53:06.988422Z"
    },
    "papermill": {
     "duration": 1.356126,
     "end_time": "2024-02-15T10:53:06.995657",
     "exception": false,
     "start_time": "2024-02-15T10:53:05.639531",
     "status": "completed"
    },
    "tags": []
   },
   "outputs": [
    {
     "name": "stdout",
     "output_type": "stream",
     "text": [
      "Model: \"sequential\"\n",
      "_________________________________________________________________\n",
      " Layer (type)                Output Shape              Param #   \n",
      "=================================================================\n",
      " hidden_layer1 (Dense)       (None, 32)                800       \n",
      "                                                                 \n",
      " hidden_layer2 (Dense)       (None, 16)                528       \n",
      "                                                                 \n",
      " hidden_layer3 (Dense)       (None, 8)                 136       \n",
      "                                                                 \n",
      " output_layer (Dense)        (None, 1)                 9         \n",
      "                                                                 \n",
      "=================================================================\n",
      "Total params: 1473 (5.75 KB)\n",
      "Trainable params: 1473 (5.75 KB)\n",
      "Non-trainable params: 0 (0.00 Byte)\n",
      "_________________________________________________________________\n"
     ]
    }
   ],
   "source": [
    "n = x.shape[1] #number of features\n",
    "\n",
    "#Creating the neural network model\n",
    "model = Sequential([\n",
    "    tf.keras.Input(shape=(n,), name=\"input_layer\"), #Input Layer with 'n' neurons\n",
    "    Dense(units=32, activation=\"relu\", name=\"hidden_layer1\"),\n",
    "    Dense(units=16, activation=\"relu\", name=\"hidden_layer2\"),\n",
    "    Dense(units=8, activation=\"relu\", name=\"hidden_layer3\"),\n",
    "    Dense(units=1, activation=\"sigmoid\", name=\"output_layer\"),\n",
    "])\n",
    "\n",
    "model.summary()"
   ]
  },
  {
   "cell_type": "markdown",
   "id": "f97e83ba",
   "metadata": {
    "papermill": {
     "duration": 0.02213,
     "end_time": "2024-02-15T10:53:07.040240",
     "exception": false,
     "start_time": "2024-02-15T10:53:07.018110",
     "status": "completed"
    },
    "tags": []
   },
   "source": [
    "# Training the model\n",
    "> After we're done with creating the architecture for the neural network, we can train the model using model.compile.\n",
    "* We're using the **Adam optimisation** algorithm which makes use of **momentum** and **RMSProp** to smooth out the gradient descent.\n",
    "* The learning rate is set to a low value of **0.01**\n",
    "* The **loss** is calculated using **BinaryCrossentropy()**\n",
    "* The network is trained for **250 epochs** with a **batch size = dataset size**"
   ]
  },
  {
   "cell_type": "code",
   "execution_count": 16,
   "id": "a43edc91",
   "metadata": {
    "execution": {
     "iopub.execute_input": "2024-02-15T10:53:07.084116Z",
     "iopub.status.busy": "2024-02-15T10:53:07.083766Z",
     "iopub.status.idle": "2024-02-15T10:53:18.609596Z",
     "shell.execute_reply": "2024-02-15T10:53:18.608796Z"
    },
    "papermill": {
     "duration": 11.550331,
     "end_time": "2024-02-15T10:53:18.611715",
     "exception": false,
     "start_time": "2024-02-15T10:53:07.061384",
     "status": "completed"
    },
    "tags": []
   },
   "outputs": [
    {
     "name": "stdout",
     "output_type": "stream",
     "text": [
      "Epoch 1/250\n",
      "1/1 [==============================] - 3s 3s/step - loss: 0.8291 - accuracy: 0.4030 - val_loss: 0.7120 - val_accuracy: 0.5248\n",
      "Epoch 2/250\n",
      "1/1 [==============================] - 0s 30ms/step - loss: 0.7084 - accuracy: 0.5245 - val_loss: 0.6743 - val_accuracy: 0.6127\n",
      "Epoch 3/250\n",
      "1/1 [==============================] - 0s 31ms/step - loss: 0.6713 - accuracy: 0.6155 - val_loss: 0.6734 - val_accuracy: 0.6395\n",
      "Epoch 4/250\n",
      "1/1 [==============================] - 0s 31ms/step - loss: 0.6716 - accuracy: 0.6395 - val_loss: 0.6752 - val_accuracy: 0.6406\n",
      "Epoch 5/250\n",
      "1/1 [==============================] - 0s 30ms/step - loss: 0.6732 - accuracy: 0.6418 - val_loss: 0.6706 - val_accuracy: 0.6418\n",
      "Epoch 6/250\n",
      "1/1 [==============================] - 0s 32ms/step - loss: 0.6683 - accuracy: 0.6418 - val_loss: 0.6636 - val_accuracy: 0.6418\n",
      "Epoch 7/250\n",
      "1/1 [==============================] - 0s 30ms/step - loss: 0.6610 - accuracy: 0.6418 - val_loss: 0.6585 - val_accuracy: 0.6418\n",
      "Epoch 8/250\n",
      "1/1 [==============================] - 0s 30ms/step - loss: 0.6551 - accuracy: 0.6418 - val_loss: 0.6563 - val_accuracy: 0.6418\n",
      "Epoch 9/250\n",
      "1/1 [==============================] - 0s 29ms/step - loss: 0.6520 - accuracy: 0.6418 - val_loss: 0.6563 - val_accuracy: 0.6418\n",
      "Epoch 10/250\n",
      "1/1 [==============================] - 0s 29ms/step - loss: 0.6513 - accuracy: 0.6418 - val_loss: 0.6573 - val_accuracy: 0.6418\n",
      "Epoch 11/250\n",
      "1/1 [==============================] - 0s 29ms/step - loss: 0.6519 - accuracy: 0.6418 - val_loss: 0.6586 - val_accuracy: 0.6418\n",
      "Epoch 12/250\n",
      "1/1 [==============================] - 0s 29ms/step - loss: 0.6527 - accuracy: 0.6418 - val_loss: 0.6594 - val_accuracy: 0.6418\n",
      "Epoch 13/250\n",
      "1/1 [==============================] - 0s 29ms/step - loss: 0.6530 - accuracy: 0.6418 - val_loss: 0.6596 - val_accuracy: 0.6418\n",
      "Epoch 14/250\n",
      "1/1 [==============================] - 0s 31ms/step - loss: 0.6527 - accuracy: 0.6418 - val_loss: 0.6594 - val_accuracy: 0.6418\n",
      "Epoch 15/250\n",
      "1/1 [==============================] - 0s 29ms/step - loss: 0.6519 - accuracy: 0.6418 - val_loss: 0.6589 - val_accuracy: 0.6418\n",
      "Epoch 16/250\n",
      "1/1 [==============================] - 0s 30ms/step - loss: 0.6509 - accuracy: 0.6418 - val_loss: 0.6584 - val_accuracy: 0.6418\n",
      "Epoch 17/250\n",
      "1/1 [==============================] - 0s 30ms/step - loss: 0.6498 - accuracy: 0.6418 - val_loss: 0.6582 - val_accuracy: 0.6418\n",
      "Epoch 18/250\n",
      "1/1 [==============================] - 0s 29ms/step - loss: 0.6490 - accuracy: 0.6418 - val_loss: 0.6584 - val_accuracy: 0.6418\n",
      "Epoch 19/250\n",
      "1/1 [==============================] - 0s 29ms/step - loss: 0.6484 - accuracy: 0.6418 - val_loss: 0.6588 - val_accuracy: 0.6418\n",
      "Epoch 20/250\n",
      "1/1 [==============================] - 0s 29ms/step - loss: 0.6482 - accuracy: 0.6418 - val_loss: 0.6593 - val_accuracy: 0.6418\n",
      "Epoch 21/250\n",
      "1/1 [==============================] - 0s 29ms/step - loss: 0.6482 - accuracy: 0.6418 - val_loss: 0.6596 - val_accuracy: 0.6418\n",
      "Epoch 22/250\n",
      "1/1 [==============================] - 0s 30ms/step - loss: 0.6481 - accuracy: 0.6418 - val_loss: 0.6596 - val_accuracy: 0.6418\n",
      "Epoch 23/250\n",
      "1/1 [==============================] - 0s 30ms/step - loss: 0.6479 - accuracy: 0.6418 - val_loss: 0.6593 - val_accuracy: 0.6418\n",
      "Epoch 24/250\n",
      "1/1 [==============================] - 0s 30ms/step - loss: 0.6474 - accuracy: 0.6418 - val_loss: 0.6587 - val_accuracy: 0.6418\n",
      "Epoch 25/250\n",
      "1/1 [==============================] - 0s 31ms/step - loss: 0.6467 - accuracy: 0.6418 - val_loss: 0.6579 - val_accuracy: 0.6418\n",
      "Epoch 26/250\n",
      "1/1 [==============================] - 0s 29ms/step - loss: 0.6460 - accuracy: 0.6418 - val_loss: 0.6573 - val_accuracy: 0.6418\n",
      "Epoch 27/250\n",
      "1/1 [==============================] - 0s 29ms/step - loss: 0.6454 - accuracy: 0.6418 - val_loss: 0.6568 - val_accuracy: 0.6418\n",
      "Epoch 28/250\n",
      "1/1 [==============================] - 0s 29ms/step - loss: 0.6449 - accuracy: 0.6418 - val_loss: 0.6565 - val_accuracy: 0.6418\n",
      "Epoch 29/250\n",
      "1/1 [==============================] - 0s 30ms/step - loss: 0.6446 - accuracy: 0.6418 - val_loss: 0.6563 - val_accuracy: 0.6418\n",
      "Epoch 30/250\n",
      "1/1 [==============================] - 0s 31ms/step - loss: 0.6444 - accuracy: 0.6418 - val_loss: 0.6561 - val_accuracy: 0.6418\n",
      "Epoch 31/250\n",
      "1/1 [==============================] - 0s 30ms/step - loss: 0.6442 - accuracy: 0.6418 - val_loss: 0.6560 - val_accuracy: 0.6418\n",
      "Epoch 32/250\n",
      "1/1 [==============================] - 0s 31ms/step - loss: 0.6439 - accuracy: 0.6418 - val_loss: 0.6560 - val_accuracy: 0.6418\n",
      "Epoch 33/250\n",
      "1/1 [==============================] - 0s 30ms/step - loss: 0.6436 - accuracy: 0.6418 - val_loss: 0.6560 - val_accuracy: 0.6418\n",
      "Epoch 34/250\n",
      "1/1 [==============================] - 0s 32ms/step - loss: 0.6433 - accuracy: 0.6418 - val_loss: 0.6561 - val_accuracy: 0.6418\n",
      "Epoch 35/250\n",
      "1/1 [==============================] - 0s 31ms/step - loss: 0.6430 - accuracy: 0.6418 - val_loss: 0.6562 - val_accuracy: 0.6418\n",
      "Epoch 36/250\n",
      "1/1 [==============================] - 0s 28ms/step - loss: 0.6426 - accuracy: 0.6418 - val_loss: 0.6563 - val_accuracy: 0.6418\n",
      "Epoch 37/250\n",
      "1/1 [==============================] - 0s 29ms/step - loss: 0.6423 - accuracy: 0.6418 - val_loss: 0.6565 - val_accuracy: 0.6418\n",
      "Epoch 38/250\n",
      "1/1 [==============================] - 0s 30ms/step - loss: 0.6420 - accuracy: 0.6418 - val_loss: 0.6567 - val_accuracy: 0.6418\n",
      "Epoch 39/250\n",
      "1/1 [==============================] - 0s 31ms/step - loss: 0.6417 - accuracy: 0.6418 - val_loss: 0.6569 - val_accuracy: 0.6418\n",
      "Epoch 40/250\n",
      "1/1 [==============================] - 0s 31ms/step - loss: 0.6414 - accuracy: 0.6418 - val_loss: 0.6571 - val_accuracy: 0.6418\n",
      "Epoch 41/250\n",
      "1/1 [==============================] - 0s 29ms/step - loss: 0.6411 - accuracy: 0.6418 - val_loss: 0.6572 - val_accuracy: 0.6418\n",
      "Epoch 42/250\n",
      "1/1 [==============================] - 0s 29ms/step - loss: 0.6407 - accuracy: 0.6418 - val_loss: 0.6572 - val_accuracy: 0.6418\n",
      "Epoch 43/250\n",
      "1/1 [==============================] - 0s 30ms/step - loss: 0.6404 - accuracy: 0.6418 - val_loss: 0.6571 - val_accuracy: 0.6418\n",
      "Epoch 44/250\n",
      "1/1 [==============================] - 0s 29ms/step - loss: 0.6400 - accuracy: 0.6418 - val_loss: 0.6570 - val_accuracy: 0.6418\n",
      "Epoch 45/250\n",
      "1/1 [==============================] - 0s 29ms/step - loss: 0.6396 - accuracy: 0.6418 - val_loss: 0.6570 - val_accuracy: 0.6418\n",
      "Epoch 46/250\n",
      "1/1 [==============================] - 0s 31ms/step - loss: 0.6392 - accuracy: 0.6418 - val_loss: 0.6569 - val_accuracy: 0.6418\n",
      "Epoch 47/250\n",
      "1/1 [==============================] - 0s 32ms/step - loss: 0.6389 - accuracy: 0.6418 - val_loss: 0.6570 - val_accuracy: 0.6418\n",
      "Epoch 48/250\n",
      "1/1 [==============================] - 0s 30ms/step - loss: 0.6386 - accuracy: 0.6418 - val_loss: 0.6570 - val_accuracy: 0.6418\n",
      "Epoch 49/250\n",
      "1/1 [==============================] - 0s 32ms/step - loss: 0.6382 - accuracy: 0.6418 - val_loss: 0.6571 - val_accuracy: 0.6418\n",
      "Epoch 50/250\n",
      "1/1 [==============================] - 0s 30ms/step - loss: 0.6378 - accuracy: 0.6418 - val_loss: 0.6572 - val_accuracy: 0.6418\n",
      "Epoch 51/250\n",
      "1/1 [==============================] - 0s 30ms/step - loss: 0.6374 - accuracy: 0.6418 - val_loss: 0.6574 - val_accuracy: 0.6418\n",
      "Epoch 52/250\n",
      "1/1 [==============================] - 0s 30ms/step - loss: 0.6370 - accuracy: 0.6418 - val_loss: 0.6576 - val_accuracy: 0.6418\n",
      "Epoch 53/250\n",
      "1/1 [==============================] - 0s 29ms/step - loss: 0.6366 - accuracy: 0.6418 - val_loss: 0.6578 - val_accuracy: 0.6418\n",
      "Epoch 54/250\n",
      "1/1 [==============================] - 0s 29ms/step - loss: 0.6362 - accuracy: 0.6418 - val_loss: 0.6581 - val_accuracy: 0.6418\n",
      "Epoch 55/250\n",
      "1/1 [==============================] - 0s 31ms/step - loss: 0.6359 - accuracy: 0.6418 - val_loss: 0.6583 - val_accuracy: 0.6418\n",
      "Epoch 56/250\n",
      "1/1 [==============================] - 0s 30ms/step - loss: 0.6355 - accuracy: 0.6418 - val_loss: 0.6585 - val_accuracy: 0.6418\n",
      "Epoch 57/250\n",
      "1/1 [==============================] - 0s 30ms/step - loss: 0.6350 - accuracy: 0.6418 - val_loss: 0.6587 - val_accuracy: 0.6418\n",
      "Epoch 58/250\n",
      "1/1 [==============================] - 0s 30ms/step - loss: 0.6346 - accuracy: 0.6419 - val_loss: 0.6588 - val_accuracy: 0.6418\n",
      "Epoch 59/250\n",
      "1/1 [==============================] - 0s 29ms/step - loss: 0.6341 - accuracy: 0.6419 - val_loss: 0.6590 - val_accuracy: 0.6412\n",
      "Epoch 60/250\n",
      "1/1 [==============================] - 0s 31ms/step - loss: 0.6337 - accuracy: 0.6418 - val_loss: 0.6592 - val_accuracy: 0.6412\n",
      "Epoch 61/250\n",
      "1/1 [==============================] - 0s 29ms/step - loss: 0.6332 - accuracy: 0.6418 - val_loss: 0.6594 - val_accuracy: 0.6412\n",
      "Epoch 62/250\n",
      "1/1 [==============================] - 0s 30ms/step - loss: 0.6328 - accuracy: 0.6421 - val_loss: 0.6597 - val_accuracy: 0.6412\n",
      "Epoch 63/250\n",
      "1/1 [==============================] - 0s 32ms/step - loss: 0.6323 - accuracy: 0.6422 - val_loss: 0.6600 - val_accuracy: 0.6412\n",
      "Epoch 64/250\n",
      "1/1 [==============================] - 0s 30ms/step - loss: 0.6318 - accuracy: 0.6421 - val_loss: 0.6603 - val_accuracy: 0.6412\n",
      "Epoch 65/250\n",
      "1/1 [==============================] - 0s 31ms/step - loss: 0.6312 - accuracy: 0.6421 - val_loss: 0.6606 - val_accuracy: 0.6412\n",
      "Epoch 66/250\n",
      "1/1 [==============================] - 0s 33ms/step - loss: 0.6307 - accuracy: 0.6422 - val_loss: 0.6609 - val_accuracy: 0.6412\n",
      "Epoch 67/250\n",
      "1/1 [==============================] - 0s 32ms/step - loss: 0.6302 - accuracy: 0.6421 - val_loss: 0.6612 - val_accuracy: 0.6412\n",
      "Epoch 68/250\n",
      "1/1 [==============================] - 0s 32ms/step - loss: 0.6296 - accuracy: 0.6418 - val_loss: 0.6614 - val_accuracy: 0.6412\n",
      "Epoch 69/250\n",
      "1/1 [==============================] - 0s 33ms/step - loss: 0.6290 - accuracy: 0.6418 - val_loss: 0.6617 - val_accuracy: 0.6412\n",
      "Epoch 70/250\n",
      "1/1 [==============================] - 0s 33ms/step - loss: 0.6285 - accuracy: 0.6415 - val_loss: 0.6619 - val_accuracy: 0.6418\n",
      "Epoch 71/250\n",
      "1/1 [==============================] - 0s 32ms/step - loss: 0.6279 - accuracy: 0.6418 - val_loss: 0.6622 - val_accuracy: 0.6423\n",
      "Epoch 72/250\n",
      "1/1 [==============================] - 0s 31ms/step - loss: 0.6273 - accuracy: 0.6419 - val_loss: 0.6625 - val_accuracy: 0.6423\n",
      "Epoch 73/250\n",
      "1/1 [==============================] - 0s 30ms/step - loss: 0.6266 - accuracy: 0.6422 - val_loss: 0.6629 - val_accuracy: 0.6412\n",
      "Epoch 74/250\n",
      "1/1 [==============================] - 0s 29ms/step - loss: 0.6260 - accuracy: 0.6428 - val_loss: 0.6633 - val_accuracy: 0.6429\n",
      "Epoch 75/250\n",
      "1/1 [==============================] - 0s 30ms/step - loss: 0.6253 - accuracy: 0.6435 - val_loss: 0.6638 - val_accuracy: 0.6423\n",
      "Epoch 76/250\n",
      "1/1 [==============================] - 0s 30ms/step - loss: 0.6246 - accuracy: 0.6441 - val_loss: 0.6643 - val_accuracy: 0.6423\n",
      "Epoch 77/250\n",
      "1/1 [==============================] - 0s 29ms/step - loss: 0.6239 - accuracy: 0.6452 - val_loss: 0.6649 - val_accuracy: 0.6412\n",
      "Epoch 78/250\n",
      "1/1 [==============================] - 0s 29ms/step - loss: 0.6231 - accuracy: 0.6455 - val_loss: 0.6655 - val_accuracy: 0.6418\n",
      "Epoch 79/250\n",
      "1/1 [==============================] - 0s 31ms/step - loss: 0.6224 - accuracy: 0.6466 - val_loss: 0.6663 - val_accuracy: 0.6406\n",
      "Epoch 80/250\n",
      "1/1 [==============================] - 0s 31ms/step - loss: 0.6217 - accuracy: 0.6476 - val_loss: 0.6672 - val_accuracy: 0.6355\n",
      "Epoch 81/250\n",
      "1/1 [==============================] - 0s 29ms/step - loss: 0.6209 - accuracy: 0.6489 - val_loss: 0.6682 - val_accuracy: 0.6355\n",
      "Epoch 82/250\n",
      "1/1 [==============================] - 0s 31ms/step - loss: 0.6201 - accuracy: 0.6491 - val_loss: 0.6691 - val_accuracy: 0.6343\n",
      "Epoch 83/250\n",
      "1/1 [==============================] - 0s 30ms/step - loss: 0.6194 - accuracy: 0.6511 - val_loss: 0.6701 - val_accuracy: 0.6326\n",
      "Epoch 84/250\n",
      "1/1 [==============================] - 0s 30ms/step - loss: 0.6185 - accuracy: 0.6524 - val_loss: 0.6709 - val_accuracy: 0.6321\n",
      "Epoch 85/250\n",
      "1/1 [==============================] - 0s 31ms/step - loss: 0.6177 - accuracy: 0.6548 - val_loss: 0.6717 - val_accuracy: 0.6286\n",
      "Epoch 86/250\n",
      "1/1 [==============================] - 0s 30ms/step - loss: 0.6168 - accuracy: 0.6563 - val_loss: 0.6724 - val_accuracy: 0.6269\n",
      "Epoch 87/250\n",
      "1/1 [==============================] - 0s 31ms/step - loss: 0.6159 - accuracy: 0.6586 - val_loss: 0.6732 - val_accuracy: 0.6229\n",
      "Epoch 88/250\n",
      "1/1 [==============================] - 0s 31ms/step - loss: 0.6150 - accuracy: 0.6601 - val_loss: 0.6742 - val_accuracy: 0.6235\n",
      "Epoch 89/250\n",
      "1/1 [==============================] - 0s 30ms/step - loss: 0.6141 - accuracy: 0.6621 - val_loss: 0.6754 - val_accuracy: 0.6229\n",
      "Epoch 90/250\n",
      "1/1 [==============================] - 0s 33ms/step - loss: 0.6131 - accuracy: 0.6639 - val_loss: 0.6767 - val_accuracy: 0.6235\n",
      "Epoch 91/250\n",
      "1/1 [==============================] - 0s 30ms/step - loss: 0.6121 - accuracy: 0.6650 - val_loss: 0.6780 - val_accuracy: 0.6189\n",
      "Epoch 92/250\n",
      "1/1 [==============================] - 0s 31ms/step - loss: 0.6111 - accuracy: 0.6652 - val_loss: 0.6794 - val_accuracy: 0.6184\n",
      "Epoch 93/250\n",
      "1/1 [==============================] - 0s 31ms/step - loss: 0.6101 - accuracy: 0.6670 - val_loss: 0.6807 - val_accuracy: 0.6178\n",
      "Epoch 94/250\n",
      "1/1 [==============================] - 0s 31ms/step - loss: 0.6091 - accuracy: 0.6680 - val_loss: 0.6821 - val_accuracy: 0.6189\n",
      "Epoch 95/250\n",
      "1/1 [==============================] - 0s 33ms/step - loss: 0.6082 - accuracy: 0.6695 - val_loss: 0.6835 - val_accuracy: 0.6178\n",
      "Epoch 96/250\n",
      "1/1 [==============================] - 0s 30ms/step - loss: 0.6071 - accuracy: 0.6693 - val_loss: 0.6848 - val_accuracy: 0.6155\n",
      "Epoch 97/250\n",
      "1/1 [==============================] - 0s 30ms/step - loss: 0.6061 - accuracy: 0.6710 - val_loss: 0.6860 - val_accuracy: 0.6144\n",
      "Epoch 98/250\n",
      "1/1 [==============================] - 0s 30ms/step - loss: 0.6050 - accuracy: 0.6738 - val_loss: 0.6872 - val_accuracy: 0.6132\n",
      "Epoch 99/250\n",
      "1/1 [==============================] - 0s 30ms/step - loss: 0.6040 - accuracy: 0.6735 - val_loss: 0.6883 - val_accuracy: 0.6092\n",
      "Epoch 100/250\n",
      "1/1 [==============================] - 0s 29ms/step - loss: 0.6028 - accuracy: 0.6729 - val_loss: 0.6893 - val_accuracy: 0.6098\n",
      "Epoch 101/250\n",
      "1/1 [==============================] - 0s 30ms/step - loss: 0.6017 - accuracy: 0.6730 - val_loss: 0.6901 - val_accuracy: 0.6121\n",
      "Epoch 102/250\n",
      "1/1 [==============================] - 0s 29ms/step - loss: 0.6005 - accuracy: 0.6730 - val_loss: 0.6914 - val_accuracy: 0.6155\n",
      "Epoch 103/250\n",
      "1/1 [==============================] - 0s 30ms/step - loss: 0.5994 - accuracy: 0.6740 - val_loss: 0.6926 - val_accuracy: 0.6121\n",
      "Epoch 104/250\n",
      "1/1 [==============================] - 0s 29ms/step - loss: 0.5982 - accuracy: 0.6743 - val_loss: 0.6937 - val_accuracy: 0.6115\n",
      "Epoch 105/250\n",
      "1/1 [==============================] - 0s 29ms/step - loss: 0.5971 - accuracy: 0.6748 - val_loss: 0.6949 - val_accuracy: 0.6098\n",
      "Epoch 106/250\n",
      "1/1 [==============================] - 0s 30ms/step - loss: 0.5960 - accuracy: 0.6760 - val_loss: 0.6961 - val_accuracy: 0.6075\n",
      "Epoch 107/250\n",
      "1/1 [==============================] - 0s 31ms/step - loss: 0.5948 - accuracy: 0.6760 - val_loss: 0.6970 - val_accuracy: 0.6075\n",
      "Epoch 108/250\n",
      "1/1 [==============================] - 0s 31ms/step - loss: 0.5936 - accuracy: 0.6762 - val_loss: 0.6986 - val_accuracy: 0.6052\n",
      "Epoch 109/250\n",
      "1/1 [==============================] - 0s 31ms/step - loss: 0.5924 - accuracy: 0.6790 - val_loss: 0.7003 - val_accuracy: 0.6041\n",
      "Epoch 110/250\n",
      "1/1 [==============================] - 0s 30ms/step - loss: 0.5913 - accuracy: 0.6796 - val_loss: 0.7017 - val_accuracy: 0.6052\n",
      "Epoch 111/250\n",
      "1/1 [==============================] - 0s 30ms/step - loss: 0.5901 - accuracy: 0.6797 - val_loss: 0.7031 - val_accuracy: 0.6024\n",
      "Epoch 112/250\n",
      "1/1 [==============================] - 0s 30ms/step - loss: 0.5890 - accuracy: 0.6816 - val_loss: 0.7049 - val_accuracy: 0.6018\n",
      "Epoch 113/250\n",
      "1/1 [==============================] - 0s 30ms/step - loss: 0.5878 - accuracy: 0.6835 - val_loss: 0.7068 - val_accuracy: 0.6024\n",
      "Epoch 114/250\n",
      "1/1 [==============================] - 0s 30ms/step - loss: 0.5867 - accuracy: 0.6839 - val_loss: 0.7081 - val_accuracy: 0.6024\n",
      "Epoch 115/250\n",
      "1/1 [==============================] - 0s 30ms/step - loss: 0.5855 - accuracy: 0.6839 - val_loss: 0.7092 - val_accuracy: 0.6030\n",
      "Epoch 116/250\n",
      "1/1 [==============================] - 0s 30ms/step - loss: 0.5845 - accuracy: 0.6864 - val_loss: 0.7112 - val_accuracy: 0.6013\n",
      "Epoch 117/250\n",
      "1/1 [==============================] - 0s 30ms/step - loss: 0.5833 - accuracy: 0.6883 - val_loss: 0.7134 - val_accuracy: 0.5984\n",
      "Epoch 118/250\n",
      "1/1 [==============================] - 0s 30ms/step - loss: 0.5822 - accuracy: 0.6882 - val_loss: 0.7162 - val_accuracy: 0.5927\n",
      "Epoch 119/250\n",
      "1/1 [==============================] - 0s 33ms/step - loss: 0.5812 - accuracy: 0.6883 - val_loss: 0.7175 - val_accuracy: 0.5990\n",
      "Epoch 120/250\n",
      "1/1 [==============================] - 0s 35ms/step - loss: 0.5804 - accuracy: 0.6879 - val_loss: 0.7201 - val_accuracy: 0.5853\n",
      "Epoch 121/250\n",
      "1/1 [==============================] - 0s 35ms/step - loss: 0.5798 - accuracy: 0.6907 - val_loss: 0.7234 - val_accuracy: 0.6092\n",
      "Epoch 122/250\n",
      "1/1 [==============================] - 0s 51ms/step - loss: 0.5790 - accuracy: 0.6894 - val_loss: 0.7238 - val_accuracy: 0.5870\n",
      "Epoch 123/250\n",
      "1/1 [==============================] - 0s 33ms/step - loss: 0.5770 - accuracy: 0.6920 - val_loss: 0.7248 - val_accuracy: 0.5950\n",
      "Epoch 124/250\n",
      "1/1 [==============================] - 0s 31ms/step - loss: 0.5754 - accuracy: 0.6953 - val_loss: 0.7263 - val_accuracy: 0.5978\n",
      "Epoch 125/250\n",
      "1/1 [==============================] - 0s 30ms/step - loss: 0.5746 - accuracy: 0.6953 - val_loss: 0.7271 - val_accuracy: 0.5801\n",
      "Epoch 126/250\n",
      "1/1 [==============================] - 0s 30ms/step - loss: 0.5742 - accuracy: 0.6943 - val_loss: 0.7273 - val_accuracy: 0.6013\n",
      "Epoch 127/250\n",
      "1/1 [==============================] - 0s 31ms/step - loss: 0.5732 - accuracy: 0.6953 - val_loss: 0.7279 - val_accuracy: 0.5847\n",
      "Epoch 128/250\n",
      "1/1 [==============================] - 0s 29ms/step - loss: 0.5712 - accuracy: 0.6973 - val_loss: 0.7308 - val_accuracy: 0.5819\n",
      "Epoch 129/250\n",
      "1/1 [==============================] - 0s 30ms/step - loss: 0.5703 - accuracy: 0.6980 - val_loss: 0.7321 - val_accuracy: 0.6047\n",
      "Epoch 130/250\n",
      "1/1 [==============================] - 0s 29ms/step - loss: 0.5705 - accuracy: 0.6986 - val_loss: 0.7305 - val_accuracy: 0.5733\n",
      "Epoch 131/250\n",
      "1/1 [==============================] - 0s 29ms/step - loss: 0.5690 - accuracy: 0.6981 - val_loss: 0.7327 - val_accuracy: 0.5898\n",
      "Epoch 132/250\n",
      "1/1 [==============================] - 0s 31ms/step - loss: 0.5670 - accuracy: 0.7009 - val_loss: 0.7354 - val_accuracy: 0.5978\n",
      "Epoch 133/250\n",
      "1/1 [==============================] - 0s 30ms/step - loss: 0.5667 - accuracy: 0.7020 - val_loss: 0.7353 - val_accuracy: 0.5762\n",
      "Epoch 134/250\n",
      "1/1 [==============================] - 0s 31ms/step - loss: 0.5661 - accuracy: 0.7050 - val_loss: 0.7351 - val_accuracy: 0.5921\n",
      "Epoch 135/250\n",
      "1/1 [==============================] - 0s 31ms/step - loss: 0.5646 - accuracy: 0.7036 - val_loss: 0.7376 - val_accuracy: 0.5864\n",
      "Epoch 136/250\n",
      "1/1 [==============================] - 0s 31ms/step - loss: 0.5630 - accuracy: 0.7046 - val_loss: 0.7405 - val_accuracy: 0.5744\n",
      "Epoch 137/250\n",
      "1/1 [==============================] - 0s 30ms/step - loss: 0.5627 - accuracy: 0.7054 - val_loss: 0.7392 - val_accuracy: 0.5921\n",
      "Epoch 138/250\n",
      "1/1 [==============================] - 0s 30ms/step - loss: 0.5622 - accuracy: 0.7054 - val_loss: 0.7396 - val_accuracy: 0.5722\n",
      "Epoch 139/250\n",
      "1/1 [==============================] - 0s 30ms/step - loss: 0.5606 - accuracy: 0.7078 - val_loss: 0.7448 - val_accuracy: 0.5744\n",
      "Epoch 140/250\n",
      "1/1 [==============================] - 0s 31ms/step - loss: 0.5592 - accuracy: 0.7087 - val_loss: 0.7463 - val_accuracy: 0.5847\n",
      "Epoch 141/250\n",
      "1/1 [==============================] - 0s 29ms/step - loss: 0.5588 - accuracy: 0.7096 - val_loss: 0.7454 - val_accuracy: 0.5682\n",
      "Epoch 142/250\n",
      "1/1 [==============================] - 0s 30ms/step - loss: 0.5580 - accuracy: 0.7091 - val_loss: 0.7474 - val_accuracy: 0.5836\n",
      "Epoch 143/250\n",
      "1/1 [==============================] - 0s 30ms/step - loss: 0.5563 - accuracy: 0.7123 - val_loss: 0.7526 - val_accuracy: 0.5801\n",
      "Epoch 144/250\n",
      "1/1 [==============================] - 0s 30ms/step - loss: 0.5551 - accuracy: 0.7124 - val_loss: 0.7516 - val_accuracy: 0.5705\n",
      "Epoch 145/250\n",
      "1/1 [==============================] - 0s 31ms/step - loss: 0.5542 - accuracy: 0.7131 - val_loss: 0.7494 - val_accuracy: 0.5859\n",
      "Epoch 146/250\n",
      "1/1 [==============================] - 0s 31ms/step - loss: 0.5538 - accuracy: 0.7136 - val_loss: 0.7543 - val_accuracy: 0.5705\n",
      "Epoch 147/250\n",
      "1/1 [==============================] - 0s 30ms/step - loss: 0.5523 - accuracy: 0.7154 - val_loss: 0.7591 - val_accuracy: 0.5819\n",
      "Epoch 148/250\n",
      "1/1 [==============================] - 0s 32ms/step - loss: 0.5511 - accuracy: 0.7175 - val_loss: 0.7570 - val_accuracy: 0.5841\n",
      "Epoch 149/250\n",
      "1/1 [==============================] - 0s 34ms/step - loss: 0.5500 - accuracy: 0.7188 - val_loss: 0.7580 - val_accuracy: 0.5779\n",
      "Epoch 150/250\n",
      "1/1 [==============================] - 0s 32ms/step - loss: 0.5494 - accuracy: 0.7185 - val_loss: 0.7628 - val_accuracy: 0.5841\n",
      "Epoch 151/250\n",
      "1/1 [==============================] - 0s 31ms/step - loss: 0.5487 - accuracy: 0.7171 - val_loss: 0.7665 - val_accuracy: 0.5773\n",
      "Epoch 152/250\n",
      "1/1 [==============================] - 0s 31ms/step - loss: 0.5482 - accuracy: 0.7217 - val_loss: 0.7639 - val_accuracy: 0.5870\n",
      "Epoch 153/250\n",
      "1/1 [==============================] - 0s 29ms/step - loss: 0.5473 - accuracy: 0.7184 - val_loss: 0.7663 - val_accuracy: 0.5773\n",
      "Epoch 154/250\n",
      "1/1 [==============================] - 0s 30ms/step - loss: 0.5459 - accuracy: 0.7241 - val_loss: 0.7712 - val_accuracy: 0.5790\n",
      "Epoch 155/250\n",
      "1/1 [==============================] - 0s 31ms/step - loss: 0.5445 - accuracy: 0.7194 - val_loss: 0.7705 - val_accuracy: 0.5784\n",
      "Epoch 156/250\n",
      "1/1 [==============================] - 0s 29ms/step - loss: 0.5434 - accuracy: 0.7231 - val_loss: 0.7701 - val_accuracy: 0.5773\n",
      "Epoch 157/250\n",
      "1/1 [==============================] - 0s 30ms/step - loss: 0.5426 - accuracy: 0.7238 - val_loss: 0.7753 - val_accuracy: 0.5801\n",
      "Epoch 158/250\n",
      "1/1 [==============================] - 0s 30ms/step - loss: 0.5419 - accuracy: 0.7208 - val_loss: 0.7779 - val_accuracy: 0.5773\n",
      "Epoch 159/250\n",
      "1/1 [==============================] - 0s 31ms/step - loss: 0.5418 - accuracy: 0.7230 - val_loss: 0.7753 - val_accuracy: 0.5836\n",
      "Epoch 160/250\n",
      "1/1 [==============================] - 0s 30ms/step - loss: 0.5422 - accuracy: 0.7214 - val_loss: 0.7800 - val_accuracy: 0.5705\n",
      "Epoch 161/250\n",
      "1/1 [==============================] - 0s 30ms/step - loss: 0.5402 - accuracy: 0.7265 - val_loss: 0.7865 - val_accuracy: 0.5796\n",
      "Epoch 162/250\n",
      "1/1 [==============================] - 0s 30ms/step - loss: 0.5384 - accuracy: 0.7233 - val_loss: 0.7836 - val_accuracy: 0.5801\n",
      "Epoch 163/250\n",
      "1/1 [==============================] - 0s 30ms/step - loss: 0.5370 - accuracy: 0.7254 - val_loss: 0.7844 - val_accuracy: 0.5699\n",
      "Epoch 164/250\n",
      "1/1 [==============================] - 0s 29ms/step - loss: 0.5368 - accuracy: 0.7280 - val_loss: 0.7913 - val_accuracy: 0.5807\n",
      "Epoch 165/250\n",
      "1/1 [==============================] - 0s 30ms/step - loss: 0.5367 - accuracy: 0.7251 - val_loss: 0.7926 - val_accuracy: 0.5710\n",
      "Epoch 166/250\n",
      "1/1 [==============================] - 0s 32ms/step - loss: 0.5359 - accuracy: 0.7252 - val_loss: 0.7887 - val_accuracy: 0.5796\n",
      "Epoch 167/250\n",
      "1/1 [==============================] - 0s 31ms/step - loss: 0.5344 - accuracy: 0.7262 - val_loss: 0.7933 - val_accuracy: 0.5784\n",
      "Epoch 168/250\n",
      "1/1 [==============================] - 0s 31ms/step - loss: 0.5327 - accuracy: 0.7284 - val_loss: 0.7998 - val_accuracy: 0.5762\n",
      "Epoch 169/250\n",
      "1/1 [==============================] - 0s 31ms/step - loss: 0.5328 - accuracy: 0.7282 - val_loss: 0.7950 - val_accuracy: 0.5841\n",
      "Epoch 170/250\n",
      "1/1 [==============================] - 0s 31ms/step - loss: 0.5332 - accuracy: 0.7282 - val_loss: 0.7965 - val_accuracy: 0.5716\n",
      "Epoch 171/250\n",
      "1/1 [==============================] - 0s 30ms/step - loss: 0.5321 - accuracy: 0.7292 - val_loss: 0.8076 - val_accuracy: 0.5807\n",
      "Epoch 172/250\n",
      "1/1 [==============================] - 0s 31ms/step - loss: 0.5305 - accuracy: 0.7300 - val_loss: 0.8009 - val_accuracy: 0.5801\n",
      "Epoch 173/250\n",
      "1/1 [==============================] - 0s 31ms/step - loss: 0.5287 - accuracy: 0.7305 - val_loss: 0.7993 - val_accuracy: 0.5727\n",
      "Epoch 174/250\n",
      "1/1 [==============================] - 0s 30ms/step - loss: 0.5290 - accuracy: 0.7282 - val_loss: 0.8104 - val_accuracy: 0.5830\n",
      "Epoch 175/250\n",
      "1/1 [==============================] - 0s 32ms/step - loss: 0.5289 - accuracy: 0.7315 - val_loss: 0.8081 - val_accuracy: 0.5722\n",
      "Epoch 176/250\n",
      "1/1 [==============================] - 0s 31ms/step - loss: 0.5275 - accuracy: 0.7325 - val_loss: 0.8026 - val_accuracy: 0.5767\n",
      "Epoch 177/250\n",
      "1/1 [==============================] - 0s 31ms/step - loss: 0.5268 - accuracy: 0.7311 - val_loss: 0.8138 - val_accuracy: 0.5762\n",
      "Epoch 178/250\n",
      "1/1 [==============================] - 0s 30ms/step - loss: 0.5250 - accuracy: 0.7351 - val_loss: 0.8206 - val_accuracy: 0.5750\n",
      "Epoch 179/250\n",
      "1/1 [==============================] - 0s 31ms/step - loss: 0.5251 - accuracy: 0.7335 - val_loss: 0.8093 - val_accuracy: 0.5830\n",
      "Epoch 180/250\n",
      "1/1 [==============================] - 0s 30ms/step - loss: 0.5256 - accuracy: 0.7318 - val_loss: 0.8135 - val_accuracy: 0.5699\n",
      "Epoch 181/250\n",
      "1/1 [==============================] - 0s 30ms/step - loss: 0.5240 - accuracy: 0.7378 - val_loss: 0.8301 - val_accuracy: 0.5836\n",
      "Epoch 182/250\n",
      "1/1 [==============================] - 0s 31ms/step - loss: 0.5233 - accuracy: 0.7334 - val_loss: 0.8205 - val_accuracy: 0.5819\n",
      "Epoch 183/250\n",
      "1/1 [==============================] - 0s 30ms/step - loss: 0.5214 - accuracy: 0.7359 - val_loss: 0.8187 - val_accuracy: 0.5727\n",
      "Epoch 184/250\n",
      "1/1 [==============================] - 0s 31ms/step - loss: 0.5220 - accuracy: 0.7361 - val_loss: 0.8340 - val_accuracy: 0.5853\n",
      "Epoch 185/250\n",
      "1/1 [==============================] - 0s 30ms/step - loss: 0.5213 - accuracy: 0.7340 - val_loss: 0.8336 - val_accuracy: 0.5750\n",
      "Epoch 186/250\n",
      "1/1 [==============================] - 0s 30ms/step - loss: 0.5197 - accuracy: 0.7385 - val_loss: 0.8213 - val_accuracy: 0.5790\n",
      "Epoch 187/250\n",
      "1/1 [==============================] - 0s 30ms/step - loss: 0.5200 - accuracy: 0.7384 - val_loss: 0.8327 - val_accuracy: 0.5784\n",
      "Epoch 188/250\n",
      "1/1 [==============================] - 0s 31ms/step - loss: 0.5180 - accuracy: 0.7399 - val_loss: 0.8439 - val_accuracy: 0.5756\n",
      "Epoch 189/250\n",
      "1/1 [==============================] - 0s 32ms/step - loss: 0.5183 - accuracy: 0.7392 - val_loss: 0.8311 - val_accuracy: 0.5796\n",
      "Epoch 190/250\n",
      "1/1 [==============================] - 0s 31ms/step - loss: 0.5180 - accuracy: 0.7379 - val_loss: 0.8319 - val_accuracy: 0.5676\n",
      "Epoch 191/250\n",
      "1/1 [==============================] - 0s 32ms/step - loss: 0.5169 - accuracy: 0.7394 - val_loss: 0.8496 - val_accuracy: 0.5801\n",
      "Epoch 192/250\n",
      "1/1 [==============================] - 0s 33ms/step - loss: 0.5163 - accuracy: 0.7381 - val_loss: 0.8416 - val_accuracy: 0.5807\n",
      "Epoch 193/250\n",
      "1/1 [==============================] - 0s 29ms/step - loss: 0.5143 - accuracy: 0.7404 - val_loss: 0.8350 - val_accuracy: 0.5665\n",
      "Epoch 194/250\n",
      "1/1 [==============================] - 0s 31ms/step - loss: 0.5151 - accuracy: 0.7418 - val_loss: 0.8501 - val_accuracy: 0.5836\n",
      "Epoch 195/250\n",
      "1/1 [==============================] - 0s 30ms/step - loss: 0.5140 - accuracy: 0.7438 - val_loss: 0.8510 - val_accuracy: 0.5739\n",
      "Epoch 196/250\n",
      "1/1 [==============================] - 0s 29ms/step - loss: 0.5134 - accuracy: 0.7448 - val_loss: 0.8359 - val_accuracy: 0.5762\n",
      "Epoch 197/250\n",
      "1/1 [==============================] - 0s 29ms/step - loss: 0.5141 - accuracy: 0.7387 - val_loss: 0.8425 - val_accuracy: 0.5705\n",
      "Epoch 198/250\n",
      "1/1 [==============================] - 0s 32ms/step - loss: 0.5115 - accuracy: 0.7444 - val_loss: 0.8611 - val_accuracy: 0.5739\n",
      "Epoch 199/250\n",
      "1/1 [==============================] - 0s 31ms/step - loss: 0.5126 - accuracy: 0.7417 - val_loss: 0.8465 - val_accuracy: 0.5773\n",
      "Epoch 200/250\n",
      "1/1 [==============================] - 0s 29ms/step - loss: 0.5107 - accuracy: 0.7459 - val_loss: 0.8403 - val_accuracy: 0.5619\n",
      "Epoch 201/250\n",
      "1/1 [==============================] - 0s 30ms/step - loss: 0.5122 - accuracy: 0.7437 - val_loss: 0.8611 - val_accuracy: 0.5813\n",
      "Epoch 202/250\n",
      "1/1 [==============================] - 0s 30ms/step - loss: 0.5104 - accuracy: 0.7439 - val_loss: 0.8620 - val_accuracy: 0.5716\n",
      "Epoch 203/250\n",
      "1/1 [==============================] - 0s 32ms/step - loss: 0.5091 - accuracy: 0.7461 - val_loss: 0.8443 - val_accuracy: 0.5727\n",
      "Epoch 204/250\n",
      "1/1 [==============================] - 0s 31ms/step - loss: 0.5089 - accuracy: 0.7461 - val_loss: 0.8506 - val_accuracy: 0.5790\n",
      "Epoch 205/250\n",
      "1/1 [==============================] - 0s 30ms/step - loss: 0.5076 - accuracy: 0.7455 - val_loss: 0.8663 - val_accuracy: 0.5670\n",
      "Epoch 206/250\n",
      "1/1 [==============================] - 0s 29ms/step - loss: 0.5082 - accuracy: 0.7454 - val_loss: 0.8584 - val_accuracy: 0.5801\n",
      "Epoch 207/250\n",
      "1/1 [==============================] - 0s 36ms/step - loss: 0.5065 - accuracy: 0.7484 - val_loss: 0.8524 - val_accuracy: 0.5659\n",
      "Epoch 208/250\n",
      "1/1 [==============================] - 0s 56ms/step - loss: 0.5068 - accuracy: 0.7476 - val_loss: 0.8675 - val_accuracy: 0.5739\n",
      "Epoch 209/250\n",
      "1/1 [==============================] - 0s 32ms/step - loss: 0.5052 - accuracy: 0.7459 - val_loss: 0.8688 - val_accuracy: 0.5676\n",
      "Epoch 210/250\n",
      "1/1 [==============================] - 0s 31ms/step - loss: 0.5044 - accuracy: 0.7482 - val_loss: 0.8582 - val_accuracy: 0.5699\n",
      "Epoch 211/250\n",
      "1/1 [==============================] - 0s 30ms/step - loss: 0.5041 - accuracy: 0.7504 - val_loss: 0.8663 - val_accuracy: 0.5744\n",
      "Epoch 212/250\n",
      "1/1 [==============================] - 0s 29ms/step - loss: 0.5033 - accuracy: 0.7481 - val_loss: 0.8756 - val_accuracy: 0.5665\n",
      "Epoch 213/250\n",
      "1/1 [==============================] - 0s 30ms/step - loss: 0.5031 - accuracy: 0.7482 - val_loss: 0.8706 - val_accuracy: 0.5682\n",
      "Epoch 214/250\n",
      "1/1 [==============================] - 0s 29ms/step - loss: 0.5023 - accuracy: 0.7509 - val_loss: 0.8699 - val_accuracy: 0.5625\n",
      "Epoch 215/250\n",
      "1/1 [==============================] - 0s 30ms/step - loss: 0.5019 - accuracy: 0.7524 - val_loss: 0.8828 - val_accuracy: 0.5710\n",
      "Epoch 216/250\n",
      "1/1 [==============================] - 0s 30ms/step - loss: 0.5015 - accuracy: 0.7496 - val_loss: 0.8775 - val_accuracy: 0.5619\n",
      "Epoch 217/250\n",
      "1/1 [==============================] - 0s 29ms/step - loss: 0.5007 - accuracy: 0.7509 - val_loss: 0.8750 - val_accuracy: 0.5727\n",
      "Epoch 218/250\n",
      "1/1 [==============================] - 0s 30ms/step - loss: 0.5006 - accuracy: 0.7505 - val_loss: 0.8818 - val_accuracy: 0.5625\n",
      "Epoch 219/250\n",
      "1/1 [==============================] - 0s 31ms/step - loss: 0.4999 - accuracy: 0.7515 - val_loss: 0.8873 - val_accuracy: 0.5716\n",
      "Epoch 220/250\n",
      "1/1 [==============================] - 0s 30ms/step - loss: 0.4995 - accuracy: 0.7496 - val_loss: 0.8810 - val_accuracy: 0.5573\n",
      "Epoch 221/250\n",
      "1/1 [==============================] - 0s 29ms/step - loss: 0.4995 - accuracy: 0.7534 - val_loss: 0.8891 - val_accuracy: 0.5716\n",
      "Epoch 222/250\n",
      "1/1 [==============================] - 0s 30ms/step - loss: 0.4994 - accuracy: 0.7499 - val_loss: 0.8915 - val_accuracy: 0.5545\n",
      "Epoch 223/250\n",
      "1/1 [==============================] - 0s 30ms/step - loss: 0.4992 - accuracy: 0.7532 - val_loss: 0.8906 - val_accuracy: 0.5682\n",
      "Epoch 224/250\n",
      "1/1 [==============================] - 0s 30ms/step - loss: 0.4987 - accuracy: 0.7501 - val_loss: 0.8912 - val_accuracy: 0.5585\n",
      "Epoch 225/250\n",
      "1/1 [==============================] - 0s 29ms/step - loss: 0.4979 - accuracy: 0.7534 - val_loss: 0.8999 - val_accuracy: 0.5710\n",
      "Epoch 226/250\n",
      "1/1 [==============================] - 0s 29ms/step - loss: 0.4967 - accuracy: 0.7512 - val_loss: 0.8945 - val_accuracy: 0.5613\n",
      "Epoch 227/250\n",
      "1/1 [==============================] - 0s 30ms/step - loss: 0.4959 - accuracy: 0.7528 - val_loss: 0.8964 - val_accuracy: 0.5659\n",
      "Epoch 228/250\n",
      "1/1 [==============================] - 0s 29ms/step - loss: 0.4952 - accuracy: 0.7532 - val_loss: 0.9026 - val_accuracy: 0.5636\n",
      "Epoch 229/250\n",
      "1/1 [==============================] - 0s 28ms/step - loss: 0.4948 - accuracy: 0.7548 - val_loss: 0.8980 - val_accuracy: 0.5630\n",
      "Epoch 230/250\n",
      "1/1 [==============================] - 0s 31ms/step - loss: 0.4943 - accuracy: 0.7548 - val_loss: 0.9001 - val_accuracy: 0.5642\n",
      "Epoch 231/250\n",
      "1/1 [==============================] - 0s 30ms/step - loss: 0.4937 - accuracy: 0.7558 - val_loss: 0.9060 - val_accuracy: 0.5630\n",
      "Epoch 232/250\n",
      "1/1 [==============================] - 0s 30ms/step - loss: 0.4935 - accuracy: 0.7548 - val_loss: 0.8988 - val_accuracy: 0.5625\n",
      "Epoch 233/250\n",
      "1/1 [==============================] - 0s 30ms/step - loss: 0.4931 - accuracy: 0.7546 - val_loss: 0.9050 - val_accuracy: 0.5613\n",
      "Epoch 234/250\n",
      "1/1 [==============================] - 0s 30ms/step - loss: 0.4926 - accuracy: 0.7559 - val_loss: 0.9111 - val_accuracy: 0.5647\n",
      "Epoch 235/250\n",
      "1/1 [==============================] - 0s 30ms/step - loss: 0.4925 - accuracy: 0.7569 - val_loss: 0.9028 - val_accuracy: 0.5545\n",
      "Epoch 236/250\n",
      "1/1 [==============================] - 0s 32ms/step - loss: 0.4927 - accuracy: 0.7578 - val_loss: 0.9129 - val_accuracy: 0.5705\n",
      "Epoch 237/250\n",
      "1/1 [==============================] - 0s 31ms/step - loss: 0.4929 - accuracy: 0.7555 - val_loss: 0.9137 - val_accuracy: 0.5505\n",
      "Epoch 238/250\n",
      "1/1 [==============================] - 0s 31ms/step - loss: 0.4941 - accuracy: 0.7529 - val_loss: 0.9075 - val_accuracy: 0.5716\n",
      "Epoch 239/250\n",
      "1/1 [==============================] - 0s 30ms/step - loss: 0.4964 - accuracy: 0.7521 - val_loss: 0.9090 - val_accuracy: 0.5488\n",
      "Epoch 240/250\n",
      "1/1 [==============================] - 0s 28ms/step - loss: 0.4934 - accuracy: 0.7519 - val_loss: 0.9275 - val_accuracy: 0.5630\n",
      "Epoch 241/250\n",
      "1/1 [==============================] - 0s 30ms/step - loss: 0.4912 - accuracy: 0.7568 - val_loss: 0.9129 - val_accuracy: 0.5596\n",
      "Epoch 242/250\n",
      "1/1 [==============================] - 0s 30ms/step - loss: 0.4899 - accuracy: 0.7566 - val_loss: 0.9093 - val_accuracy: 0.5493\n",
      "Epoch 243/250\n",
      "1/1 [==============================] - 0s 32ms/step - loss: 0.4920 - accuracy: 0.7571 - val_loss: 0.9316 - val_accuracy: 0.5710\n",
      "Epoch 244/250\n",
      "1/1 [==============================] - 0s 31ms/step - loss: 0.4918 - accuracy: 0.7534 - val_loss: 0.9222 - val_accuracy: 0.5499\n",
      "Epoch 245/250\n",
      "1/1 [==============================] - 0s 32ms/step - loss: 0.4889 - accuracy: 0.7606 - val_loss: 0.9058 - val_accuracy: 0.5516\n",
      "Epoch 246/250\n",
      "1/1 [==============================] - 0s 33ms/step - loss: 0.4887 - accuracy: 0.7592 - val_loss: 0.9198 - val_accuracy: 0.5630\n",
      "Epoch 247/250\n",
      "1/1 [==============================] - 0s 31ms/step - loss: 0.4879 - accuracy: 0.7598 - val_loss: 0.9311 - val_accuracy: 0.5505\n",
      "Epoch 248/250\n",
      "1/1 [==============================] - 0s 31ms/step - loss: 0.4897 - accuracy: 0.7569 - val_loss: 0.9142 - val_accuracy: 0.5602\n",
      "Epoch 249/250\n",
      "1/1 [==============================] - 0s 32ms/step - loss: 0.4883 - accuracy: 0.7578 - val_loss: 0.9115 - val_accuracy: 0.5499\n",
      "Epoch 250/250\n",
      "1/1 [==============================] - 0s 30ms/step - loss: 0.4866 - accuracy: 0.7611 - val_loss: 0.9357 - val_accuracy: 0.5556\n"
     ]
    }
   ],
   "source": [
    "model.compile(optimizer = tf.keras.optimizers.Adam(learning_rate=0.01), loss = tf.keras.losses.BinaryCrossentropy(), metrics=['accuracy'])\n",
    "history = model.fit(x_train, y_train, batch_size = x_train.shape[0], epochs = 250, validation_data=(x_test, y_test))"
   ]
  },
  {
   "cell_type": "markdown",
   "id": "99e319af",
   "metadata": {
    "papermill": {
     "duration": 0.084142,
     "end_time": "2024-02-15T10:53:18.781674",
     "exception": false,
     "start_time": "2024-02-15T10:53:18.697532",
     "status": "completed"
    },
    "tags": []
   },
   "source": [
    "# Analysing the model\n",
    "We can analyse how well our tensorflow model performs by looking at the loss and accuracy plotted against epoch. As we can see from the graphs below, the accuracy when the model predicts from data it has already been trained on (the training set) increases per epoch. However, when the model sees new data (validation set) the accuracy decreases per epoch."
   ]
  },
  {
   "cell_type": "code",
   "execution_count": 17,
   "id": "48318e4c",
   "metadata": {
    "execution": {
     "iopub.execute_input": "2024-02-15T10:53:18.957555Z",
     "iopub.status.busy": "2024-02-15T10:53:18.956695Z",
     "iopub.status.idle": "2024-02-15T10:53:19.288017Z",
     "shell.execute_reply": "2024-02-15T10:53:19.287142Z"
    },
    "papermill": {
     "duration": 0.422913,
     "end_time": "2024-02-15T10:53:19.290084",
     "exception": false,
     "start_time": "2024-02-15T10:53:18.867171",
     "status": "completed"
    },
    "tags": []
   },
   "outputs": [
    {
     "data": {
      "image/png": "[encoded data removed]",
      "text/plain": [
       "<Figure size 1000x600 with 1 Axes>"
      ]
     },
     "metadata": {},
     "output_type": "display_data"
    }
   ],
   "source": [
    "import matplotlib.pyplot as plt\n",
    "val_acc = history.history['val_accuracy']  # Assuming the metric is named 'val_accuracy'\n",
    "plt.figure(figsize=(10, 6))\n",
    "\n",
    "# Plot training accuracy\n",
    "plt.plot(range(len(history.history['accuracy'])), history.history['accuracy'], label='Training Accuracy', marker='o', color='b')\n",
    "\n",
    "# Plot validation accuracy\n",
    "plt.plot(range(len(val_acc)), val_acc, label='Validation Accuracy', marker='s', color='g')\n",
    "\n",
    "# Add labels, title, legend, grid, etc.\n",
    "plt.xlabel('Epoch')\n",
    "plt.ylabel('Accuracy')\n",
    "plt.title('Training and Validation Accuracy per Epoch')\n",
    "plt.legend()\n",
    "plt.grid(True)\n",
    "plt.tight_layout()\n",
    "plt.show()"
   ]
  },
  {
   "cell_type": "markdown",
   "id": "6a5dc12f",
   "metadata": {
    "papermill": {
     "duration": 0.085336,
     "end_time": "2024-02-15T10:53:19.478985",
     "exception": false,
     "start_time": "2024-02-15T10:53:19.393649",
     "status": "completed"
    },
    "tags": []
   },
   "source": [
    "From the graph under the code cell below, we can see the Loss for the training set decreases per epoch, but the loss for validation increases per epoch."
   ]
  },
  {
   "cell_type": "code",
   "execution_count": 18,
   "id": "7774d300",
   "metadata": {
    "execution": {
     "iopub.execute_input": "2024-02-15T10:53:19.647097Z",
     "iopub.status.busy": "2024-02-15T10:53:19.646582Z",
     "iopub.status.idle": "2024-02-15T10:53:20.082801Z",
     "shell.execute_reply": "2024-02-15T10:53:20.081699Z"
    },
    "papermill": {
     "duration": 0.524182,
     "end_time": "2024-02-15T10:53:20.085289",
     "exception": false,
     "start_time": "2024-02-15T10:53:19.561107",
     "status": "completed"
    },
    "tags": []
   },
   "outputs": [
    {
     "data": {
      "image/png": "[encoded data removed]",
      "text/plain": [
       "<Figure size 1000x600 with 1 Axes>"
      ]
     },
     "metadata": {},
     "output_type": "display_data"
    }
   ],
   "source": [
    "import matplotlib.pyplot as plt\n",
    "val_acc = history.history['val_loss']\n",
    "plt.figure(figsize=(10, 6))\n",
    "\n",
    "# Plot training accuracy\n",
    "plt.plot(range(len(history.history['loss'])), history.history['loss'], label='Training Loss', marker='o', color='b')\n",
    "# Plot validation accuracy\n",
    "plt.plot(range(len(val_acc)), val_acc, label='Validation Loss', marker='s', color='g')\n",
    "\n",
    "# Add labels, title, legend, grid, etc.\n",
    "plt.xlabel('Epoch')\n",
    "plt.ylabel('Loss')\n",
    "plt.title('Training and Validation Loss per Epoch')\n",
    "plt.legend()\n",
    "plt.grid(True)\n",
    "plt.tight_layout()\n",
    "plt.show()"
   ]
  },
  {
   "cell_type": "markdown",
   "id": "118378ef",
   "metadata": {
    "papermill": {
     "duration": 0.081492,
     "end_time": "2024-02-15T10:53:20.250047",
     "exception": false,
     "start_time": "2024-02-15T10:53:20.168555",
     "status": "completed"
    },
    "tags": []
   },
   "source": [
    "Below we have the classification report when the model predicts from the training set."
   ]
  },
  {
   "cell_type": "code",
   "execution_count": 19,
   "id": "eeffc000",
   "metadata": {
    "execution": {
     "iopub.execute_input": "2024-02-15T10:53:20.418417Z",
     "iopub.status.busy": "2024-02-15T10:53:20.417500Z",
     "iopub.status.idle": "2024-02-15T10:53:21.062682Z",
     "shell.execute_reply": "2024-02-15T10:53:21.061560Z"
    },
    "papermill": {
     "duration": 0.734063,
     "end_time": "2024-02-15T10:53:21.064792",
     "exception": false,
     "start_time": "2024-02-15T10:53:20.330729",
     "status": "completed"
    },
    "tags": []
   },
   "outputs": [
    {
     "name": "stdout",
     "output_type": "stream",
     "text": [
      "220/220 [==============================] - 0s 1ms/step\n",
      "Accuracy: 0.7601997146932953\n",
      "Classification Report:\n",
      "              precision    recall  f1-score   support\n",
      "\n",
      "           0       0.78      0.87      0.82      4499\n",
      "           1       0.71      0.56      0.63      2511\n",
      "\n",
      "    accuracy                           0.76      7010\n",
      "   macro avg       0.74      0.72      0.72      7010\n",
      "weighted avg       0.75      0.76      0.75      7010\n",
      "\n"
     ]
    }
   ],
   "source": [
    "# Apply threshold for binary predictions\n",
    "a = x_train\n",
    "b = y_train\n",
    "predictions = model.predict(a)\n",
    "threshold = 0.5\n",
    "binary_predictions = (predictions >= threshold).astype(int)\n",
    "\n",
    "# Evaluate and print results\n",
    "accuracy = accuracy_score(b, binary_predictions)\n",
    "conf_matrix = confusion_matrix(b, binary_predictions)\n",
    "class_report = classification_report(b, binary_predictions)\n",
    "\n",
    "print(f\"Accuracy: {accuracy}\")\n",
    "print(\"Classification Report:\")\n",
    "print(class_report)"
   ]
  },
  {
   "cell_type": "markdown",
   "id": "e4ea7983",
   "metadata": {
    "papermill": {
     "duration": 0.084416,
     "end_time": "2024-02-15T10:53:21.238320",
     "exception": false,
     "start_time": "2024-02-15T10:53:21.153904",
     "status": "completed"
    },
    "tags": []
   },
   "source": [
    "Below we have the classification report when the model predicts from the test set."
   ]
  },
  {
   "cell_type": "code",
   "execution_count": 20,
   "id": "b4ee6ee7",
   "metadata": {
    "execution": {
     "iopub.execute_input": "2024-02-15T10:53:21.400770Z",
     "iopub.status.busy": "2024-02-15T10:53:21.400096Z",
     "iopub.status.idle": "2024-02-15T10:53:21.585465Z",
     "shell.execute_reply": "2024-02-15T10:53:21.584398Z"
    },
    "papermill": {
     "duration": 0.26893,
     "end_time": "2024-02-15T10:53:21.587433",
     "exception": false,
     "start_time": "2024-02-15T10:53:21.318503",
     "status": "completed"
    },
    "tags": []
   },
   "outputs": [
    {
     "name": "stdout",
     "output_type": "stream",
     "text": [
      "55/55 [==============================] - 0s 1ms/step\n",
      "Accuracy: 0.5556189389617798\n",
      "Classification Report:\n",
      "              precision    recall  f1-score   support\n",
      "\n",
      "           0       0.64      0.71      0.67      1125\n",
      "           1       0.35      0.27      0.30       628\n",
      "\n",
      "    accuracy                           0.56      1753\n",
      "   macro avg       0.49      0.49      0.49      1753\n",
      "weighted avg       0.53      0.56      0.54      1753\n",
      "\n"
     ]
    }
   ],
   "source": [
    "# Apply threshold for binary predictions\n",
    "a = x_test\n",
    "b = y_test\n",
    "predictions = model.predict(a)\n",
    "threshold = 0.5\n",
    "binary_predictions = (predictions >= threshold).astype(int)\n",
    "\n",
    "# Evaluate and print results\n",
    "accuracy = accuracy_score(b, binary_predictions)\n",
    "conf_matrix = confusion_matrix(b, binary_predictions)\n",
    "class_report = classification_report(b, binary_predictions)\n",
    "\n",
    "print(f\"Accuracy: {accuracy}\")\n",
    "print(\"Classification Report:\")\n",
    "print(class_report)"
   ]
  },
  {
   "cell_type": "markdown",
   "id": "2c9e52f0",
   "metadata": {
    "papermill": {
     "duration": 0.081007,
     "end_time": "2024-02-15T10:53:21.752171",
     "exception": false,
     "start_time": "2024-02-15T10:53:21.671164",
     "status": "completed"
    },
    "tags": []
   },
   "source": [
    "As we can see from the accuracy against epochs graph, the tensorflow model performs the same on the validation set as the neural network coded from scratch until about 30 epochs. From this we can conclude that the calculations within our coded neural network in the first approach were accurate. However, **the tensorflow model starts overfitting which our first model did not**, even though we ran more epochs in the first model. This is most likely due to the use of **Adam optimisation, which helps the gradient descent to escape a local minima and start fitting well to the training set**. Due to the overfitting the accuracy on the training set increases but the accuracy on the validation set decreases."
   ]
  },
  {
   "cell_type": "markdown",
   "id": "b23dfde4",
   "metadata": {
    "papermill": {
     "duration": 0.079987,
     "end_time": "2024-02-15T10:53:21.911774",
     "exception": false,
     "start_time": "2024-02-15T10:53:21.831787",
     "status": "completed"
    },
    "tags": []
   },
   "source": [
    "# Training the Keras neural network using Genetic Algorithm\n",
    "Genetic Algorithm can be used to to tune the hyperparameters of a model by searching for the best combination of parameters such as number of hidden layers, number of neurons, learning rate etc.\n",
    "\n",
    "For our demo we are using GA to omptimise the model by only finding the best combination of neurons in the Hidden Layers. This is a maximisation operation where the best choice is that which produces the model with the most accurate results (i.e. the **accuracy** of the model is the **fitness value**). Since training a genetic algorithm takes a lot of time, we will only be using a **initial population size of 5**, and **3 maximum generations**. The **crossover probability is 0.8** and the **mutation probabilty is 0.2.**\n",
    "\n",
    "As training a Genetic Algorithm is computationally resource intensive, we have opted for a basic implementation here. With enough time and resources, we can test for other hyperparameters as well."
   ]
  },
  {
   "cell_type": "code",
   "execution_count": 21,
   "id": "8e432aa9",
   "metadata": {
    "execution": {
     "iopub.execute_input": "2024-02-15T10:53:22.078719Z",
     "iopub.status.busy": "2024-02-15T10:53:22.077904Z",
     "iopub.status.idle": "2024-02-15T10:55:19.231758Z",
     "shell.execute_reply": "2024-02-15T10:55:19.230792Z"
    },
    "papermill": {
     "duration": 117.320418,
     "end_time": "2024-02-15T10:55:19.317711",
     "exception": false,
     "start_time": "2024-02-15T10:53:21.997293",
     "status": "completed"
    },
    "tags": []
   },
   "outputs": [
    {
     "name": "stdout",
     "output_type": "stream",
     "text": [
      "Generation 1\n",
      "Parents:\n",
      "Individual: [12, 95, 16] Fitness: 0.6417570114135742\n",
      "Individual: [92, 26, 49] Fitness: 0.6417570114135742\n",
      "Individual: [6, 18, 66] Fitness: 0.6417570114135742\n",
      "Individual: [22, 56, 47] Fitness: 0.6417570114135742\n",
      "Individual: [6, 17, 52] Fitness: 0.6417570114135742\n",
      "Children:\n",
      "Individual: [92, 18, 49]\n",
      "Individual: [6, 26, 66]\n",
      "Individual: [22, 56, 47]\n",
      "Individual: [22, 56, 47]\n",
      "Individual: [22, 56, 47]\n",
      "Generation 2\n",
      "Parents:\n",
      "Individual: [92, 18, 49] Fitness: 0.6417570114135742\n",
      "Individual: [6, 26, 66] Fitness: 0.6417570114135742\n",
      "Individual: [22, 56, 47] Fitness: 0.6417570114135742\n",
      "Individual: [22, 56, 47] Fitness: 0.6417570114135742\n",
      "Individual: [22, 56, 47] Fitness: 0.6417570114135742\n",
      "Children:\n",
      "Individual: [6, 26, 66]\n",
      "Individual: [22, 56, 47]\n",
      "Individual: [22, 56, 36]\n",
      "Individual: [22, 87, 47]\n",
      "Individual: [92, 18, 49]\n",
      "Generation 3\n",
      "Parents:\n",
      "Individual: [6, 26, 66] Fitness: 0.6417570114135742\n",
      "Individual: [22, 56, 47] Fitness: 0.641186535358429\n",
      "Individual: [22, 56, 36] Fitness: 0.6417570114135742\n",
      "Individual: [22, 87, 47] Fitness: 0.6417570114135742\n",
      "Individual: [92, 18, 49] Fitness: 0.6417570114135742\n",
      "Children:\n",
      "Individual: [92, 18, 47]\n",
      "Individual: [22, 87, 49]\n",
      "Individual: [6, 26, 66]\n",
      "Individual: [6, 26, 66]\n",
      "Individual: [22, 56, 36]\n",
      "Best individual: [22, 56, 36]\n"
     ]
    }
   ],
   "source": [
    "import numpy as np\n",
    "import tensorflow as tf\n",
    "from tensorflow.keras.models import Sequential\n",
    "from tensorflow.keras.layers import Dense\n",
    "from tensorflow.keras.optimizers import Adam\n",
    "from deap import base, creator, tools\n",
    "\n",
    "# Define evaluation function\n",
    "def evaluate(individual):\n",
    "    # Decode the individual to obtain the architecture\n",
    "    n_neurons_hidden1, n_neurons_hidden2, n_neurons_hidden3 = individual\n",
    "    # Construct the neural network\n",
    "    model = Sequential([\n",
    "        tf.keras.Input(shape=(n,), name=\"input_layer\"),\n",
    "        Dense(units=n_neurons_hidden1, activation=\"relu\", name=\"hidden_layer1\"),\n",
    "        Dense(units=n_neurons_hidden2, activation=\"relu\", name=\"hidden_layer2\"),\n",
    "        Dense(units=n_neurons_hidden3, activation=\"relu\", name=\"hidden_layer3\"),\n",
    "        Dense(units=1, activation=\"sigmoid\", name=\"output_layer\"),\n",
    "    ])\n",
    "    # Compile the model\n",
    "    model.compile(optimizer=Adam(learning_rate=0.1), loss=\"binary_crossentropy\", metrics=['accuracy'])\n",
    "    # Train the model\n",
    "    history = model.fit(x_train, y_train, batch_size=8763, epochs=200, validation_data=(x_test, y_test), verbose=0)\n",
    "    # Evaluate the model\n",
    "    loss, accuracy = model.evaluate(x_test, y_test, verbose=0)\n",
    "    # Return negative accuracy as fitness (maximization problem)\n",
    "    return accuracy,\n",
    "\n",
    "# Define genetic algorithm parameters\n",
    "POP_SIZE = 5\n",
    "NUM_GENERATIONS = 3\n",
    "CROSSOVER_PROB = 0.8\n",
    "MUTATION_PROB = 0.2\n",
    "\n",
    "# Create a toolbox for the genetic algorithm\n",
    "creator.create(\"FitnessMax\", base.Fitness, weights=(1.0,))\n",
    "creator.create(\"Individual\", list, fitness=creator.FitnessMax)\n",
    "toolbox = base.Toolbox()\n",
    "toolbox.register(\"attr_int\", np.random.randint, low=1, high=100)\n",
    "toolbox.register(\"individual\", tools.initRepeat, creator.Individual, toolbox.attr_int, n=3)  # 3 parameters for the number of neurons in each hidden layer\n",
    "toolbox.register(\"population\", tools.initRepeat, list, toolbox.individual)\n",
    "toolbox.register(\"evaluate\", evaluate)\n",
    "toolbox.register(\"mate\", tools.cxTwoPoint)\n",
    "toolbox.register(\"mutate\", tools.mutUniformInt, low=1, up=100, indpb=0.2)\n",
    "toolbox.register(\"select\", tools.selTournament, tournsize=3)\n",
    "\n",
    "# Generate initial population\n",
    "population = toolbox.population(n=POP_SIZE)\n",
    "\n",
    "# Run the genetic algorithm\n",
    "for gen in range(NUM_GENERATIONS):\n",
    "    print(\"Generation\", gen + 1)\n",
    "\n",
    "    # Evaluate the fitness of the population\n",
    "    fitnesses = list(map(toolbox.evaluate, population))\n",
    "    for ind, fit in zip(population, fitnesses):\n",
    "        ind.fitness.values = fit\n",
    "\n",
    "    # Print the parents' values and fitness values\n",
    "    print(\"Parents:\")\n",
    "    for ind in population:\n",
    "        print(\"Individual:\", ind, \"Fitness:\", ind.fitness.values[0])\n",
    "\n",
    "    # Select parents for reproduction\n",
    "    offspring = toolbox.select(population, len(population))\n",
    "    offspring = list(map(toolbox.clone, offspring))\n",
    "\n",
    "    # Apply crossover and mutation\n",
    "    for child1, child2 in zip(offspring[::2], offspring[1::2]):\n",
    "        if np.random.rand() < CROSSOVER_PROB:\n",
    "            toolbox.mate(child1, child2)\n",
    "            del child1.fitness.values\n",
    "            del child2.fitness.values\n",
    "\n",
    "    for mutant in offspring:\n",
    "        if np.random.rand() < MUTATION_PROB:\n",
    "            toolbox.mutate(mutant)\n",
    "            del mutant.fitness.values\n",
    "\n",
    "    # Print the children's values\n",
    "    print(\"Children:\")\n",
    "    for ind in offspring:\n",
    "        print(\"Individual:\", ind)\n",
    "\n",
    "    # Replace the population with the offspring\n",
    "    population[:] = offspring\n",
    "\n",
    "# Get the best individual\n",
    "best_individual = tools.selBest(population, k=1)[0]\n",
    "print(\"Best individual:\", best_individual)\n"
   ]
  },
  {
   "cell_type": "markdown",
   "id": "f4aba6d9",
   "metadata": {
    "papermill": {
     "duration": 0.082829,
     "end_time": "2024-02-15T10:55:19.485559",
     "exception": false,
     "start_time": "2024-02-15T10:55:19.402730",
     "status": "completed"
    },
    "tags": []
   },
   "source": [
    "After training for 3 iterations, the genetic algorithm gives us the best combination of neurons per hidden layer. However, as we can see from the fitness function of this combination, it is still only around 64% accurate. This low accuracy can be attributed to the quality of the data instead of the quality of the model."
   ]
  },
  {
   "cell_type": "markdown",
   "id": "1f5f6ae8",
   "metadata": {
    "papermill": {
     "duration": 0.081407,
     "end_time": "2024-02-15T10:55:19.647779",
     "exception": false,
     "start_time": "2024-02-15T10:55:19.566372",
     "status": "completed"
    },
    "tags": []
   },
   "source": [
    "# Third Approach - Testing the Neural Network Models on a Different Dataset\n",
    "We have noticed in the previous two approaches that our neural networks did not perform well on the dataset it was trained on. The possible reason for the poor performance is the low quality of the synthetic dataset. Therefore, to demonstrate that our neural network models are working properly, we are going to train and test them on a different dataset.\n",
    "[Click here to see the new dataset we are going to use](https://www.kaggle.com/datasets/fedesoriano/heart-failure-prediction)\n",
    "![](https://i.ibb.co/jk5k7Bb/Screenshot-2024-02-14-211214.png)"
   ]
  },
  {
   "cell_type": "markdown",
   "id": "02f8ce21",
   "metadata": {
    "papermill": {
     "duration": 0.08285,
     "end_time": "2024-02-15T10:55:19.810463",
     "exception": false,
     "start_time": "2024-02-15T10:55:19.727613",
     "status": "completed"
    },
    "tags": []
   },
   "source": [
    "# Data Loading and Pre-Processing\n",
    "Since the new dataset has slightly different features from the previous dataset, we will need to pre-process the data using the same steps we did the first time."
   ]
  },
  {
   "cell_type": "code",
   "execution_count": 22,
   "id": "c4dba4bd",
   "metadata": {
    "execution": {
     "iopub.execute_input": "2024-02-15T10:55:19.973349Z",
     "iopub.status.busy": "2024-02-15T10:55:19.972315Z",
     "iopub.status.idle": "2024-02-15T10:55:19.996074Z",
     "shell.execute_reply": "2024-02-15T10:55:19.995233Z"
    },
    "papermill": {
     "duration": 0.107392,
     "end_time": "2024-02-15T10:55:19.998063",
     "exception": false,
     "start_time": "2024-02-15T10:55:19.890671",
     "status": "completed"
    },
    "tags": []
   },
   "outputs": [
    {
     "data": {
      "text/html": [
       "<div>\n",
       "<style scoped>\n",
       "    .dataframe tbody tr th:only-of-type {\n",
       "        vertical-align: middle;\n",
       "    }\n",
       "\n",
       "    .dataframe tbody tr th {\n",
       "        vertical-align: top;\n",
       "    }\n",
       "\n",
       "    .dataframe thead th {\n",
       "        text-align: right;\n",
       "    }\n",
       "</style>\n",
       "<table border=\"1\" class=\"dataframe\">\n",
       "  <thead>\n",
       "    <tr style=\"text-align: right;\">\n",
       "      <th></th>\n",
       "      <th>Age</th>\n",
       "      <th>Sex</th>\n",
       "      <th>ChestPainType</th>\n",
       "      <th>RestingBP</th>\n",
       "      <th>Cholesterol</th>\n",
       "      <th>FastingBS</th>\n",
       "      <th>RestingECG</th>\n",
       "      <th>MaxHR</th>\n",
       "      <th>ExerciseAngina</th>\n",
       "      <th>Oldpeak</th>\n",
       "      <th>ST_Slope</th>\n",
       "      <th>HeartDisease</th>\n",
       "    </tr>\n",
       "  </thead>\n",
       "  <tbody>\n",
       "    <tr>\n",
       "      <th>0</th>\n",
       "      <td>40</td>\n",
       "      <td>M</td>\n",
       "      <td>ATA</td>\n",
       "      <td>140</td>\n",
       "      <td>289</td>\n",
       "      <td>0</td>\n",
       "      <td>Normal</td>\n",
       "      <td>172</td>\n",
       "      <td>N</td>\n",
       "      <td>0.0</td>\n",
       "      <td>Up</td>\n",
       "      <td>0</td>\n",
       "    </tr>\n",
       "    <tr>\n",
       "      <th>1</th>\n",
       "      <td>49</td>\n",
       "      <td>F</td>\n",
       "      <td>NAP</td>\n",
       "      <td>160</td>\n",
       "      <td>180</td>\n",
       "      <td>0</td>\n",
       "      <td>Normal</td>\n",
       "      <td>156</td>\n",
       "      <td>N</td>\n",
       "      <td>1.0</td>\n",
       "      <td>Flat</td>\n",
       "      <td>1</td>\n",
       "    </tr>\n",
       "    <tr>\n",
       "      <th>2</th>\n",
       "      <td>37</td>\n",
       "      <td>M</td>\n",
       "      <td>ATA</td>\n",
       "      <td>130</td>\n",
       "      <td>283</td>\n",
       "      <td>0</td>\n",
       "      <td>ST</td>\n",
       "      <td>98</td>\n",
       "      <td>N</td>\n",
       "      <td>0.0</td>\n",
       "      <td>Up</td>\n",
       "      <td>0</td>\n",
       "    </tr>\n",
       "    <tr>\n",
       "      <th>3</th>\n",
       "      <td>48</td>\n",
       "      <td>F</td>\n",
       "      <td>ASY</td>\n",
       "      <td>138</td>\n",
       "      <td>214</td>\n",
       "      <td>0</td>\n",
       "      <td>Normal</td>\n",
       "      <td>108</td>\n",
       "      <td>Y</td>\n",
       "      <td>1.5</td>\n",
       "      <td>Flat</td>\n",
       "      <td>1</td>\n",
       "    </tr>\n",
       "    <tr>\n",
       "      <th>4</th>\n",
       "      <td>54</td>\n",
       "      <td>M</td>\n",
       "      <td>NAP</td>\n",
       "      <td>150</td>\n",
       "      <td>195</td>\n",
       "      <td>0</td>\n",
       "      <td>Normal</td>\n",
       "      <td>122</td>\n",
       "      <td>N</td>\n",
       "      <td>0.0</td>\n",
       "      <td>Up</td>\n",
       "      <td>0</td>\n",
       "    </tr>\n",
       "  </tbody>\n",
       "</table>\n",
       "</div>"
      ],
      "text/plain": [
       "   Age Sex ChestPainType  RestingBP  Cholesterol  FastingBS RestingECG  MaxHR  \\\n",
       "0   40   M           ATA        140          289          0     Normal    172   \n",
       "1   49   F           NAP        160          180          0     Normal    156   \n",
       "2   37   M           ATA        130          283          0         ST     98   \n",
       "3   48   F           ASY        138          214          0     Normal    108   \n",
       "4   54   M           NAP        150          195          0     Normal    122   \n",
       "\n",
       "  ExerciseAngina  Oldpeak ST_Slope  HeartDisease  \n",
       "0              N      0.0       Up             0  \n",
       "1              N      1.0     Flat             1  \n",
       "2              N      0.0       Up             0  \n",
       "3              Y      1.5     Flat             1  \n",
       "4              N      0.0       Up             0  "
      ]
     },
     "execution_count": 22,
     "metadata": {},
     "output_type": "execute_result"
    }
   ],
   "source": [
    "df = pd.read_csv(\"/kaggle/input/heart-failure-prediction/heart.csv\")\n",
    "df.head()"
   ]
  },
  {
   "cell_type": "code",
   "execution_count": 23,
   "id": "1e4086e9",
   "metadata": {
    "execution": {
     "iopub.execute_input": "2024-02-15T10:55:20.162231Z",
     "iopub.status.busy": "2024-02-15T10:55:20.161931Z",
     "iopub.status.idle": "2024-02-15T10:55:20.180606Z",
     "shell.execute_reply": "2024-02-15T10:55:20.179880Z"
    },
    "papermill": {
     "duration": 0.10213,
     "end_time": "2024-02-15T10:55:20.182569",
     "exception": false,
     "start_time": "2024-02-15T10:55:20.080439",
     "status": "completed"
    },
    "tags": []
   },
   "outputs": [],
   "source": [
    "#One Hot Encoding\n",
    "df = pd.get_dummies(df, columns=[\"Sex\",\"ChestPainType\",\"RestingECG\",\"ExerciseAngina\",\"ST_Slope\"],prefix=[\"Sex\",\"ChestPainType\",\"RestingECG\",\"ExerciseAngina\",\"ST_Slope\"])\n",
    "\n",
    "#Splitting the input and the output\n",
    "X_new = df.drop([\"HeartDisease\"], axis = 1)\n",
    "y_new = df[\"HeartDisease\"]\n",
    "\n",
    "#Normalisation of the data and splitting into train and test set\n",
    "X_new = scaler.fit_transform(X_new)\n",
    "x_train_new, x_test_new, y_train_new, y_test_new = train_test_split(X_new, y_new, test_size=0.2, random_state = 42)\n",
    "\n",
    "#Adjusting the shape of y\n",
    "y_train_new = y_train_new.values.reshape(-1, 1)\n",
    "y_test_new = y_test_new.values.reshape(-1, 1)\n"
   ]
  },
  {
   "cell_type": "code",
   "execution_count": 24,
   "id": "838033b7",
   "metadata": {
    "execution": {
     "iopub.execute_input": "2024-02-15T10:55:20.350058Z",
     "iopub.status.busy": "2024-02-15T10:55:20.349742Z",
     "iopub.status.idle": "2024-02-15T10:55:20.355592Z",
     "shell.execute_reply": "2024-02-15T10:55:20.354693Z"
    },
    "papermill": {
     "duration": 0.089741,
     "end_time": "2024-02-15T10:55:20.357460",
     "exception": false,
     "start_time": "2024-02-15T10:55:20.267719",
     "status": "completed"
    },
    "tags": []
   },
   "outputs": [
    {
     "data": {
      "text/plain": [
       "(734, 1)"
      ]
     },
     "execution_count": 24,
     "metadata": {},
     "output_type": "execute_result"
    }
   ],
   "source": [
    "y_train_new.shape"
   ]
  },
  {
   "cell_type": "markdown",
   "id": "d5882f74",
   "metadata": {
    "papermill": {
     "duration": 0.080976,
     "end_time": "2024-02-15T10:55:20.519660",
     "exception": false,
     "start_time": "2024-02-15T10:55:20.438684",
     "status": "completed"
    },
    "tags": []
   },
   "source": [
    "# Building the Keras Model\n",
    "We will be using the same baseline model as before with 5 layers, however the numper of neurons in the input layer will be different as we have different number of features in this new dataset"
   ]
  },
  {
   "cell_type": "code",
   "execution_count": 25,
   "id": "c203e282",
   "metadata": {
    "execution": {
     "iopub.execute_input": "2024-02-15T10:55:20.685804Z",
     "iopub.status.busy": "2024-02-15T10:55:20.685093Z",
     "iopub.status.idle": "2024-02-15T10:55:20.748843Z",
     "shell.execute_reply": "2024-02-15T10:55:20.747955Z"
    },
    "papermill": {
     "duration": 0.152443,
     "end_time": "2024-02-15T10:55:20.753575",
     "exception": false,
     "start_time": "2024-02-15T10:55:20.601132",
     "status": "completed"
    },
    "tags": []
   },
   "outputs": [
    {
     "name": "stdout",
     "output_type": "stream",
     "text": [
      "Model: \"sequential\"\n",
      "_________________________________________________________________\n",
      " Layer (type)                Output Shape              Param #   \n",
      "=================================================================\n",
      " hidden_layer1 (Dense)       (None, 32)                800       \n",
      "                                                                 \n",
      " hidden_layer2 (Dense)       (None, 16)                528       \n",
      "                                                                 \n",
      " hidden_layer3 (Dense)       (None, 8)                 136       \n",
      "                                                                 \n",
      " output_layer (Dense)        (None, 1)                 9         \n",
      "                                                                 \n",
      "=================================================================\n",
      "Total params: 1473 (5.75 KB)\n",
      "Trainable params: 1473 (5.75 KB)\n",
      "Non-trainable params: 0 (0.00 Byte)\n",
      "_________________________________________________________________\n"
     ]
    }
   ],
   "source": [
    "n_new = X_new.shape[1] #number of features\n",
    "\n",
    "#Creating the neural network model\n",
    "model_new = Sequential([\n",
    "    tf.keras.Input(shape=(n_new,), name=\"input_layer\"), #Input Layer with 'n' neurons\n",
    "    Dense(units=32, activation=\"relu\", name=\"hidden_layer1\"),\n",
    "    Dense(units=16, activation=\"relu\", name=\"hidden_layer2\"),\n",
    "    Dense(units=8, activation=\"relu\", name=\"hidden_layer3\"),\n",
    "    Dense(units=1, activation=\"sigmoid\", name=\"output_layer\"),\n",
    "])\n",
    "\n",
    "model.summary()"
   ]
  },
  {
   "cell_type": "markdown",
   "id": "a21af840",
   "metadata": {
    "papermill": {
     "duration": 0.081701,
     "end_time": "2024-02-15T10:55:20.917093",
     "exception": false,
     "start_time": "2024-02-15T10:55:20.835392",
     "status": "completed"
    },
    "tags": []
   },
   "source": [
    "# Training the Keras Model\n",
    "* Learning rate = 0.001\n",
    "* Batch size = 64\n",
    "* Epochs = 100"
   ]
  },
  {
   "cell_type": "code",
   "execution_count": 26,
   "id": "d5b98562",
   "metadata": {
    "execution": {
     "iopub.execute_input": "2024-02-15T10:55:21.082442Z",
     "iopub.status.busy": "2024-02-15T10:55:21.081637Z",
     "iopub.status.idle": "2024-02-15T10:55:29.914779Z",
     "shell.execute_reply": "2024-02-15T10:55:29.913792Z"
    },
    "papermill": {
     "duration": 8.917883,
     "end_time": "2024-02-15T10:55:29.916962",
     "exception": false,
     "start_time": "2024-02-15T10:55:20.999079",
     "status": "completed"
    },
    "tags": []
   },
   "outputs": [
    {
     "name": "stdout",
     "output_type": "stream",
     "text": [
      "Epoch 1/100\n",
      "12/12 [==============================] - 2s 19ms/step - loss: 0.6556 - accuracy: 0.6308 - val_loss: 0.6339 - val_accuracy: 0.7120\n",
      "Epoch 2/100\n",
      "12/12 [==============================] - 0s 6ms/step - loss: 0.6096 - accuracy: 0.7534 - val_loss: 0.6021 - val_accuracy: 0.8152\n",
      "Epoch 3/100\n",
      "12/12 [==============================] - 0s 6ms/step - loss: 0.5653 - accuracy: 0.8270 - val_loss: 0.5644 - val_accuracy: 0.8261\n",
      "Epoch 4/100\n",
      "12/12 [==============================] - 0s 6ms/step - loss: 0.5191 - accuracy: 0.8474 - val_loss: 0.5250 - val_accuracy: 0.8315\n",
      "Epoch 5/100\n",
      "12/12 [==============================] - 0s 5ms/step - loss: 0.4763 - accuracy: 0.8638 - val_loss: 0.4892 - val_accuracy: 0.8370\n",
      "Epoch 6/100\n",
      "12/12 [==============================] - 0s 5ms/step - loss: 0.4369 - accuracy: 0.8610 - val_loss: 0.4559 - val_accuracy: 0.8478\n",
      "Epoch 7/100\n",
      "12/12 [==============================] - 0s 6ms/step - loss: 0.4033 - accuracy: 0.8583 - val_loss: 0.4294 - val_accuracy: 0.8424\n",
      "Epoch 8/100\n",
      "12/12 [==============================] - 0s 6ms/step - loss: 0.3748 - accuracy: 0.8597 - val_loss: 0.4068 - val_accuracy: 0.8424\n",
      "Epoch 9/100\n",
      "12/12 [==============================] - 0s 6ms/step - loss: 0.3544 - accuracy: 0.8651 - val_loss: 0.3934 - val_accuracy: 0.8424\n",
      "Epoch 10/100\n",
      "12/12 [==============================] - 0s 6ms/step - loss: 0.3379 - accuracy: 0.8678 - val_loss: 0.3805 - val_accuracy: 0.8370\n",
      "Epoch 11/100\n",
      "12/12 [==============================] - 0s 6ms/step - loss: 0.3266 - accuracy: 0.8719 - val_loss: 0.3744 - val_accuracy: 0.8478\n",
      "Epoch 12/100\n",
      "12/12 [==============================] - 0s 6ms/step - loss: 0.3190 - accuracy: 0.8733 - val_loss: 0.3697 - val_accuracy: 0.8424\n",
      "Epoch 13/100\n",
      "12/12 [==============================] - 0s 6ms/step - loss: 0.3124 - accuracy: 0.8733 - val_loss: 0.3645 - val_accuracy: 0.8424\n",
      "Epoch 14/100\n",
      "12/12 [==============================] - 0s 5ms/step - loss: 0.3070 - accuracy: 0.8747 - val_loss: 0.3586 - val_accuracy: 0.8587\n",
      "Epoch 15/100\n",
      "12/12 [==============================] - 0s 6ms/step - loss: 0.3025 - accuracy: 0.8774 - val_loss: 0.3573 - val_accuracy: 0.8533\n",
      "Epoch 16/100\n",
      "12/12 [==============================] - 0s 6ms/step - loss: 0.2989 - accuracy: 0.8801 - val_loss: 0.3512 - val_accuracy: 0.8696\n",
      "Epoch 17/100\n",
      "12/12 [==============================] - 0s 5ms/step - loss: 0.2941 - accuracy: 0.8828 - val_loss: 0.3513 - val_accuracy: 0.8641\n",
      "Epoch 18/100\n",
      "12/12 [==============================] - 0s 5ms/step - loss: 0.2905 - accuracy: 0.8842 - val_loss: 0.3444 - val_accuracy: 0.8696\n",
      "Epoch 19/100\n",
      "12/12 [==============================] - 0s 6ms/step - loss: 0.2863 - accuracy: 0.8842 - val_loss: 0.3434 - val_accuracy: 0.8641\n",
      "Epoch 20/100\n",
      "12/12 [==============================] - 0s 6ms/step - loss: 0.2831 - accuracy: 0.8842 - val_loss: 0.3438 - val_accuracy: 0.8641\n",
      "Epoch 21/100\n",
      "12/12 [==============================] - 0s 6ms/step - loss: 0.2798 - accuracy: 0.8856 - val_loss: 0.3420 - val_accuracy: 0.8641\n",
      "Epoch 22/100\n",
      "12/12 [==============================] - 0s 5ms/step - loss: 0.2771 - accuracy: 0.8883 - val_loss: 0.3360 - val_accuracy: 0.8804\n",
      "Epoch 23/100\n",
      "12/12 [==============================] - 0s 6ms/step - loss: 0.2744 - accuracy: 0.8924 - val_loss: 0.3372 - val_accuracy: 0.8750\n",
      "Epoch 24/100\n",
      "12/12 [==============================] - 0s 6ms/step - loss: 0.2713 - accuracy: 0.8910 - val_loss: 0.3404 - val_accuracy: 0.8696\n",
      "Epoch 25/100\n",
      "12/12 [==============================] - 0s 6ms/step - loss: 0.2684 - accuracy: 0.8924 - val_loss: 0.3371 - val_accuracy: 0.8750\n",
      "Epoch 26/100\n",
      "12/12 [==============================] - 0s 6ms/step - loss: 0.2661 - accuracy: 0.8965 - val_loss: 0.3329 - val_accuracy: 0.8804\n",
      "Epoch 27/100\n",
      "12/12 [==============================] - 0s 5ms/step - loss: 0.2635 - accuracy: 0.8992 - val_loss: 0.3364 - val_accuracy: 0.8696\n",
      "Epoch 28/100\n",
      "12/12 [==============================] - 0s 6ms/step - loss: 0.2608 - accuracy: 0.8951 - val_loss: 0.3406 - val_accuracy: 0.8696\n",
      "Epoch 29/100\n",
      "12/12 [==============================] - 0s 6ms/step - loss: 0.2580 - accuracy: 0.9019 - val_loss: 0.3310 - val_accuracy: 0.8804\n",
      "Epoch 30/100\n",
      "12/12 [==============================] - 0s 8ms/step - loss: 0.2555 - accuracy: 0.9033 - val_loss: 0.3315 - val_accuracy: 0.8750\n",
      "Epoch 31/100\n",
      "12/12 [==============================] - 0s 8ms/step - loss: 0.2524 - accuracy: 0.9046 - val_loss: 0.3287 - val_accuracy: 0.8804\n",
      "Epoch 32/100\n",
      "12/12 [==============================] - 0s 6ms/step - loss: 0.2502 - accuracy: 0.9060 - val_loss: 0.3310 - val_accuracy: 0.8696\n",
      "Epoch 33/100\n",
      "12/12 [==============================] - 0s 8ms/step - loss: 0.2489 - accuracy: 0.9060 - val_loss: 0.3267 - val_accuracy: 0.8859\n",
      "Epoch 34/100\n",
      "12/12 [==============================] - 0s 7ms/step - loss: 0.2455 - accuracy: 0.9101 - val_loss: 0.3298 - val_accuracy: 0.8804\n",
      "Epoch 35/100\n",
      "12/12 [==============================] - 0s 7ms/step - loss: 0.2431 - accuracy: 0.9101 - val_loss: 0.3261 - val_accuracy: 0.8804\n",
      "Epoch 36/100\n",
      "12/12 [==============================] - 0s 6ms/step - loss: 0.2411 - accuracy: 0.9128 - val_loss: 0.3235 - val_accuracy: 0.8804\n",
      "Epoch 37/100\n",
      "12/12 [==============================] - 0s 7ms/step - loss: 0.2389 - accuracy: 0.9101 - val_loss: 0.3254 - val_accuracy: 0.8859\n",
      "Epoch 38/100\n",
      "12/12 [==============================] - 0s 8ms/step - loss: 0.2361 - accuracy: 0.9128 - val_loss: 0.3244 - val_accuracy: 0.8804\n",
      "Epoch 39/100\n",
      "12/12 [==============================] - 0s 7ms/step - loss: 0.2345 - accuracy: 0.9169 - val_loss: 0.3242 - val_accuracy: 0.8804\n",
      "Epoch 40/100\n",
      "12/12 [==============================] - 0s 7ms/step - loss: 0.2321 - accuracy: 0.9142 - val_loss: 0.3234 - val_accuracy: 0.8859\n",
      "Epoch 41/100\n",
      "12/12 [==============================] - 0s 6ms/step - loss: 0.2298 - accuracy: 0.9142 - val_loss: 0.3267 - val_accuracy: 0.8859\n",
      "Epoch 42/100\n",
      "12/12 [==============================] - 0s 6ms/step - loss: 0.2273 - accuracy: 0.9142 - val_loss: 0.3212 - val_accuracy: 0.8859\n",
      "Epoch 43/100\n",
      "12/12 [==============================] - 0s 6ms/step - loss: 0.2257 - accuracy: 0.9210 - val_loss: 0.3232 - val_accuracy: 0.8859\n",
      "Epoch 44/100\n",
      "12/12 [==============================] - 0s 6ms/step - loss: 0.2228 - accuracy: 0.9183 - val_loss: 0.3184 - val_accuracy: 0.8804\n",
      "Epoch 45/100\n",
      "12/12 [==============================] - 0s 6ms/step - loss: 0.2216 - accuracy: 0.9210 - val_loss: 0.3244 - val_accuracy: 0.8859\n",
      "Epoch 46/100\n",
      "12/12 [==============================] - 0s 5ms/step - loss: 0.2190 - accuracy: 0.9196 - val_loss: 0.3237 - val_accuracy: 0.8859\n",
      "Epoch 47/100\n",
      "12/12 [==============================] - 0s 6ms/step - loss: 0.2183 - accuracy: 0.9196 - val_loss: 0.3170 - val_accuracy: 0.8859\n",
      "Epoch 48/100\n",
      "12/12 [==============================] - 0s 6ms/step - loss: 0.2154 - accuracy: 0.9196 - val_loss: 0.3194 - val_accuracy: 0.8859\n",
      "Epoch 49/100\n",
      "12/12 [==============================] - 0s 6ms/step - loss: 0.2132 - accuracy: 0.9223 - val_loss: 0.3201 - val_accuracy: 0.8859\n",
      "Epoch 50/100\n",
      "12/12 [==============================] - 0s 6ms/step - loss: 0.2111 - accuracy: 0.9210 - val_loss: 0.3171 - val_accuracy: 0.8859\n",
      "Epoch 51/100\n",
      "12/12 [==============================] - 0s 6ms/step - loss: 0.2095 - accuracy: 0.9223 - val_loss: 0.3174 - val_accuracy: 0.8859\n",
      "Epoch 52/100\n",
      "12/12 [==============================] - 0s 6ms/step - loss: 0.2074 - accuracy: 0.9237 - val_loss: 0.3191 - val_accuracy: 0.8859\n",
      "Epoch 53/100\n",
      "12/12 [==============================] - 0s 6ms/step - loss: 0.2059 - accuracy: 0.9237 - val_loss: 0.3186 - val_accuracy: 0.8804\n",
      "Epoch 54/100\n",
      "12/12 [==============================] - 0s 6ms/step - loss: 0.2033 - accuracy: 0.9264 - val_loss: 0.3174 - val_accuracy: 0.8804\n",
      "Epoch 55/100\n",
      "12/12 [==============================] - 0s 6ms/step - loss: 0.2022 - accuracy: 0.9251 - val_loss: 0.3156 - val_accuracy: 0.8750\n",
      "Epoch 56/100\n",
      "12/12 [==============================] - 0s 6ms/step - loss: 0.1992 - accuracy: 0.9264 - val_loss: 0.3157 - val_accuracy: 0.8804\n",
      "Epoch 57/100\n",
      "12/12 [==============================] - 0s 5ms/step - loss: 0.1987 - accuracy: 0.9264 - val_loss: 0.3172 - val_accuracy: 0.8750\n",
      "Epoch 58/100\n",
      "12/12 [==============================] - 0s 6ms/step - loss: 0.1970 - accuracy: 0.9264 - val_loss: 0.3170 - val_accuracy: 0.8750\n",
      "Epoch 59/100\n",
      "12/12 [==============================] - 0s 7ms/step - loss: 0.1940 - accuracy: 0.9278 - val_loss: 0.3186 - val_accuracy: 0.8696\n",
      "Epoch 60/100\n",
      "12/12 [==============================] - 0s 6ms/step - loss: 0.1928 - accuracy: 0.9264 - val_loss: 0.3198 - val_accuracy: 0.8750\n",
      "Epoch 61/100\n",
      "12/12 [==============================] - 0s 8ms/step - loss: 0.1920 - accuracy: 0.9251 - val_loss: 0.3211 - val_accuracy: 0.8750\n",
      "Epoch 62/100\n",
      "12/12 [==============================] - 0s 6ms/step - loss: 0.1901 - accuracy: 0.9264 - val_loss: 0.3138 - val_accuracy: 0.8750\n",
      "Epoch 63/100\n",
      "12/12 [==============================] - 0s 6ms/step - loss: 0.1870 - accuracy: 0.9278 - val_loss: 0.3240 - val_accuracy: 0.8696\n",
      "Epoch 64/100\n",
      "12/12 [==============================] - 0s 6ms/step - loss: 0.1866 - accuracy: 0.9278 - val_loss: 0.3191 - val_accuracy: 0.8696\n",
      "Epoch 65/100\n",
      "12/12 [==============================] - 0s 6ms/step - loss: 0.1847 - accuracy: 0.9278 - val_loss: 0.3210 - val_accuracy: 0.8696\n",
      "Epoch 66/100\n",
      "12/12 [==============================] - 0s 5ms/step - loss: 0.1828 - accuracy: 0.9319 - val_loss: 0.3208 - val_accuracy: 0.8696\n",
      "Epoch 67/100\n",
      "12/12 [==============================] - 0s 6ms/step - loss: 0.1819 - accuracy: 0.9305 - val_loss: 0.3182 - val_accuracy: 0.8696\n",
      "Epoch 68/100\n",
      "12/12 [==============================] - 0s 6ms/step - loss: 0.1803 - accuracy: 0.9305 - val_loss: 0.3215 - val_accuracy: 0.8696\n",
      "Epoch 69/100\n",
      "12/12 [==============================] - 0s 6ms/step - loss: 0.1785 - accuracy: 0.9305 - val_loss: 0.3189 - val_accuracy: 0.8696\n",
      "Epoch 70/100\n",
      "12/12 [==============================] - 0s 6ms/step - loss: 0.1784 - accuracy: 0.9292 - val_loss: 0.3248 - val_accuracy: 0.8696\n",
      "Epoch 71/100\n",
      "12/12 [==============================] - 0s 6ms/step - loss: 0.1755 - accuracy: 0.9319 - val_loss: 0.3235 - val_accuracy: 0.8696\n",
      "Epoch 72/100\n",
      "12/12 [==============================] - 0s 6ms/step - loss: 0.1746 - accuracy: 0.9278 - val_loss: 0.3151 - val_accuracy: 0.8641\n",
      "Epoch 73/100\n",
      "12/12 [==============================] - 0s 5ms/step - loss: 0.1726 - accuracy: 0.9305 - val_loss: 0.3229 - val_accuracy: 0.8696\n",
      "Epoch 74/100\n",
      "12/12 [==============================] - 0s 5ms/step - loss: 0.1710 - accuracy: 0.9332 - val_loss: 0.3203 - val_accuracy: 0.8641\n",
      "Epoch 75/100\n",
      "12/12 [==============================] - 0s 6ms/step - loss: 0.1710 - accuracy: 0.9332 - val_loss: 0.3191 - val_accuracy: 0.8641\n",
      "Epoch 76/100\n",
      "12/12 [==============================] - 0s 5ms/step - loss: 0.1679 - accuracy: 0.9360 - val_loss: 0.3242 - val_accuracy: 0.8641\n",
      "Epoch 77/100\n",
      "12/12 [==============================] - 0s 6ms/step - loss: 0.1658 - accuracy: 0.9346 - val_loss: 0.3234 - val_accuracy: 0.8641\n",
      "Epoch 78/100\n",
      "12/12 [==============================] - 0s 6ms/step - loss: 0.1658 - accuracy: 0.9346 - val_loss: 0.3263 - val_accuracy: 0.8641\n",
      "Epoch 79/100\n",
      "12/12 [==============================] - 0s 6ms/step - loss: 0.1640 - accuracy: 0.9373 - val_loss: 0.3214 - val_accuracy: 0.8641\n",
      "Epoch 80/100\n",
      "12/12 [==============================] - 0s 5ms/step - loss: 0.1618 - accuracy: 0.9360 - val_loss: 0.3267 - val_accuracy: 0.8641\n",
      "Epoch 81/100\n",
      "12/12 [==============================] - 0s 5ms/step - loss: 0.1617 - accuracy: 0.9387 - val_loss: 0.3292 - val_accuracy: 0.8641\n",
      "Epoch 82/100\n",
      "12/12 [==============================] - 0s 6ms/step - loss: 0.1585 - accuracy: 0.9360 - val_loss: 0.3247 - val_accuracy: 0.8641\n",
      "Epoch 83/100\n",
      "12/12 [==============================] - 0s 6ms/step - loss: 0.1575 - accuracy: 0.9373 - val_loss: 0.3269 - val_accuracy: 0.8641\n",
      "Epoch 84/100\n",
      "12/12 [==============================] - 0s 5ms/step - loss: 0.1556 - accuracy: 0.9360 - val_loss: 0.3253 - val_accuracy: 0.8696\n",
      "Epoch 85/100\n",
      "12/12 [==============================] - 0s 6ms/step - loss: 0.1545 - accuracy: 0.9360 - val_loss: 0.3277 - val_accuracy: 0.8696\n",
      "Epoch 86/100\n",
      "12/12 [==============================] - 0s 6ms/step - loss: 0.1536 - accuracy: 0.9360 - val_loss: 0.3279 - val_accuracy: 0.8641\n",
      "Epoch 87/100\n",
      "12/12 [==============================] - 0s 5ms/step - loss: 0.1510 - accuracy: 0.9414 - val_loss: 0.3287 - val_accuracy: 0.8641\n",
      "Epoch 88/100\n",
      "12/12 [==============================] - 0s 5ms/step - loss: 0.1495 - accuracy: 0.9428 - val_loss: 0.3358 - val_accuracy: 0.8696\n",
      "Epoch 89/100\n",
      "12/12 [==============================] - 0s 5ms/step - loss: 0.1496 - accuracy: 0.9360 - val_loss: 0.3303 - val_accuracy: 0.8641\n",
      "Epoch 90/100\n",
      "12/12 [==============================] - 0s 6ms/step - loss: 0.1484 - accuracy: 0.9387 - val_loss: 0.3345 - val_accuracy: 0.8641\n",
      "Epoch 91/100\n",
      "12/12 [==============================] - 0s 6ms/step - loss: 0.1455 - accuracy: 0.9387 - val_loss: 0.3317 - val_accuracy: 0.8696\n",
      "Epoch 92/100\n",
      "12/12 [==============================] - 0s 6ms/step - loss: 0.1445 - accuracy: 0.9401 - val_loss: 0.3371 - val_accuracy: 0.8696\n",
      "Epoch 93/100\n",
      "12/12 [==============================] - 0s 6ms/step - loss: 0.1415 - accuracy: 0.9428 - val_loss: 0.3370 - val_accuracy: 0.8641\n",
      "Epoch 94/100\n",
      "12/12 [==============================] - 0s 6ms/step - loss: 0.1416 - accuracy: 0.9414 - val_loss: 0.3341 - val_accuracy: 0.8533\n",
      "Epoch 95/100\n",
      "12/12 [==============================] - 0s 6ms/step - loss: 0.1384 - accuracy: 0.9455 - val_loss: 0.3370 - val_accuracy: 0.8587\n",
      "Epoch 96/100\n",
      "12/12 [==============================] - 0s 6ms/step - loss: 0.1368 - accuracy: 0.9441 - val_loss: 0.3448 - val_accuracy: 0.8696\n",
      "Epoch 97/100\n",
      "12/12 [==============================] - 0s 6ms/step - loss: 0.1355 - accuracy: 0.9469 - val_loss: 0.3475 - val_accuracy: 0.8696\n",
      "Epoch 98/100\n",
      "12/12 [==============================] - 0s 6ms/step - loss: 0.1345 - accuracy: 0.9482 - val_loss: 0.3414 - val_accuracy: 0.8696\n",
      "Epoch 99/100\n",
      "12/12 [==============================] - 0s 6ms/step - loss: 0.1331 - accuracy: 0.9482 - val_loss: 0.3491 - val_accuracy: 0.8587\n",
      "Epoch 100/100\n",
      "12/12 [==============================] - 0s 6ms/step - loss: 0.1316 - accuracy: 0.9455 - val_loss: 0.3473 - val_accuracy: 0.8587\n"
     ]
    }
   ],
   "source": [
    "model_new.compile(optimizer = tf.keras.optimizers.Adam(learning_rate=0.001), loss = tf.keras.losses.BinaryCrossentropy(), metrics=['accuracy'])\n",
    "history = model_new.fit(x_train_new, y_train_new, batch_size = 64, epochs = 100, validation_data=(x_test_new, y_test_new))"
   ]
  },
  {
   "cell_type": "markdown",
   "id": "e33b0886",
   "metadata": {
    "papermill": {
     "duration": 0.106865,
     "end_time": "2024-02-15T10:55:30.140046",
     "exception": false,
     "start_time": "2024-02-15T10:55:30.033181",
     "status": "completed"
    },
    "tags": []
   },
   "source": [
    "# Analysing the model"
   ]
  },
  {
   "cell_type": "code",
   "execution_count": 27,
   "id": "64360ebe",
   "metadata": {
    "execution": {
     "iopub.execute_input": "2024-02-15T10:55:30.354243Z",
     "iopub.status.busy": "2024-02-15T10:55:30.353865Z",
     "iopub.status.idle": "2024-02-15T10:55:30.785350Z",
     "shell.execute_reply": "2024-02-15T10:55:30.784475Z"
    },
    "papermill": {
     "duration": 0.541602,
     "end_time": "2024-02-15T10:55:30.787661",
     "exception": false,
     "start_time": "2024-02-15T10:55:30.246059",
     "status": "completed"
    },
    "tags": []
   },
   "outputs": [
    {
     "data": {
      "image/png": "[encoded data removed]",
      "text/plain": [
       "<Figure size 1000x600 with 1 Axes>"
      ]
     },
     "metadata": {},
     "output_type": "display_data"
    }
   ],
   "source": [
    "import matplotlib.pyplot as plt\n",
    "val_acc = history.history['val_accuracy']  # Assuming the metric is named 'val_accuracy'\n",
    "plt.figure(figsize=(10, 6))\n",
    "\n",
    "# Plot training accuracy\n",
    "plt.plot(range(len(history.history['accuracy'])), history.history['accuracy'], label='Training Accuracy', marker='o', color='b')\n",
    "\n",
    "# Plot validation accuracy\n",
    "plt.plot(range(len(val_acc)), val_acc, label='Validation Accuracy', marker='s', color='g')\n",
    "\n",
    "# Add labels, title, legend, grid, etc.\n",
    "plt.xlabel('Epoch')\n",
    "plt.ylabel('Accuracy')\n",
    "plt.title('Training and Validation Accuracy per Epoch')\n",
    "plt.legend()\n",
    "plt.grid(True)\n",
    "plt.tight_layout()\n",
    "plt.show()"
   ]
  },
  {
   "cell_type": "markdown",
   "id": "df75a210",
   "metadata": {
    "papermill": {
     "duration": 0.105859,
     "end_time": "2024-02-15T10:55:31.000562",
     "exception": false,
     "start_time": "2024-02-15T10:55:30.894703",
     "status": "completed"
    },
    "tags": []
   },
   "source": [
    "As observed from the graph above, the model has performed exceptionally well on the new dataset. Instead of the accuracies of the training set and validation set diverging by a large margin, both of the accuracies improved per epoch. While the model slightly overfits to the training set, it has generalised well to the validation set with an accuracy of almost 90%"
   ]
  },
  {
   "cell_type": "markdown",
   "id": "a2a992aa",
   "metadata": {
    "papermill": {
     "duration": 0.105538,
     "end_time": "2024-02-15T10:55:31.212119",
     "exception": false,
     "start_time": "2024-02-15T10:55:31.106581",
     "status": "completed"
    },
    "tags": []
   },
   "source": [
    "# Optimising the new model using Genetic Algorithm\n",
    "Like we did in our second approach, we are going to try to optimise this model using Genetic Algorithm by trying to find the optimum number of neurons per layer. In future practice, we can use genetic algorithm to tune the other hyperparameters as well."
   ]
  },
  {
   "cell_type": "code",
   "execution_count": 28,
   "id": "28f17dba",
   "metadata": {
    "execution": {
     "iopub.execute_input": "2024-02-15T10:55:31.427600Z",
     "iopub.status.busy": "2024-02-15T10:55:31.426915Z",
     "iopub.status.idle": "2024-02-15T10:57:10.234978Z",
     "shell.execute_reply": "2024-02-15T10:57:10.233997Z"
    },
    "papermill": {
     "duration": 99.027381,
     "end_time": "2024-02-15T10:57:10.344672",
     "exception": false,
     "start_time": "2024-02-15T10:55:31.317291",
     "status": "completed"
    },
    "tags": []
   },
   "outputs": [
    {
     "name": "stderr",
     "output_type": "stream",
     "text": [
      "/opt/conda/lib/python3.10/site-packages/deap/creator.py:185: RuntimeWarning: A class named 'FitnessMax' has already been created and it will be overwritten. Consider deleting previous creation of that class or rename it.\n",
      "  warnings.warn(\"A class named '{0}' has already been created and it \"\n",
      "/opt/conda/lib/python3.10/site-packages/deap/creator.py:185: RuntimeWarning: A class named 'Individual' has already been created and it will be overwritten. Consider deleting previous creation of that class or rename it.\n",
      "  warnings.warn(\"A class named '{0}' has already been created and it \"\n"
     ]
    },
    {
     "name": "stdout",
     "output_type": "stream",
     "text": [
      "Generation 1\n",
      "Parents:\n",
      "Individual: [33, 62, 81] Fitness: 0.804347813129425\n",
      "Individual: [63, 50, 53] Fitness: 0.8695651888847351\n",
      "Individual: [51, 20, 60] Fitness: 0.8478260636329651\n",
      "Individual: [42, 34, 8] Fitness: 0.842391312122345\n",
      "Individual: [9, 76, 3] Fitness: 0.8152173757553101\n",
      "Individual: [4, 64, 3] Fitness: 0.8695651888847351\n",
      "Individual: [15, 23, 89] Fitness: 0.804347813129425\n",
      "Individual: [29, 1, 41] Fitness: 0.8097826242446899\n",
      "Children:\n",
      "Individual: [63, 1, 53]\n",
      "Individual: [29, 50, 41]\n",
      "Individual: [4, 20, 3]\n",
      "Individual: [51, 64, 60]\n",
      "Individual: [63, 50, 60]\n",
      "Individual: [51, 20, 53]\n",
      "Individual: [63, 50, 3]\n",
      "Individual: [4, 64, 53]\n",
      "Generation 2\n",
      "Parents:\n",
      "Individual: [63, 1, 53] Fitness: 0.8586956262588501\n",
      "Individual: [29, 50, 41] Fitness: 0.8586956262588501\n",
      "Individual: [4, 20, 3] Fitness: 0.864130437374115\n",
      "Individual: [51, 64, 60] Fitness: 0.85326087474823\n",
      "Individual: [63, 50, 60] Fitness: 0.8369565010070801\n",
      "Individual: [51, 20, 53] Fitness: 0.8478260636329651\n",
      "Individual: [63, 50, 3] Fitness: 0.864130437374115\n",
      "Individual: [4, 64, 53] Fitness: 0.8260869383811951\n",
      "Children:\n",
      "Individual: [29, 20, 41]\n",
      "Individual: [4, 50, 3]\n",
      "Individual: [63, 58, 3]\n",
      "Individual: [4, 20, 53]\n",
      "Individual: [63, 20, 3]\n",
      "Individual: [4, 1, 53]\n",
      "Individual: [63, 50, 3]\n",
      "Individual: [63, 50, 3]\n",
      "Generation 3\n",
      "Parents:\n",
      "Individual: [29, 20, 41] Fitness: 0.8152173757553101\n",
      "Individual: [4, 50, 3] Fitness: 0.8478260636329651\n",
      "Individual: [63, 58, 3] Fitness: 0.8260869383811951\n",
      "Individual: [4, 20, 53] Fitness: 0.8260869383811951\n",
      "Individual: [63, 20, 3] Fitness: 0.842391312122345\n",
      "Individual: [4, 1, 53] Fitness: 0.864130437374115\n",
      "Individual: [63, 50, 3] Fitness: 0.8695651888847351\n",
      "Individual: [63, 50, 3] Fitness: 0.83152174949646\n",
      "Children:\n",
      "Individual: [4, 1, 53]\n",
      "Individual: [4, 1, 53]\n",
      "Individual: [63, 50, 3]\n",
      "Individual: [4, 20, 3]\n",
      "Individual: [63, 50, 3]\n",
      "Individual: [4, 50, 3]\n",
      "Individual: [63, 1, 53]\n",
      "Individual: [4, 50, 3]\n",
      "Best individual: [4, 1, 53]\n"
     ]
    }
   ],
   "source": [
    "import numpy as np\n",
    "import tensorflow as tf\n",
    "from tensorflow.keras.models import Sequential\n",
    "from tensorflow.keras.layers import Dense\n",
    "from tensorflow.keras.optimizers import Adam\n",
    "from deap import base, creator, tools\n",
    "\n",
    "# Define evaluation function\n",
    "def evaluate(individual):\n",
    "    # Decode the individual to obtain the architecture\n",
    "    n_neurons_hidden1, n_neurons_hidden2, n_neurons_hidden3 = individual\n",
    "    # Construct the neural network\n",
    "    model = Sequential([\n",
    "        tf.keras.Input(shape=(n_new,), name=\"input_layer\"),\n",
    "        Dense(units=n_neurons_hidden1, activation=\"relu\", name=\"hidden_layer1\"),\n",
    "        Dense(units=n_neurons_hidden2, activation=\"relu\", name=\"hidden_layer2\"),\n",
    "        Dense(units=n_neurons_hidden3, activation=\"relu\", name=\"hidden_layer3\"),\n",
    "        Dense(units=1, activation=\"sigmoid\", name=\"output_layer\"),\n",
    "    ])\n",
    "    # Compile the model\n",
    "    model.compile(optimizer=Adam(learning_rate=0.01), loss=\"binary_crossentropy\", metrics=['accuracy'])\n",
    "    # Train the model\n",
    "    history = model.fit(x_train_new, y_train_new, batch_size=128, epochs=50, validation_data=(x_test_new, y_test_new), verbose=0)\n",
    "    # Evaluate the model\n",
    "    loss, accuracy = model.evaluate(x_test_new, y_test_new, verbose=0)\n",
    "    # Return negative accuracy as fitness (maximization problem)\n",
    "    return accuracy,\n",
    "\n",
    "# Define genetic algorithm parameters\n",
    "POP_SIZE = 8\n",
    "NUM_GENERATIONS = 3\n",
    "CROSSOVER_PROB = 1.0\n",
    "MUTATION_PROB = 0.2\n",
    "\n",
    "# Create a toolbox for the genetic algorithm\n",
    "creator.create(\"FitnessMax\", base.Fitness, weights=(1.0,))\n",
    "creator.create(\"Individual\", list, fitness=creator.FitnessMax)\n",
    "toolbox = base.Toolbox()\n",
    "toolbox.register(\"attr_int\", np.random.randint, low=1, high=100)\n",
    "toolbox.register(\"individual\", tools.initRepeat, creator.Individual, toolbox.attr_int, n=3)  # 3 parameters for the number of neurons in each hidden layer\n",
    "toolbox.register(\"population\", tools.initRepeat, list, toolbox.individual)\n",
    "toolbox.register(\"evaluate\", evaluate)\n",
    "toolbox.register(\"mate\", tools.cxTwoPoint)\n",
    "toolbox.register(\"mutate\", tools.mutUniformInt, low=1, up=100, indpb=0.2)\n",
    "toolbox.register(\"select\", tools.selTournament, tournsize=3)\n",
    "\n",
    "# Generate initial population\n",
    "population = toolbox.population(n=POP_SIZE)\n",
    "\n",
    "# Run the genetic algorithm\n",
    "for gen in range(NUM_GENERATIONS):\n",
    "    print(\"Generation\", gen + 1)\n",
    "\n",
    "    # Evaluate the fitness of the population\n",
    "    fitnesses = list(map(toolbox.evaluate, population))\n",
    "    for ind, fit in zip(population, fitnesses):\n",
    "        ind.fitness.values = fit\n",
    "\n",
    "    # Print the parents' values and fitness values\n",
    "    print(\"Parents:\")\n",
    "    for ind in population:\n",
    "        print(\"Individual:\", ind, \"Fitness:\", ind.fitness.values[0])\n",
    "\n",
    "    # Select parents for reproduction\n",
    "    offspring = toolbox.select(population, len(population))\n",
    "    offspring = list(map(toolbox.clone, offspring))\n",
    "\n",
    "    # Apply crossover and mutation\n",
    "    for child1, child2 in zip(offspring[::2], offspring[1::2]):\n",
    "        if np.random.rand() < CROSSOVER_PROB:\n",
    "            toolbox.mate(child1, child2)\n",
    "            del child1.fitness.values\n",
    "            del child2.fitness.values\n",
    "\n",
    "    for mutant in offspring:\n",
    "        if np.random.rand() < MUTATION_PROB:\n",
    "            toolbox.mutate(mutant)\n",
    "            del mutant.fitness.values\n",
    "\n",
    "    # Print the children's values\n",
    "    print(\"Children:\")\n",
    "    for ind in offspring:\n",
    "        print(\"Individual:\", ind)\n",
    "\n",
    "    # Replace the population with the offspring\n",
    "    population[:] = offspring\n",
    "\n",
    "# Get the best individual\n",
    "best_individual = tools.selBest(population, k=1)[0]\n",
    "print(\"Best individual:\", best_individual)\n"
   ]
  },
  {
   "cell_type": "markdown",
   "id": "a4cfb2dd",
   "metadata": {
    "papermill": {
     "duration": 0.107846,
     "end_time": "2024-02-15T10:57:10.561776",
     "exception": false,
     "start_time": "2024-02-15T10:57:10.453930",
     "status": "completed"
    },
    "tags": []
   },
   "source": [
    "As we can see from training the model with this new dataset, the model performs much better. Both the validation and training accuracy increase per epoch. However, after about 40 epochs, the model starts overfitting to the training data and thus the validation and training accuracy starts diverging. This was trained only for 100 epochs and yet it performed better, so from this we can conclude that the model failed to learn the patterns from the previous dataset is because the dataset is of low quality. The genetic algorithm is likely to improve the model a lot more if a it is run for more generations with a bigger population size and more hyperparameters are tested."
   ]
  },
  {
   "cell_type": "markdown",
   "id": "98c241fa",
   "metadata": {
    "papermill": {
     "duration": 0.109251,
     "end_time": "2024-02-15T10:57:10.780213",
     "exception": false,
     "start_time": "2024-02-15T10:57:10.670962",
     "status": "completed"
    },
    "tags": []
   },
   "source": [
    "# Training the Neural Network coded from scratch on the new dataset\n",
    "We've seen our tensorflow model perform much better on the new dataset. Now we will see how our neural network used in the first approach performs."
   ]
  },
  {
   "cell_type": "code",
   "execution_count": 29,
   "id": "fafec9dc",
   "metadata": {
    "execution": {
     "iopub.execute_input": "2024-02-15T10:57:11.001896Z",
     "iopub.status.busy": "2024-02-15T10:57:11.001535Z",
     "iopub.status.idle": "2024-02-15T10:57:16.201584Z",
     "shell.execute_reply": "2024-02-15T10:57:16.200709Z"
    },
    "papermill": {
     "duration": 5.31526,
     "end_time": "2024-02-15T10:57:16.203670",
     "exception": false,
     "start_time": "2024-02-15T10:57:10.888410",
     "status": "completed"
    },
    "tags": []
   },
   "outputs": [
    {
     "name": "stdout",
     "output_type": "stream",
     "text": [
      "Cost after iteration 0: 0.693147214548188\n",
      "Cost after iteration 100: 0.6914567664160254\n",
      "Cost after iteration 200: 0.6904319656431439\n",
      "Cost after iteration 300: 0.689810436168662\n",
      "Cost after iteration 400: 0.6894332885060412\n",
      "Cost after iteration 500: 0.6892043143089308\n",
      "Cost after iteration 600: 0.6890652336045588\n",
      "Cost after iteration 700: 0.6889807202461612\n",
      "Cost after iteration 800: 0.6889293473949845\n",
      "Cost after iteration 900: 0.6888981105688945\n",
      "Cost after iteration 1000: 0.6888791127032516\n",
      "Cost after iteration 1100: 0.6888675561291318\n",
      "Cost after iteration 1200: 0.6888605249445937\n",
      "Cost after iteration 1300: 0.6888562463840541\n",
      "Cost after iteration 1400: 0.6888536423801755\n",
      "Cost after iteration 1500: 0.6888520572300743\n",
      "Cost after iteration 1600: 0.6888510920706812\n",
      "Cost after iteration 1700: 0.6888505041682214\n",
      "Cost after iteration 1800: 0.6888501458461407\n",
      "Cost after iteration 1900: 0.6888499272704893\n",
      "Cost after iteration 1999: 0.6888497947752762\n"
     ]
    },
    {
     "data": {
      "image/png": "[encoded data removed]",
      "text/plain": [
       "<Figure size 640x480 with 1 Axes>"
      ]
     },
     "metadata": {},
     "output_type": "display_data"
    }
   ],
   "source": [
    "### Layers ###\n",
    "layers_dims_new = [20, 32, 16, 8, 1] #Specify the number of neurons in each layer\n",
    "#Train the model\n",
    "parameters_new, costs_new = L_layer_model(x_train_new.T, y_train_new.T, layers_dims_new, num_iterations = 2000, print_cost = True, learning_rate=0.01)\n",
    "#Plot the graph of cost against iteration\n",
    "plot_costs(costs_new, learning_rate=0.01)"
   ]
  },
  {
   "cell_type": "markdown",
   "id": "5f430969",
   "metadata": {
    "papermill": {
     "duration": 0.15662,
     "end_time": "2024-02-15T10:57:16.471395",
     "exception": false,
     "start_time": "2024-02-15T10:57:16.314775",
     "status": "completed"
    },
    "tags": []
   },
   "source": [
    "As we can see from the results, the cost tapers off and stops decreasing after some iterations. This is most likely because of a gradient vanishing problem where the gradient descent is stuck in a local minima. Since we did not use any optimisation such as momentum for this network, the model is not escaping the local minima. It is possible that if we run the model for a lot more iterations, it will be able to break out from this local minimum and fall into the global basin."
   ]
  },
  {
   "cell_type": "code",
   "execution_count": 30,
   "id": "ed66a6af",
   "metadata": {
    "execution": {
     "iopub.execute_input": "2024-02-15T10:57:16.696296Z",
     "iopub.status.busy": "2024-02-15T10:57:16.695897Z",
     "iopub.status.idle": "2024-02-15T10:57:16.706031Z",
     "shell.execute_reply": "2024-02-15T10:57:16.705080Z"
    },
    "papermill": {
     "duration": 0.124463,
     "end_time": "2024-02-15T10:57:16.708076",
     "exception": false,
     "start_time": "2024-02-15T10:57:16.583613",
     "status": "completed"
    },
    "tags": []
   },
   "outputs": [
    {
     "name": "stdout",
     "output_type": "stream",
     "text": [
      "Accuracy: 0.5463215258855586\n",
      "Accuracy: 0.5815217391304348\n"
     ]
    }
   ],
   "source": [
    "#predicting on the train set\n",
    "predictions_train_new = predict(x_train_new.T, y_train_new.T, parameters_new)\n",
    "#predicting on the test set\n",
    "predictions_test_new = predict(x_test_new.T, y_test_new.T, parameters_new)"
   ]
  },
  {
   "cell_type": "markdown",
   "id": "e5556015",
   "metadata": {
    "papermill": {
     "duration": 0.114144,
     "end_time": "2024-02-15T10:57:16.994728",
     "exception": false,
     "start_time": "2024-02-15T10:57:16.880584",
     "status": "completed"
    },
    "tags": []
   },
   "source": [
    "As the model is stuck in a local minima, the accuracy of the model is quite low."
   ]
  }
 ],
 "metadata": {
  "kaggle": {
   "accelerator": "nvidiaTeslaT4",
   "dataSources": [
    {
     "datasetId": 3786485,
     "sourceId": 6552418,
     "sourceType": "datasetVersion"
    },
    {
     "datasetId": 1582403,
     "sourceId": 2603715,
     "sourceType": "datasetVersion"
    }
   ],
   "dockerImageVersionId": 30627,
   "isGpuEnabled": true,
   "isInternetEnabled": true,
   "language": "python",
   "sourceType": "notebook"
  },
  "kernelspec": {
   "display_name": "Python 3",
   "language": "python",
   "name": "python3"
  },
  "language_info": {
   "codemirror_mode": {
    "name": "ipython",
    "version": 3
   },
   "file_extension": ".py",
   "mimetype": "text/x-python",
   "name": "python",
   "nbconvert_exporter": "python",
   "pygments_lexer": "ipython3",
   "version": "3.10.12"
  },
  "papermill": {
   "default_parameters": {},
   "duration": 288.951715,
   "end_time": "2024-02-15T10:57:20.132770",
   "environment_variables": {},
   "exception": null,
   "input_path": "__notebook__.ipynb",
   "output_path": "__notebook__.ipynb",
   "parameters": {},
   "start_time": "2024-02-15T10:52:31.181055",
   "version": "2.4.0"
  }
 },
 "nbformat": 4,
 "nbformat_minor": 5
}
